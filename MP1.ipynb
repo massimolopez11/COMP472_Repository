{
 "cells": [
  {
   "cell_type": "markdown",
   "metadata": {},
   "source": [
    "# Mini Project 1"
   ]
  },
  {
   "cell_type": "code",
   "execution_count": 2,
   "metadata": {},
   "outputs": [
    {
     "name": "stdout",
     "output_type": "stream",
     "text": [
      "Hello MP1!\n"
     ]
    }
   ],
   "source": [
    "print('Hello MP1!')\n"
   ]
  },
  {
   "cell_type": "markdown",
   "metadata": {},
   "source": [
    "### Imported libraries used for the project\n",
    "1. jupiter\n",
    "2. scikit-learn\n",
    "3. gensim\n",
    "4. nltk\n",
    "5. numpy\n",
    "6. pandas\n",
    "7. matplotlib\n",
    "\n",
    "`conda install jupiter scikit-learn gensim nltk numpy pandas matplotlib`"
   ]
  },
  {
   "cell_type": "markdown",
   "metadata": {},
   "source": [
    "## 1. Dataset Preparation & Analysis (5pts)"
   ]
  },
  {
   "cell_type": "markdown",
   "metadata": {},
   "source": [
    "1.2. Load the dataset. You can use `gzip.open` and `json.load` to do that."
   ]
  },
  {
   "cell_type": "code",
   "execution_count": 3,
   "metadata": {},
   "outputs": [],
   "source": [
    "import gzip\n",
    "import json\n",
    "\n",
    "dataset = gzip.open('goemotions.json.gz')\n",
    "dataset_json = json.load(dataset)\n",
    "\n",
    "# Close the gz dataset once your finished loading the data as a json object\n",
    "dataset.close()\n"
   ]
  },
  {
   "cell_type": "markdown",
   "metadata": {},
   "source": [
    "1.3. (5pts) Extract the posts and the 2 sets of labels (emotion and sentiment), then plot the distribution\n",
    "of the posts in each category and save the graphic (a histogram or pie chart) in pdf. Do this for both\n",
    "the emotion and the sentiment categories. You can use `matplotlib.pyplot` and `savefig` to do this.\n",
    "This pre-analysis of the dataset will allow you to determine if the classes are balanced, and which\n",
    "metric is more appropriate to use to evaluate the performance of your classifiers."
   ]
  },
  {
   "cell_type": "code",
   "execution_count": 4,
   "metadata": {},
   "outputs": [],
   "source": [
    "import matplotlib.pyplot as plt\n",
    "import numpy as np\n",
    "from collections import Counter\n",
    "\n",
    "\n",
    "numpy_dataset = np.array(dataset_json)\n",
    "\n",
    "# Get column only for emotion and sentiment\n",
    "emotion_dataset_col = numpy_dataset[:, 1]\n",
    "sentiment_dataset_col = numpy_dataset[:, 2]\n",
    "\n",
    "# Count the number of times each value appears\n",
    "emotion_count = Counter(emotion_dataset_col)\n",
    "sentiment_count = Counter(sentiment_dataset_col)\n",
    "\n",
    "# Save the data values as a histogram\n",
    "plt.hist(emotion_count.values())\n",
    "plt.savefig('emotions_graph')\n",
    "\n",
    "plt.close()\n",
    "\n",
    "\n",
    "plt.hist(sentiment_count.values())\n",
    "plt.savefig('sentiment_graph')\n",
    "\n",
    "plt.close()\n"
   ]
  },
  {
   "cell_type": "markdown",
   "metadata": {},
   "source": [
    "## 2. Words as Features (35pts)"
   ]
  },
  {
   "cell_type": "markdown",
   "metadata": {},
   "source": [
    "2.1. □ (5pts) Process the dataset using `feature_extraction.text.CountVectorizer` to extract tokens/words\n",
    "and their frequencies. Display the number of tokens (the size of the vocabulary) in the dataset."
   ]
  },
  {
   "cell_type": "code",
   "execution_count": 5,
   "metadata": {},
   "outputs": [
    {
     "name": "stdout",
     "output_type": "stream",
     "text": [
      "Number of features (tokens in the vocabulary) = 30449\n"
     ]
    }
   ],
   "source": [
    "from sklearn.feature_extraction.text import CountVectorizer\n",
    "import pandas as pd\n",
    "\n",
    "\n",
    "# Phrases are in the first column of the dataset\n",
    "phrases = numpy_dataset[:, 0]\n",
    "\n",
    "# Process the dataset\n",
    "vectorizer_emotions = CountVectorizer()\n",
    "\n",
    "# X value is the processed_dataset\n",
    "X_emotions = vectorizer_emotions.fit_transform(phrases)\n",
    "\n",
    "print(\"Number of features (tokens in the vocabulary) =\",\n",
    "      len(vectorizer_emotions.get_feature_names_out()))\n"
   ]
  },
  {
   "cell_type": "code",
   "execution_count": 6,
   "metadata": {},
   "outputs": [
    {
     "name": "stdout",
     "output_type": "stream",
     "text": [
      "Number of features (tokens in the vocabulary) including emotions = 30450\n"
     ]
    }
   ],
   "source": [
    "emotions = numpy_dataset[:, 1]\n",
    "\n",
    "emotions_and_phrases = phrases.copy()\n",
    "\n",
    "for count, i in enumerate(phrases):\n",
    "    emotions_and_phrases[count] = i + \" \" + emotions[count]\n",
    "\n",
    "\n",
    "vectorizer_sentiments = CountVectorizer()\n",
    "X_sentiments = vectorizer_sentiments.fit_transform(emotions_and_phrases)\n",
    "\n",
    "print(\"Number of features (tokens in the vocabulary) including emotions =\",\n",
    "      len(vectorizer_sentiments.get_feature_names_out()))\n"
   ]
  },
  {
   "cell_type": "markdown",
   "metadata": {},
   "source": [
    "2.2. □ (2pts) Split the dataset into 80% for training and 20% for testing. For this, you can use `train_test_split`."
   ]
  },
  {
   "cell_type": "code",
   "execution_count": 7,
   "metadata": {},
   "outputs": [
    {
     "name": "stdout",
     "output_type": "stream",
     "text": [
      "Size of training set = 137456\n",
      "Size of testing set = 34364\n"
     ]
    }
   ],
   "source": [
    "# Split the dataset\n",
    "from sklearn.model_selection import train_test_split\n",
    "\n",
    "\n",
    "# Split the dataset\n",
    "training_dataset, testing_dataset = train_test_split(\n",
    "    numpy_dataset, train_size=0.8, test_size=0.2)\n",
    "\n",
    "# Split the feature vector of emotions\n",
    "training_X_emotions, testing_X_emotions = train_test_split(\n",
    "    X_emotions, train_size=0.8, test_size=0.2)\n",
    "\n",
    "# Split the feature vector of sentiments\n",
    "training_X_sentiments, testing_X_sentiments = train_test_split(\n",
    "    X_sentiments, train_size=0.8, test_size=0.2)\n",
    "\n",
    "# Print the size of both datasets\n",
    "print(\"Size of training set =\", training_dataset.shape[0])\n",
    "print(\"Size of testing set =\", testing_dataset.shape[0])\n"
   ]
  },
  {
   "cell_type": "markdown",
   "metadata": {},
   "source": [
    "2.3. Train and test the following classifiers, for both the emotion and the sentiment classification, using\n",
    "word frequency as features."
   ]
  },
  {
   "cell_type": "markdown",
   "metadata": {},
   "source": [
    "* 2.3.1. □ (3pts) **Base-MNB**: a Multinomial Naive Bayes Classifier `(naive_bayes.MultinomialNB.html)`\n",
    "with the default parameters."
   ]
  },
  {
   "cell_type": "code",
   "execution_count": null,
   "metadata": {},
   "outputs": [
    {
     "name": "stdout",
     "output_type": "stream",
     "text": [
      "['neutral' 'neutral' 'neutral' ... 'neutral' 'neutral' 'neutral']\n"
     ]
    }
   ],
   "source": [
    "from sklearn.naive_bayes import MultinomialNB\n",
    "\n",
    "\n",
    "# Create the object classifiers for emotions\n",
    "emotions_classifier_mb = MultinomialNB()\n",
    "\n",
    "# Fit the model with training_X as X and columns of training_dataset as y\n",
    "emotions_classifier_mb.fit(X=training_X_emotions,\n",
    "                           y=training_dataset[:, 1])\n",
    "\n",
    "# Make predictions with testing_X as X\n",
    "emotion_prediction_mb = emotions_classifier_mb.predict(X=testing_X_emotions)\n",
    "print(emotion_prediction_mb)\n"
   ]
  },
  {
   "cell_type": "code",
   "execution_count": null,
   "metadata": {},
   "outputs": [
    {
     "name": "stdout",
     "output_type": "stream",
     "text": [
      "['positive' 'neutral' 'positive' ... 'positive' 'positive' 'neutral']\n"
     ]
    }
   ],
   "source": [
    "# Create the object classifiers for sentiments\n",
    "sentiment_classifier_mb = MultinomialNB()\n",
    "\n",
    "# Fit the model with training_X as X and columns of training_dataset as y\n",
    "sentiment_classifier_mb.fit(X=training_X_sentiments,\n",
    "                            y=training_dataset[:, 2])\n",
    "\n",
    "# Make predictions with testing_X as X\n",
    "sentiment_prediction_mb = sentiment_classifier_mb.predict(\n",
    "    X=testing_X_sentiments)\n",
    "print(sentiment_prediction_mb)\n"
   ]
  },
  {
   "cell_type": "code",
   "execution_count": null,
   "metadata": {},
   "outputs": [],
   "source": [
    "# Part 2.4 for Multinomial classification\n",
    "from sklearn.metrics import confusion_matrix\n",
    "from sklearn.metrics import classification_report\n",
    "\n",
    "# Append Emotions results\n",
    "performance_file = open(\"performance\", \"w\")\n",
    "performance_file.write(\n",
    "    \"-----Emotions classification (Multinomial Naive Bayes)-----\\n\")\n",
    "\n",
    "performance_file.write(\n",
    "    f\"Emotions hyperparameters = {emotions_classifier_mb.n_features_in_}\\n\")\n",
    "\n",
    "confusion_matrix_output = confusion_matrix(\n",
    "    y_true=testing_dataset[:, 1], y_pred=emotion_prediction_mb)\n",
    "performance_file.write(f\"Confusion Matrix = \\n{confusion_matrix_output}\\n\\n\")\n",
    "\n",
    "class_report = classification_report(\n",
    "    y_true=testing_dataset[:, 1], y_pred=emotion_prediction_mb, zero_division=0)\n",
    "performance_file.write(f\"Classification Report = \\n{class_report}\\n\")\n",
    "performance_file.write(\n",
    "    f\"----------------------------------------------------------\\n\\n\")\n",
    "\n",
    "performance_file.close()\n"
   ]
  },
  {
   "cell_type": "code",
   "execution_count": null,
   "metadata": {},
   "outputs": [],
   "source": [
    "# Append Sentiments results\n",
    "performance_file = open(\"performance\", \"a\")\n",
    "performance_file.write(\n",
    "    \"-----Sentiments classification (Multinomial Naive Bayes)-----\\n\")\n",
    "\n",
    "performance_file.write(\n",
    "    f\"Sentiments hyperparameters = {sentiment_classifier_mb.n_features_in_}\\n\")\n",
    "\n",
    "confusion_matrix_output = confusion_matrix(\n",
    "    y_true=testing_dataset[:, 1], y_pred=sentiment_prediction_mb)\n",
    "performance_file.write(f\"Confusion Matrix = \\n{confusion_matrix_output}\\n\\n\")\n",
    "\n",
    "class_report = classification_report(\n",
    "    y_true=testing_dataset[:, 1], y_pred=sentiment_prediction_mb, zero_division=0)\n",
    "performance_file.write(f\"Classification Report = \\n{class_report}\\n\")\n",
    "performance_file.write(\n",
    "    f\"----------------------------------------------------------\\n\\n\")\n",
    "\n",
    "performance_file.close()\n"
   ]
  },
  {
   "cell_type": "markdown",
   "metadata": {},
   "source": [
    "* 2.3.2. □ (3pts) **Base-DT:** a Decision Tree `(tree.DecisionTreeClassifier)` with the default parameters."
   ]
  },
  {
   "cell_type": "code",
   "execution_count": 22,
   "metadata": {},
   "outputs": [
    {
     "name": "stdout",
     "output_type": "stream",
     "text": [
      "['curiosity' 'neutral' 'neutral' ... 'optimism' 'admiration' 'admiration']\n"
     ]
    }
   ],
   "source": [
    "from sklearn.tree import DecisionTreeClassifier\n",
    "\n",
    "\n",
    "# Create the object classifiers for emotions\n",
    "emotions_classifier_dt = DecisionTreeClassifier()\n",
    "\n",
    "# Fit the model with training_X as X and columns of training_dataset as y\n",
    "emotions_classifier_dt.fit(X=training_X_emotions,\n",
    "                           y=training_dataset[:, 1])\n",
    "\n",
    "# Make predictions with testing_X as X\n",
    "emotion_prediction_dt = emotions_classifier_dt.predict(X=testing_X_emotions)\n",
    "print(emotion_prediction_dt)\n"
   ]
  },
  {
   "cell_type": "code",
   "execution_count": 23,
   "metadata": {},
   "outputs": [
    {
     "name": "stdout",
     "output_type": "stream",
     "text": [
      "['positive' 'negative' 'positive' ... 'neutral' 'negative' 'negative']\n"
     ]
    }
   ],
   "source": [
    "# Create the object classifiers for sentiments\n",
    "sentiment_classifier_dt = DecisionTreeClassifier()\n",
    "\n",
    "# Fit the model with training_X as X and columns of training_dataset as y\n",
    "sentiment_classifier_dt.fit(X=training_X_sentiments,\n",
    "                            y=training_dataset[:, 2])\n",
    "\n",
    "# Make predictions with testing_X as X\n",
    "sentiment_prediction_dt = sentiment_classifier_dt.predict(\n",
    "    X=testing_X_sentiments)\n",
    "print(sentiment_prediction_dt)\n"
   ]
  },
  {
   "cell_type": "code",
   "execution_count": 24,
   "metadata": {},
   "outputs": [],
   "source": [
    "# Part 2.4 for DecisionTree classification\n",
    "\n",
    "\n",
    "# Append Emotions results\n",
    "performance_file = open(\"performance\", \"a\")\n",
    "performance_file.write(\"-----Emotions classification (Decision Tree)-----\\n\")\n",
    "\n",
    "performance_file.write(\n",
    "    f\"Emotions hyperparameters = {emotions_classifier_dt.n_features_in_}\\n\")\n",
    "\n",
    "confusion_matrix_output = confusion_matrix(\n",
    "    y_true=testing_dataset[:, 1], y_pred=emotion_prediction_dt)\n",
    "performance_file.write(f\"Confusion Matrix = \\n{confusion_matrix_output}\\n\\n\")\n",
    "\n",
    "class_report = classification_report(\n",
    "    y_true=testing_dataset[:, 1], y_pred=emotion_prediction_dt, zero_division=0)\n",
    "performance_file.write(f\"Classification Report = \\n{class_report}\\n\")\n",
    "performance_file.write(\n",
    "    f\"----------------------------------------------------------\\n\\n\")\n",
    "performance_file.close()\n"
   ]
  },
  {
   "cell_type": "code",
   "execution_count": 25,
   "metadata": {},
   "outputs": [],
   "source": [
    "\n",
    "# Append Sentiments results\n",
    "performance_file = open(\"performance\", \"a\")\n",
    "performance_file.write(\n",
    "    \"-----Sentiments classification (Decision Tree)-----\\n\")\n",
    "\n",
    "performance_file.write(\n",
    "    f\"Sentiments hyperparameters = {sentiment_classifier_dt.n_features_in_}\\n\")\n",
    "\n",
    "confusion_matrix_output = confusion_matrix(\n",
    "    y_true=testing_dataset[:, 1], y_pred=sentiment_prediction_dt)\n",
    "performance_file.write(f\"Confusion Matrix = \\n{confusion_matrix_output}\\n\\n\")\n",
    "\n",
    "class_report = classification_report(\n",
    "    y_true=testing_dataset[:, 1], y_pred=sentiment_prediction_dt, zero_division=0)\n",
    "performance_file.write(f\"Classification Report = \\n{class_report}\\n\")\n",
    "performance_file.write(\n",
    "    f\"----------------------------------------------------------\\n\\n\")\n",
    "\n",
    "performance_file.close()\n"
   ]
  },
  {
   "cell_type": "markdown",
   "metadata": {},
   "source": [
    "* 2.3.3. □ (3pts) **Base-MLP:** a Multi-Layered Perceptron `(neural network.MLPClassifier)` with the\n",
    "default parameters."
   ]
  },
  {
   "cell_type": "markdown",
   "metadata": {},
   "source": [
    "* 2.3.4. □ (3pts) **Top-MNB:** a better performing Multinomial Naive Bayes Classifier found using `GridSearchCV`.\n",
    "The gridsearch will allow you to find the best combination of hyper-parameters, as determined\n",
    "by the evaluation function that you have determined in step 1.3. The only hyper-parameter that\n",
    "you will experiment with is `alphafloat` with values 0.5, 0 and 2 other values of your choice."
   ]
  },
  {
   "cell_type": "markdown",
   "metadata": {},
   "source": [
    "* 2.3.5. □ (3pts) **Top-DT:** a better performing Decision Tree found using `GridSearchCV.` The hyperparameters\n",
    "that you will experiment with are:\n",
    "  * `criterion:` gini or entropy\n",
    "  * `max depth:` 2 different values of your choice\n",
    "  * `min samples split:` 3 different values of your choice"
   ]
  },
  {
   "cell_type": "markdown",
   "metadata": {},
   "source": [
    "* 2.3.6. □ (3pts) **Top-MLP:** a better performing Multi-Layered Perceptron found using GridSearchCV.\n",
    "The hyper-parameters that you will experiment with are:\n",
    "    * `activation:` sigmoid, tanh, relu and identity\n",
    "    * 2 network architectures of your choice: for eg, 2 hidden layers with 30+50 nodes and 3 hidden\n",
    "layers with 10 + 10 + 10\n",
    "    * `solver:` Adam and stochastic gradient descent"
   ]
  },
  {
   "cell_type": "markdown",
   "metadata": {},
   "source": [
    "2.4. □ (5pts) For each of the 6 classifiers above and each of the classification tasks (emotion or sentiment),\n",
    "produce and save the following information in a file called `performance`:\n",
    "* a string clearly describing the model (e.g. the model name + hyper-parameter values) and the\n",
    "classification task (emotion or sentiment)\n",
    "* the confusion matrix – use `metrics.confusion_matrix`\n",
    "* the precision, recall, and F1-measure for each class, and the accuracy, macro-"
   ]
  },
  {
   "cell_type": "markdown",
   "metadata": {},
   "source": [
    "2.5. □ (7.5pts) **Do your own exploration:** Do only one of the following, depending on your own interest:\n",
    "* Use tf-idf instead of word frequencies and redo all substeps of 2.3 above – you can use `TfidfTransformer`\n",
    "for this. Display the results of this experiment.\n",
    "* Remove stop words and redo all substeps of 2.3 above – you can use the parameter of `CountVectorizer`\n",
    "for this. Display the results of this experiment.\n",
    "* Play with `train_test_split` in order have different splits of 80% training, 20% test sets and\n",
    "different sizes of training sets and redo all substeps of 2.3 above. Show and explain how the\n",
    "performance of your models vary depending on the training/test sets are used."
   ]
  },
  {
   "cell_type": "markdown",
   "metadata": {},
   "source": [
    "## 3. Embeddings as Features (20pts)"
   ]
  },
  {
   "cell_type": "markdown",
   "metadata": {},
   "source": [
    "3.1. □ (0pts) Use `gensim.downloader.load` to load the `word2vec-google-news-300` pretrained embedding model."
   ]
  },
  {
   "cell_type": "code",
   "execution_count": 1,
   "metadata": {},
   "outputs": [
    {
     "name": "stderr",
     "output_type": "stream",
     "text": [
      "[nltk_data] Downloading package punkt to\n",
      "[nltk_data]     C:\\Users\\mlope\\AppData\\Roaming\\nltk_data...\n",
      "[nltk_data]   Unzipping tokenizers\\punkt.zip.\n"
     ]
    },
    {
     "data": {
      "text/plain": [
       "True"
      ]
     },
     "execution_count": 1,
     "metadata": {},
     "output_type": "execute_result"
    }
   ],
   "source": [
    "# Incase its the first time running\n",
    "# import nltk\n",
    "\n",
    "# nltk.download('punkt')\n"
   ]
  },
  {
   "cell_type": "code",
   "execution_count": 8,
   "metadata": {},
   "outputs": [],
   "source": [
    "import gensim.downloader\n",
    "google_model = gensim.downloader.load(\"word2vec-google-news-300\")\n"
   ]
  },
  {
   "cell_type": "markdown",
   "metadata": {},
   "source": [
    "3.2. □ (2pts) Use the `tokenizer` from `nltk` to extract words from the Reddit posts. Display the number\n",
    "of tokens in the training set."
   ]
  },
  {
   "cell_type": "code",
   "execution_count": 9,
   "metadata": {},
   "outputs": [],
   "source": [
    "import nltk.tokenize\n",
    "\n",
    "\n",
    "reddit_vector = [nltk.tokenize.word_tokenize(i) for i in phrases]\n"
   ]
  },
  {
   "cell_type": "code",
   "execution_count": 10,
   "metadata": {},
   "outputs": [
    {
     "name": "stdout",
     "output_type": "stream",
     "text": [
      "Number of Tokens = 2642128\n"
     ]
    }
   ],
   "source": [
    "# Get the token count\n",
    "token_count = 0\n",
    "for i in reddit_vector:\n",
    "    token_count += len(i)\n",
    "\n",
    "print(\"Number of Tokens =\", token_count)\n"
   ]
  },
  {
   "cell_type": "markdown",
   "metadata": {},
   "source": [
    "3.3. □ (5pts) Compute the embedding of a Reddit post as the <u>average</u> of the embeddings of its words. If\n",
    "a word has no embedding in Word2Vec, skip it."
   ]
  },
  {
   "cell_type": "code",
   "execution_count": 21,
   "metadata": {},
   "outputs": [
    {
     "name": "stdout",
     "output_type": "stream",
     "text": [
      "The mean embedding for '['That', 'game', 'hurt', '.']'\n",
      " = \n",
      "[-0.00249175  0.03335912  0.04454305  0.02014099 -0.005342    0.03958913\n",
      "  0.04116163 -0.03550375  0.04966702  0.08322471  0.02130005 -0.07371153\n",
      "  0.02242474 -0.02079816 -0.03720252  0.01349978  0.06466671  0.02539938\n",
      "  0.03124769 -0.04660584  0.02208368  0.0440758   0.02905092 -0.03239964\n",
      " -0.01410932 -0.01994989 -0.05039005 -0.03178651  0.05876349  0.0290636\n",
      "  0.00571934  0.00895379  0.03168915 -0.0298906   0.04790528  0.03915513\n",
      "  0.00097203  0.05557248  0.03150231  0.09819147  0.06256143  0.00659081\n",
      "  0.07235992 -0.03676999 -0.04593803 -0.01758593  0.00756323 -0.0163933\n",
      "  0.07148833  0.06899618 -0.03733969  0.0571317   0.0141902  -0.02753571\n",
      "  0.02445936 -0.00438119  0.03252912 -0.01304839  0.02398836 -0.04210209\n",
      " -0.02512687  0.01739748 -0.03247805 -0.03073107 -0.02493709  0.00965649\n",
      "  0.01314632 -0.01541938  0.035196   -0.00662027  0.00404124 -0.01152261\n",
      " -0.00373993  0.00676702 -0.05968076 -0.02077763  0.01960778  0.02665194\n",
      "  0.04934242  0.03286087 -0.00358549 -0.02020391 -0.01277085  0.04611142\n",
      " -0.01156104 -0.05380567 -0.04473747  0.10478894 -0.01476865 -0.04652476\n",
      "  0.0513925   0.06276413 -0.01640883 -0.03518619  0.03357546 -0.08012488\n",
      "  0.03602529  0.03914875 -0.05042545  0.02777709 -0.03823971 -0.00233064\n",
      "  0.02212992  0.04728715  0.00724917 -0.02617091 -0.02022389 -0.02808157\n",
      " -0.03110458 -0.07050966  0.01329244 -0.01850743 -0.0157438   0.00132032\n",
      "  0.08848575  0.01208941  0.01096915  0.03628827 -0.01538769  0.02639068\n",
      " -0.06268247  0.00893231 -0.0243115   0.04733441 -0.04792294 -0.08527315\n",
      " -0.0400724  -0.04964888 -0.01627204 -0.04178701 -0.03924759 -0.04478179\n",
      " -0.03186668 -0.0246244   0.02232987 -0.06810149 -0.01885525  0.04647717\n",
      " -0.10478294 -0.0184966   0.01554239 -0.00555302  0.0119286  -0.01958156\n",
      " -0.03096304  0.01767384  0.04518135 -0.08369892 -0.05761333 -0.01360685\n",
      "  0.03244697  0.00962497 -0.03284898  0.0695658  -0.00819155  0.0049022\n",
      "  0.01391638 -0.05810474 -0.04824968 -0.01793762  0.00629993  0.03730199\n",
      "  0.05471173  0.00376763 -0.01347602 -0.00826671  0.01262126  0.00946809\n",
      " -0.00681169  0.02891414 -0.10692469 -0.03051915  0.00623539 -0.07465225\n",
      " -0.00921978  0.01100389  0.07550498 -0.01089673 -0.03722653 -0.03749289\n",
      " -0.00470189 -0.03980016  0.04746761  0.0184883  -0.00881795  0.04883808\n",
      "  0.01477486  0.03061822  0.01822724 -0.01792307  0.03923236 -0.06043017\n",
      "  0.04827474  0.00674134 -0.03751291  0.03607539 -0.03169389  0.02281223\n",
      " -0.02227331 -0.03118408 -0.01411228 -0.01531994  0.00549212  0.04777965\n",
      " -0.00860038 -0.02893278 -0.02907865 -0.01632735  0.01092615 -0.03254443\n",
      "  0.0011905   0.09908938 -0.0219414   0.07959646 -0.04463093  0.01140917\n",
      "  0.01682012 -0.0245498  -0.07978372 -0.00871313  0.04979068  0.00237388\n",
      "  0.02210498 -0.05663959  0.05302635 -0.05456446  0.01173589  0.03981446\n",
      "  0.01133381  0.04363532  0.00130429  0.05774437  0.00552836 -0.00169738\n",
      "  0.02296545  0.02611551 -0.00668485 -0.06628653  0.03660766  0.03351501\n",
      "  0.0258938  -0.01233957  0.00446525 -0.12416187 -0.0344753   0.00514842\n",
      " -0.02025007 -0.00588642  0.02411735 -0.03342194  0.02014761  0.01075219\n",
      "  0.04318827  0.01718008 -0.00329001 -0.059223    0.04618682  0.00848294\n",
      "  0.00182661 -0.05486212 -0.05726056  0.03527709 -0.01561668  0.01648054\n",
      " -0.03904255  0.0415525  -0.00236774 -0.03277769 -0.03756276 -0.01128171\n",
      " -0.04442312  0.05819843  0.01035706 -0.05398923  0.028562   -0.05636169\n",
      "  0.02026398 -0.03551191 -0.00744953 -0.01653834  0.01990614  0.03437635\n",
      "  0.03919343  0.00798591  0.01927637 -0.05621372 -0.013783    0.02621445\n",
      " -0.00736217 -0.0095645  -0.02297354  0.02559571 -0.06697146 -0.00588803\n",
      " -0.01170105 -0.00765859 -0.02889291 -0.01405016  0.02272082 -0.0487665 ]\n"
     ]
    }
   ],
   "source": [
    "from statistics import mean\n",
    "from gensim.models import Word2Vec, KeyedVectors\n",
    "\n",
    "\n",
    "mean_embedding_list_emotions = []\n",
    "for i in reddit_vector:\n",
    "    mean_embedding_list_emotions.append(google_model.get_mean_vector(i))\n",
    "\n",
    "\n",
    "# Test to get the average embedding for a word with index i\n",
    "i = 0\n",
    "print(\n",
    "    f\"The mean embedding for '{reddit_vector[i]}'\\n = \\n{mean_embedding_list_emotions[i]}\")\n"
   ]
  },
  {
   "cell_type": "markdown",
   "metadata": {},
   "source": [
    "3.4. □ (3pts) Compute and display the overall hit rates of the training and test sets (i.e. the % of words\n",
    "in the Reddit posts for which an embedding is found in Word2Vec).\n"
   ]
  },
  {
   "cell_type": "code",
   "execution_count": 22,
   "metadata": {},
   "outputs": [],
   "source": [
    "# Split the embedding/reddit phrases\n",
    "training_reddit_vector, testing_reddit_vector = train_test_split(\n",
    "    reddit_vector, train_size=0.8, test_size=0.2)\n",
    "\n",
    "training_X_emotions_emb, testing_X_emotions_emb = train_test_split(\n",
    "    mean_embedding_list_emotions, train_size=0.8, test_size=0.2)\n"
   ]
  },
  {
   "cell_type": "code",
   "execution_count": 25,
   "metadata": {},
   "outputs": [
    {
     "name": "stdout",
     "output_type": "stream",
     "text": [
      "Hit Rate in training set= 77.4334307210221%\n",
      "Hit Rate in testing set= 77.51949871270635%\n"
     ]
    }
   ],
   "source": [
    "# Hit Rate for training set\n",
    "num_of_hits = 0\n",
    "total = 0\n",
    "\n",
    "for i in training_reddit_vector:\n",
    "    for word in i:\n",
    "        try:\n",
    "            # pdb.set_trace()\n",
    "            google_model.key_to_index[word]\n",
    "            num_of_hits += 1\n",
    "        except Exception:\n",
    "            pass\n",
    "        total += 1\n",
    "\n",
    "# Print the hit rate for training set\n",
    "print(f\"Hit Rate in training set = {num_of_hits/total*100}%\")\n",
    "\n",
    "\n",
    "# Hit Rate for testing set\n",
    "num_of_hits = 0\n",
    "total = 0\n",
    "\n",
    "for i in testing_reddit_vector:\n",
    "    for word in i:\n",
    "        try:\n",
    "            # pdb.set_trace()\n",
    "            google_model.key_to_index[word]\n",
    "            num_of_hits += 1\n",
    "        except Exception:\n",
    "            pass\n",
    "        total += 1\n",
    "\n",
    "# Print the hit rate for testing set\n",
    "print(f\"Hit Rate in testing set = {num_of_hits/total*100}%\")\n"
   ]
  },
  {
   "cell_type": "markdown",
   "metadata": {},
   "source": [
    "3.5. □ (3pts) **Train a Base-MLP:** a Multi-Layered Perceptron (`neural_network.MLPClassifier`) with\n",
    "the default parameters."
   ]
  },
  {
   "cell_type": "code",
   "execution_count": 26,
   "metadata": {},
   "outputs": [
    {
     "name": "stderr",
     "output_type": "stream",
     "text": [
      "c:\\Users\\mlope\\miniconda3\\lib\\site-packages\\sklearn\\neural_network\\_multilayer_perceptron.py:702: ConvergenceWarning: Stochastic Optimizer: Maximum iterations (200) reached and the optimization hasn't converged yet.\n",
      "  warnings.warn(\n"
     ]
    },
    {
     "name": "stdout",
     "output_type": "stream",
     "text": [
      "['neutral' 'neutral' 'neutral' ... 'neutral' 'neutral' 'neutral']\n"
     ]
    }
   ],
   "source": [
    "from sklearn.neural_network import MLPClassifier\n",
    "\n",
    "\n",
    "emotions_classifier_mlp_embedding = MLPClassifier()\n",
    "\n",
    "# Fit the model with training_X as X and columns of training_dataset as y\n",
    "emotions_classifier_mlp_embedding.fit(X=training_X_emotions_emb,\n",
    "                                      y=training_dataset[:, 1])\n",
    "\n",
    "# Make predictions with testing_X as X\n",
    "emotion_prediction_mlp_embedding = emotions_classifier_mlp_embedding.predict(\n",
    "    X=testing_X_emotions_emb)\n",
    "print(emotion_prediction_mlp_embedding)\n"
   ]
  },
  {
   "cell_type": "markdown",
   "metadata": {},
   "source": [
    "3.6. □ (3pts) **Train a Top-MLP:** a better performing Multi-Layered Perceptron found with whatever\n",
    "hyperparameters you want."
   ]
  },
  {
   "cell_type": "code",
   "execution_count": null,
   "metadata": {},
   "outputs": [],
   "source": []
  },
  {
   "cell_type": "markdown",
   "metadata": {},
   "source": [
    "3.7. □ (2pts) Display the performance of your classifiers using `metrics.classification_report` and add\n",
    "these to your `performance` file."
   ]
  },
  {
   "cell_type": "code",
   "execution_count": null,
   "metadata": {},
   "outputs": [],
   "source": []
  },
  {
   "cell_type": "markdown",
   "metadata": {},
   "source": [
    "3.8. □ (7.5pts) **Do your own exploration:** Rerun your best performing model but with 2 other English\n",
    "pretrained embedding models and compare the results. Many pre-trained embeddings are available\n",
    "on line (including in Gensim or at http://vectors.nlpl.eu/repository)."
   ]
  },
  {
   "cell_type": "code",
   "execution_count": null,
   "metadata": {},
   "outputs": [],
   "source": []
  }
 ],
 "metadata": {
  "kernelspec": {
   "display_name": "Python 3.9.12 ('base')",
   "language": "python",
   "name": "python3"
  },
  "language_info": {
   "codemirror_mode": {
    "name": "ipython",
    "version": 3
   },
   "file_extension": ".py",
   "mimetype": "text/x-python",
   "name": "python",
   "nbconvert_exporter": "python",
   "pygments_lexer": "ipython3",
   "version": "3.9.12"
  },
  "orig_nbformat": 4,
  "vscode": {
   "interpreter": {
    "hash": "90e4f055ace36640af0392f50413c0cd35ea54a1eb2fa59636646015dc42e79c"
   }
  }
 },
 "nbformat": 4,
 "nbformat_minor": 2
}
