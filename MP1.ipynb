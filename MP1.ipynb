{
 "cells": [
  {
   "cell_type": "markdown",
   "metadata": {},
   "source": [
    "# Mini Project 1"
   ]
  },
  {
   "cell_type": "code",
   "execution_count": 23,
   "metadata": {},
   "outputs": [
    {
     "name": "stdout",
     "output_type": "stream",
     "text": [
      "Hello MP1!\n"
     ]
    }
   ],
   "source": [
    "print('Hello MP1!')"
   ]
  },
  {
   "cell_type": "markdown",
   "metadata": {},
   "source": [
    "## Dataset Preparation & Analysis (5pts)"
   ]
  },
  {
   "cell_type": "markdown",
   "metadata": {},
   "source": [
    "1.2. Load the dataset. You can use `gzip.open` and `json.load` to do that."
   ]
  },
  {
   "cell_type": "code",
   "execution_count": 24,
   "metadata": {},
   "outputs": [],
   "source": [
    "import gzip\n",
    "import json\n",
    "\n",
    "dataset = gzip.open('goemotions.json.gz')\n",
    "dataset_json = json.load(dataset)\n",
    "\n",
    "# Close the gz dataset once your finished loading the data as a json object\n",
    "dataset.close()\n"
   ]
  },
  {
   "cell_type": "markdown",
   "metadata": {},
   "source": [
    "1.3. (5pts) Extract the posts and the 2 sets of labels (emotion and sentiment), then plot the distribution\n",
    "of the posts in each category and save the graphic (a histogram or pie chart) in pdf. Do this for both\n",
    "the emotion and the sentiment categories. You can use `matplotlib.pyplot` and `savefig` to do this.\n",
    "This pre-analysis of the dataset will allow you to determine if the classes are balanced, and which\n",
    "metric is more appropriate to use to evaluate the performance of your classifiers."
   ]
  },
  {
   "cell_type": "code",
   "execution_count": 58,
   "metadata": {},
   "outputs": [
    {
     "name": "stdout",
     "output_type": "stream",
     "text": [
      "(171820, 3)\n"
     ]
    }
   ],
   "source": [
    "import matplotlib.pyplot as plt\n",
    "import numpy as np\n",
    "from collections import Counter\n",
    "\n",
    "\n",
    "numpy_dataset = np.array(dataset_json)\n",
    "print(numpy_dataset.shape)\n",
    "\n",
    "# Get column only for emotion and sentiment\n",
    "emotion_dataset_col = [row[1] for row in numpy_dataset]\n",
    "sentiment_dataset_col = [row[2] for row in numpy_dataset]\n",
    "\n",
    "# Count the number of times each value appears\n",
    "emotion_count = Counter(emotion_dataset_col)\n",
    "sentiment_count = Counter(sentiment_dataset_col)\n",
    "\n",
    "# Save as bar charts for now\n",
    "plt.bar(emotion_count.keys(), emotion_count.values())\n",
    "plt.savefig('emotions_graph')\n",
    "\n",
    "plt.close()\n",
    "\n",
    "plt.bar(sentiment_count.keys(), sentiment_count.values())\n",
    "plt.savefig('sentiment_graph')\n",
    "\n",
    "plt.close()\n"
   ]
  }
 ],
 "metadata": {
  "kernelspec": {
   "display_name": "Python 3.9.12 ('base')",
   "language": "python",
   "name": "python3"
  },
  "language_info": {
   "codemirror_mode": {
    "name": "ipython",
    "version": 3
   },
   "file_extension": ".py",
   "mimetype": "text/x-python",
   "name": "python",
   "nbconvert_exporter": "python",
   "pygments_lexer": "ipython3",
   "version": "3.9.12"
  },
  "orig_nbformat": 4,
  "vscode": {
   "interpreter": {
    "hash": "90e4f055ace36640af0392f50413c0cd35ea54a1eb2fa59636646015dc42e79c"
   }
  }
 },
 "nbformat": 4,
 "nbformat_minor": 2
}
