{
 "cells": [
  {
   "cell_type": "markdown",
   "metadata": {},
   "source": [
    "# Mini Project 1"
   ]
  },
  {
   "cell_type": "code",
   "execution_count": 1,
   "metadata": {},
   "outputs": [
    {
     "name": "stdout",
     "output_type": "stream",
     "text": [
      "Hello MP1!\n"
     ]
    }
   ],
   "source": [
    "print('Hello MP1!')\n"
   ]
  },
  {
   "cell_type": "markdown",
   "metadata": {},
   "source": [
    "### Imported libraries used for the project\n",
    "1. jupiter\n",
    "2. scikit-learn\n",
    "3. gensim\n",
    "4. nltk\n",
    "5. numpy\n",
    "6. pandas\n",
    "7. matplotlib\n",
    "\n",
    "`conda install jupiter scikit-learn gensim nltk numpy pandas matplotlib`"
   ]
  },
  {
   "cell_type": "markdown",
   "metadata": {},
   "source": [
    "## 1. Dataset Preparation & Analysis (5pts)"
   ]
  },
  {
   "cell_type": "markdown",
   "metadata": {},
   "source": [
    "1.2. Load the dataset. You can use `gzip.open` and `json.load` to do that."
   ]
  },
  {
   "cell_type": "code",
   "execution_count": 2,
   "metadata": {},
   "outputs": [],
   "source": [
    "import gzip\n",
    "import json\n",
    "\n",
    "dataset = gzip.open('goemotions.json.gz')\n",
    "dataset_json = json.load(dataset)\n",
    "\n",
    "# Close the gz dataset once your finished loading the data as a json object\n",
    "dataset.close()\n"
   ]
  },
  {
   "cell_type": "markdown",
   "metadata": {},
   "source": [
    "1.3. (5pts) Extract the posts and the 2 sets of labels (emotion and sentiment), then plot the distribution\n",
    "of the posts in each category and save the graphic (a histogram or pie chart) in pdf. Do this for both\n",
    "the emotion and the sentiment categories. You can use `matplotlib.pyplot` and `savefig` to do this.\n",
    "This pre-analysis of the dataset will allow you to determine if the classes are balanced, and which\n",
    "metric is more appropriate to use to evaluate the performance of your classifiers."
   ]
  },
  {
   "cell_type": "code",
   "execution_count": 3,
   "metadata": {},
   "outputs": [],
   "source": [
    "import matplotlib.pyplot as plt\n",
    "import numpy as np\n",
    "from collections import Counter\n",
    "\n",
    "numpy_dataset = np.array(dataset_json)\n",
    "\n",
    "# Get column only for emotion and sentiment\n",
    "emotion_dataset_col = numpy_dataset[:, 1]\n",
    "sentiment_dataset_col = numpy_dataset[:, 2]\n",
    "\n",
    "# Count the number of times each value appears\n",
    "emotion_count = Counter(emotion_dataset_col)\n",
    "sentiment_count = Counter(sentiment_dataset_col)\n",
    "\n",
    "# Save the data values as a histogram\n",
    "# plt.hist(emotion_count.values())\n",
    "# plt.savefig('emotions_graph')\n",
    "# plt.hist(emotion_count)\n",
    "# plt.savefig('emotions_graph2')\n",
    "\n",
    "plt.pie(emotion_count.values(), None, emotion_count.keys())\n",
    "plt.savefig('emotions_pie_chart')\n",
    "\n",
    "plt.close()\n",
    "\n",
    "# plt.hist(sentiment_count.values())\n",
    "# plt.savefig('sentiment_graph')\n",
    "# plt.hist(sentiment_count)\n",
    "# plt.savefig('sentiment_graph2')\n",
    "plt.pie(sentiment_count.values(), None, sentiment_count.keys())\n",
    "plt.savefig('sentiment_pie_chart')\n",
    "\n",
    "plt.close()\n"
   ]
  },
  {
   "cell_type": "code",
   "execution_count": 4,
   "metadata": {
    "collapsed": false,
    "pycharm": {
     "name": "#%%\n"
    }
   },
   "outputs": [
    {
     "name": "stdout",
     "output_type": "stream",
     "text": [
      "Counter({'neutral': 55298, 'approval': 11259, 'admiration': 10531, 'annoyance': 8342, 'disapproval': 7686, 'gratitude': 7075, 'amusement': 6130, 'curiosity': 5885, 'anger': 5202, 'love': 4957, 'confusion': 4938, 'realization': 4714, 'disappointment': 4706, 'optimism': 4519, 'joy': 4329, 'sadness': 3827, 'caring': 3523, 'surprise': 3472, 'excitement': 3020, 'disgust': 2914, 'desire': 2147, 'fear': 1778, 'remorse': 1510, 'embarrassment': 1433, 'nervousness': 796, 'relief': 788, 'pride': 690, 'grief': 351}) dict_keys(['sadness', 'neutral', 'love', 'gratitude', 'disapproval', 'amusement', 'disappointment', 'realization', 'admiration', 'annoyance', 'confusion', 'optimism', 'excitement', 'caring', 'remorse', 'joy', 'approval', 'embarrassment', 'surprise', 'curiosity', 'anger', 'grief', 'disgust', 'pride', 'desire', 'relief', 'fear', 'nervousness'])\n"
     ]
    }
   ],
   "source": [
    "print(emotion_count, emotion_count.keys())"
   ]
  },
  {
   "cell_type": "markdown",
   "metadata": {},
   "source": [
    "## 2. Words as Features (35pts)"
   ]
  },
  {
   "cell_type": "markdown",
   "metadata": {},
   "source": [
    "2.1. □ (5pts) Process the dataset using `feature_extraction.text.CountVectorizer` to extract tokens/words\n",
    "and their frequencies. Display the number of tokens (the size of the vocabulary) in the dataset."
   ]
  },
  {
   "cell_type": "code",
   "execution_count": 5,
   "metadata": {},
   "outputs": [
    {
     "name": "stdout",
     "output_type": "stream",
     "text": [
      "Number of features (tokens in the vocabulary) = 30449\n"
     ]
    }
   ],
   "source": [
    "from sklearn.feature_extraction.text import CountVectorizer\n",
    "import pandas as pd\n",
    "\n",
    "# Phrases are in the first column of the dataset\n",
    "phrases = numpy_dataset[:, 0]\n",
    "\n",
    "# Process the dataset\n",
    "vectorizer_emotions = CountVectorizer()\n",
    "\n",
    "# X value is the processed_dataset\n",
    "X_emotions = vectorizer_emotions.fit_transform(phrases)\n",
    "\n",
    "print(\"Number of features (tokens in the vocabulary) =\",\n",
    "      len(vectorizer_emotions.get_feature_names_out()))\n"
   ]
  },
  {
   "cell_type": "code",
   "execution_count": 6,
   "metadata": {},
   "outputs": [
    {
     "name": "stdout",
     "output_type": "stream",
     "text": [
      "Number of features (tokens in the vocabulary) including emotions = 30450\n"
     ]
    }
   ],
   "source": [
    "emotions = numpy_dataset[:, 1]\n",
    "\n",
    "emotions_and_phrases = phrases.copy()\n",
    "\n",
    "for count, i in enumerate(phrases):\n",
    "    emotions_and_phrases[count] = i + \" \" + emotions[count]\n",
    "\n",
    "vectorizer_sentiments = CountVectorizer()\n",
    "X_sentiments = vectorizer_sentiments.fit_transform(emotions_and_phrases)\n",
    "\n",
    "print(\"Number of features (tokens in the vocabulary) including emotions =\",\n",
    "      len(vectorizer_sentiments.get_feature_names_out()))\n"
   ]
  },
  {
   "cell_type": "markdown",
   "metadata": {},
   "source": [
    "2.2. □ (2pts) Split the dataset into 80% for training and 20% for testing. For this, you can use `train_test_split`."
   ]
  },
  {
   "cell_type": "code",
   "execution_count": 7,
   "metadata": {},
   "outputs": [
    {
     "name": "stdout",
     "output_type": "stream",
     "text": [
      "Size of training set = 137456\n",
      "Size of testing set = 34364\n"
     ]
    }
   ],
   "source": [
    "# Split the dataset\n",
    "from sklearn.model_selection import train_test_split\n",
    "\n",
    "# Split the dataset\n",
    "training_dataset, testing_dataset = train_test_split(\n",
    "    numpy_dataset, train_size=0.8, test_size=0.2)\n",
    "\n",
    "# Split the feature vector of emotions\n",
    "training_X_emotions, testing_X_emotions = train_test_split(\n",
    "    X_emotions, train_size=0.8, test_size=0.2)\n",
    "\n",
    "# Split the feature vector of sentiments\n",
    "training_X_sentiments, testing_X_sentiments = train_test_split(\n",
    "    X_sentiments, train_size=0.8, test_size=0.2)\n",
    "\n",
    "# Print the size of both datasets\n",
    "print(\"Size of training set =\", training_dataset.shape[0])\n",
    "print(\"Size of testing set =\", testing_dataset.shape[0])\n"
   ]
  },
  {
   "cell_type": "markdown",
   "metadata": {},
   "source": [
    "2.3. Train and test the following classifiers, for both the emotion and the sentiment classification, using\n",
    "word frequency as features."
   ]
  },
  {
   "cell_type": "markdown",
   "metadata": {},
   "source": [
    "* 2.3.1. □ (3pts) **Base-MNB**: a Multinomial Naive Bayes Classifier `(naive_bayes.MultinomialNB.html)`\n",
    "with the default parameters."
   ]
  },
  {
   "cell_type": "code",
   "execution_count": 8,
   "metadata": {},
   "outputs": [
    {
     "name": "stdout",
     "output_type": "stream",
     "text": [
      "['neutral' 'neutral' 'neutral' ... 'neutral' 'optimism' 'neutral']\n"
     ]
    }
   ],
   "source": [
    "from sklearn.naive_bayes import MultinomialNB\n",
    "\n",
    "# Create the object classifiers for emotions\n",
    "emotions_classifier_mb = MultinomialNB()\n",
    "\n",
    "# Fit the model with training_X as X and columns of training_dataset as y\n",
    "emotions_classifier_mb.fit(X=training_X_emotions,\n",
    "                           y=training_dataset[:, 1])\n",
    "\n",
    "# Make predictions with testing_X as X\n",
    "emotion_prediction_mb = emotions_classifier_mb.predict(X=testing_X_emotions)\n",
    "print(emotion_prediction_mb)\n"
   ]
  },
  {
   "cell_type": "code",
   "execution_count": 9,
   "metadata": {},
   "outputs": [],
   "source": [
    "# Part 2.4 for Multinomial classification\n",
    "from sklearn.metrics import confusion_matrix\n",
    "from sklearn.metrics import classification_report\n",
    "\n",
    "# Append Emotions results\n",
    "performance_file = open(\"performance\", \"w\")\n",
    "performance_file.write(\n",
    "    \"-----Emotions classification (Multinomial Naive Bayes)-----\\n\")\n",
    "\n",
    "performance_file.write(\n",
    "    f\"Emotions hyperparameters = {emotions_classifier_mb.n_features_in_}\\n\")\n",
    "\n",
    "confusion_matrix_output = confusion_matrix(\n",
    "    y_true=testing_dataset[:, 1], y_pred=emotion_prediction_mb)\n",
    "performance_file.write(f\"Confusion Matrix = \\n{confusion_matrix_output}\\n\\n\")\n",
    "\n",
    "class_report = classification_report(\n",
    "    y_true=testing_dataset[:, 1], y_pred=emotion_prediction_mb, zero_division=0)\n",
    "performance_file.write(f\"Classification Report = \\n{class_report}\\n\")\n",
    "performance_file.write(\n",
    "    f\"----------------------------------------------------------\\n\\n\")\n",
    "\n",
    "performance_file.close()\n"
   ]
  },
  {
   "cell_type": "code",
   "execution_count": 10,
   "metadata": {},
   "outputs": [
    {
     "name": "stdout",
     "output_type": "stream",
     "text": [
      "['negative' 'neutral' 'positive' ... 'neutral' 'neutral' 'positive']\n"
     ]
    }
   ],
   "source": [
    "# Create the object classifiers for sentiments\n",
    "sentiment_classifier_mb = MultinomialNB()\n",
    "\n",
    "# Fit the model with training_X as X and columns of training_dataset as y\n",
    "sentiment_classifier_mb.fit(X=training_X_sentiments,\n",
    "                            y=training_dataset[:, 2])\n",
    "\n",
    "# Make predictions with testing_X as X\n",
    "sentiment_prediction_mb = sentiment_classifier_mb.predict(\n",
    "    X=testing_X_sentiments)\n",
    "print(sentiment_prediction_mb)\n"
   ]
  },
  {
   "cell_type": "code",
   "execution_count": 11,
   "metadata": {},
   "outputs": [],
   "source": [
    "# Append Sentiments results\n",
    "performance_file = open(\"performance\", \"a\")\n",
    "performance_file.write(\n",
    "    \"-----Sentiments classification (Multinomial Naive Bayes)-----\\n\")\n",
    "\n",
    "performance_file.write(\n",
    "    f\"Sentiments hyperparameters = {sentiment_classifier_mb.n_features_in_}\\n\")\n",
    "\n",
    "confusion_matrix_output = confusion_matrix(\n",
    "    y_true=testing_dataset[:, 2], y_pred=sentiment_prediction_mb)\n",
    "performance_file.write(f\"Confusion Matrix = \\n{confusion_matrix_output}\\n\\n\")\n",
    "\n",
    "class_report = classification_report(\n",
    "    y_true=testing_dataset[:, 2], y_pred=sentiment_prediction_mb, zero_division=0)\n",
    "performance_file.write(f\"Classification Report = \\n{class_report}\\n\")\n",
    "performance_file.write(\n",
    "    f\"----------------------------------------------------------\\n\\n\")\n",
    "\n",
    "performance_file.close()\n"
   ]
  },
  {
   "cell_type": "markdown",
   "metadata": {},
   "source": [
    "* 2.3.2. □ (3pts) **Base-DT:** a Decision Tree `(tree.DecisionTreeClassifier)` with the default parameters."
   ]
  },
  {
   "cell_type": "code",
   "execution_count": 12,
   "metadata": {},
   "outputs": [],
   "source": [
    "from sklearn.tree import DecisionTreeClassifier\n",
    "\n",
    "# Create the object classifiers for emotions\n",
    "emotions_classifier_dt = DecisionTreeClassifier()\n",
    "\n",
    "# Fit the model with training_X as X and columns of training_dataset as y\n",
    "emotions_classifier_dt.fit(X=training_X_emotions,\n",
    "                           y=training_dataset[:, 1])\n",
    "\n",
    "# Make predictions with testing_X as X\n",
    "emotion_prediction_dt = emotions_classifier_dt.predict(X=testing_X_emotions)\n",
    "print(emotion_prediction_dt)\n"
   ]
  },
  {
   "cell_type": "code",
   "execution_count": null,
   "metadata": {},
   "outputs": [],
   "source": [
    "# Part 2.4 for DecisionTree classification\n",
    "\n",
    "\n",
    "# Append Emotions results\n",
    "performance_file = open(\"performance\", \"a\")\n",
    "performance_file.write(\"-----Emotions classification (Decision Tree)-----\\n\")\n",
    "\n",
    "performance_file.write(\n",
    "    f\"Emotions hyperparameters = {emotions_classifier_dt.n_features_in_}\\n\")\n",
    "\n",
    "confusion_matrix_output = confusion_matrix(\n",
    "    y_true=testing_dataset[:, 1], y_pred=emotion_prediction_dt)\n",
    "performance_file.write(f\"Confusion Matrix = \\n{confusion_matrix_output}\\n\\n\")\n",
    "\n",
    "class_report = classification_report(\n",
    "    y_true=testing_dataset[:, 1], y_pred=emotion_prediction_dt, zero_division=0)\n",
    "performance_file.write(f\"Classification Report = \\n{class_report}\\n\")\n",
    "performance_file.write(\n",
    "    f\"----------------------------------------------------------\\n\\n\")\n",
    "performance_file.close()\n"
   ]
  },
  {
   "cell_type": "code",
   "execution_count": null,
   "metadata": {},
   "outputs": [
    {
     "name": "stdout",
     "output_type": "stream",
     "text": [
      "['positive' 'ambiguous' 'neutral' ... 'neutral' 'neutral' 'positive']\n"
     ]
    }
   ],
   "source": [
    "# Create the object classifiers for sentiments\n",
    "sentiment_classifier_dt = DecisionTreeClassifier()\n",
    "\n",
    "# Fit the model with training_X as X and columns of training_dataset as y\n",
    "sentiment_classifier_dt.fit(X=training_X_sentiments,\n",
    "                            y=training_dataset[:, 2])\n",
    "\n",
    "# Make predictions with testing_X as X\n",
    "sentiment_prediction_dt = sentiment_classifier_dt.predict(\n",
    "    X=testing_X_sentiments)\n",
    "print(sentiment_prediction_dt)\n"
   ]
  },
  {
   "cell_type": "code",
   "execution_count": null,
   "metadata": {},
   "outputs": [],
   "source": [
    "\n",
    "# Append Sentiments results\n",
    "performance_file = open(\"performance\", \"a\")\n",
    "performance_file.write(\n",
    "    \"-----Sentiments classification (Decision Tree)-----\\n\")\n",
    "\n",
    "performance_file.write(\n",
    "    f\"Sentiments hyperparameters = {sentiment_classifier_dt.n_features_in_}\\n\")\n",
    "\n",
    "confusion_matrix_output = confusion_matrix(\n",
    "    y_true=testing_dataset[:, 2], y_pred=sentiment_prediction_dt)\n",
    "performance_file.write(f\"Confusion Matrix = \\n{confusion_matrix_output}\\n\\n\")\n",
    "\n",
    "class_report = classification_report(\n",
    "    y_true=testing_dataset[:, 2], y_pred=sentiment_prediction_dt, zero_division=0)\n",
    "performance_file.write(f\"Classification Report = \\n{class_report}\\n\")\n",
    "performance_file.write(\n",
    "    f\"----------------------------------------------------------\\n\\n\")\n",
    "\n",
    "performance_file.close()\n"
   ]
  },
  {
   "cell_type": "markdown",
   "metadata": {},
   "source": [
    "* 2.3.3. □ (3pts) **Base-MLP:** a Multi-Layered Perceptron `(neural network.MLPClassifier)` with the\n",
    "default parameters."
   ]
  },
  {
   "cell_type": "code",
   "execution_count": null,
   "metadata": {
    "collapsed": false,
    "pycharm": {
     "name": "#%%\n"
    }
   },
   "outputs": [
    {
     "name": "stdout",
     "output_type": "stream",
     "text": [
      "Iteration 1, loss = 2.77578435\n",
      "Iteration 2, loss = 2.62992284\n",
      "Iteration 3, loss = 2.47876997\n",
      "['neutral' 'neutral' 'neutral' ... 'neutral' 'neutral' 'neutral']\n"
     ]
    },
    {
     "name": "stderr",
     "output_type": "stream",
     "text": [
      "c:\\users\\zosan\\pycharmprojects\\pythonproject\\venv\\lib\\site-packages\\sklearn\\neural_network\\_multilayer_perceptron.py:696: ConvergenceWarning: Stochastic Optimizer: Maximum iterations (3) reached and the optimization hasn't converged yet.\n",
      "  ConvergenceWarning,\n"
     ]
    }
   ],
   "source": [
    "# import MLPClassifier\n",
    "from sklearn.neural_network import MLPClassifier\n",
    "\n",
    "# Create the object classifiers for emotions\n",
    "emotions_classifier_mlp = MLPClassifier(verbose=True,max_iter=3)\n",
    "\n",
    "# Fit the model with training_X as X and columns of training_dataset as y\n",
    "emotions_classifier_mlp.fit(X=training_X_emotions, y=training_dataset[:, 1])\n",
    "\n",
    "# Make predictions with testing_X as X\n",
    "emotion_prediction_mlp = emotions_classifier_mlp.predict(X=testing_X_emotions)\n",
    "print(emotion_prediction_mlp)"
   ]
  },
  {
   "cell_type": "code",
   "execution_count": null,
   "metadata": {
    "collapsed": false,
    "pycharm": {
     "name": "#%%\n"
    }
   },
   "outputs": [],
   "source": [
    "# Part 2.4 for MLP classification\n",
    "\n",
    "\n",
    "# Append Emotions results\n",
    "performance_file = open(\"performance\", \"a\")\n",
    "performance_file.write(\"-----Emotions classification (multi layer perceptron)-----\\n\")\n",
    "\n",
    "performance_file.write(\n",
    "    f\"Emotions hyperparameters = {emotions_classifier_mlp.n_features_in_}\\n\")\n",
    "\n",
    "confusion_matrix_output = confusion_matrix(\n",
    "    y_true=testing_dataset[:, 1], y_pred=emotion_prediction_mlp)\n",
    "performance_file.write(f\"Confusion Matrix = \\n{confusion_matrix_output}\\n\\n\")\n",
    "\n",
    "class_report = classification_report(\n",
    "    y_true=testing_dataset[:, 1], y_pred=emotion_prediction_mlp, zero_division=0)\n",
    "performance_file.write(f\"Classification Report = \\n{class_report}\\n\")\n",
    "performance_file.write(\n",
    "    f\"----------------------------------------------------------\\n\\n\")\n",
    "performance_file.close()\n"
   ]
  },
  {
   "cell_type": "code",
   "execution_count": null,
   "metadata": {
    "collapsed": false,
    "pycharm": {
     "name": "#%%\n"
    }
   },
   "outputs": [
    {
     "name": "stdout",
     "output_type": "stream",
     "text": [
      "Iteration 1, loss = 1.31506083\n",
      "Iteration 2, loss = 1.28044700\n",
      "Iteration 3, loss = 1.21299265\n",
      "['positive' 'positive' 'neutral' ... 'positive' 'positive' 'neutral']\n"
     ]
    },
    {
     "name": "stderr",
     "output_type": "stream",
     "text": [
      "c:\\users\\zosan\\pycharmprojects\\pythonproject\\venv\\lib\\site-packages\\sklearn\\neural_network\\_multilayer_perceptron.py:696: ConvergenceWarning: Stochastic Optimizer: Maximum iterations (3) reached and the optimization hasn't converged yet.\n",
      "  ConvergenceWarning,\n"
     ]
    }
   ],
   "source": [
    "# Create the object classifiers for sentiments\n",
    "sentiment_classifier_mlp = MLPClassifier(verbose=True,max_iter=3)\n",
    "\n",
    "# Fit the model with training_X as X and columns of training_dataset as y\n",
    "sentiment_classifier_mlp.fit(X=training_X_sentiments, y=training_dataset[:, 2])\n",
    "\n",
    "# Make predictions with testing_X as X\n",
    "sentiment_prediction_mlp = sentiment_classifier_mlp.predict(X=testing_X_sentiments)\n",
    "\n",
    "print(sentiment_prediction_mlp)"
   ]
  },
  {
   "cell_type": "code",
   "execution_count": null,
   "metadata": {
    "collapsed": false,
    "pycharm": {
     "name": "#%%\n"
    }
   },
   "outputs": [],
   "source": [
    "# Append Sentiments results\n",
    "performance_file = open(\"performance\", \"a\")\n",
    "performance_file.write(\n",
    "    \"-----Sentiments classification (Multi layer perceptron)-----\\n\")\n",
    "\n",
    "performance_file.write(\n",
    "    f\"Sentiments hyperparameters = {sentiment_classifier_mlp.n_features_in_}\\n\")\n",
    "\n",
    "confusion_matrix_output = confusion_matrix(\n",
    "    y_true=testing_dataset[:, 2], y_pred=sentiment_prediction_mlp)\n",
    "performance_file.write(f\"Confusion Matrix = \\n{confusion_matrix_output}\\n\\n\")\n",
    "\n",
    "class_report = classification_report(\n",
    "    y_true=testing_dataset[:, 2], y_pred=sentiment_prediction_mlp, zero_division=0)\n",
    "performance_file.write(f\"Classification Report = \\n{class_report}\\n\")\n",
    "performance_file.write(\n",
    "    f\"----------------------------------------------------------\\n\\n\")\n",
    "\n",
    "performance_file.close()"
   ]
  },
  {
   "cell_type": "markdown",
   "metadata": {},
   "source": [
    "* 2.3.4. □ (3pts) **Top-MNB:** a better performing Multinomial Naive Bayes Classifier found using `GridSearchCV`.\n",
    "The gridsearch will allow you to find the best combination of hyper-parameters, as determined\n",
    "by the evaluation function that you have determined in step 1.3. The only hyper-parameter that\n",
    "you will experiment with is `alphafloat` with values 0.5, 0 and 2 other values of your choice."
   ]
  },
  {
   "cell_type": "markdown",
   "metadata": {},
   "source": [
    "* 2.3.5. □ (3pts) **Top-DT:** a better performing Decision Tree found using `GridSearchCV.` The hyperparameters\n",
    "that you will experiment with are:\n",
    "  * `criterion:` gini or entropy\n",
    "  * `max depth:` 2 different values of your choice\n",
    "  * `min samples split:` 3 different values of your choice"
   ]
  },
  {
   "cell_type": "code",
   "execution_count": null,
   "metadata": {
    "collapsed": false,
    "pycharm": {
     "name": "#%%\n"
    }
   },
   "outputs": [
    {
     "name": "stdout",
     "output_type": "stream",
     "text": [
      "['neutral' 'neutral' 'neutral' ... 'neutral' 'neutral' 'neutral']\n"
     ]
    }
   ],
   "source": [
    "from sklearn.model_selection import GridSearchCV\n",
    "# apply hyper parameters\n",
    "param_grid = {'criterion': ['gini', 'entropy'],\n",
    "              'max_depth': [2, 4], 'min_samples_split': [2, 5, 10]}\n",
    "\n",
    "# create objects classifier with grid search\n",
    "grid_search_emotion_classifier = GridSearchCV(\n",
    "    emotions_classifier_dt, param_grid)\n",
    "\n",
    "# Fit the model with training_X as X and columns of training_dataset as y\n",
    "grid_search_emotion_classifier.fit(\n",
    "    X=training_X_emotions, y=training_dataset[:, 1])\n",
    "\n",
    "# Make predictions with testing_X as X\n",
    "grid_search_emotion_predict = grid_search_emotion_classifier.predict(\n",
    "    X=testing_X_emotions)\n",
    "print(grid_search_emotion_predict)\n"
   ]
  },
  {
   "cell_type": "code",
   "execution_count": null,
   "metadata": {
    "collapsed": false,
    "pycharm": {
     "name": "#%%\n"
    }
   },
   "outputs": [],
   "source": [
    "# Part 2.4 for gridsearch Dt classification\n",
    "\n",
    "\n",
    "# Append Emotions results\n",
    "performance_file = open(\"performance\", \"a\")\n",
    "performance_file.write(\"-----Emotions classification (Grid Search Decision Tree)-----\\n\")\n",
    "\n",
    "performance_file.write(\n",
    "    f\"Emotions hyperparameters = {grid_search_emotion_classifier.n_features_in_}\\n\")\n",
    "\n",
    "confusion_matrix_output = confusion_matrix(\n",
    "    y_true=testing_dataset[:, 1], y_pred=grid_search_emotion_predict)\n",
    "performance_file.write(f\"Confusion Matrix = \\n{confusion_matrix_output}\\n\\n\")\n",
    "\n",
    "class_report = classification_report(\n",
    "    y_true=testing_dataset[:, 1], y_pred=grid_search_emotion_predict, zero_division=0)\n",
    "performance_file.write(f\"Classification Report = \\n{class_report}\\n\")\n",
    "performance_file.write(\n",
    "    f\"----------------------------------------------------------\\n\\n\")\n",
    "performance_file.close()"
   ]
  },
  {
   "cell_type": "code",
   "execution_count": null,
   "metadata": {
    "collapsed": false,
    "pycharm": {
     "name": "#%%\n"
    }
   },
   "outputs": [
    {
     "name": "stdout",
     "output_type": "stream",
     "text": [
      "['positive' 'positive' 'positive' ... 'positive' 'positive' 'positive']\n"
     ]
    }
   ],
   "source": [
    "# create objects classifier with grid search\n",
    "grid_search_sentiment_classifier = GridSearchCV(sentiment_classifier_dt, param_grid)\n",
    "\n",
    "# Fit the model with training_X as X and columns of training_dataset as y\n",
    "grid_search_sentiment_classifier.fit(X=training_X_sentiments, y=training_dataset[:, 2])\n",
    "\n",
    "# Make predictions with testing_X as X\n",
    "grid_search_sentiment_predict = grid_search_sentiment_classifier.predict(X=testing_X_sentiments)\n",
    "print(grid_search_sentiment_predict)"
   ]
  },
  {
   "cell_type": "code",
   "execution_count": null,
   "metadata": {
    "collapsed": false,
    "pycharm": {
     "name": "#%%\n"
    }
   },
   "outputs": [],
   "source": [
    "# Append Sentiments results\n",
    "performance_file = open(\"performance\", \"a\")\n",
    "performance_file.write(\n",
    "    \"-----Sentiments classification (Grid Search Decision Tree)-----\\n\")\n",
    "\n",
    "performance_file.write(\n",
    "    f\"Sentiments hyperparameters = {grid_search_sentiment_classifier.n_features_in_}\\n\")\n",
    "\n",
    "confusion_matrix_output = confusion_matrix(\n",
    "    y_true=testing_dataset[:, 2], y_pred=grid_search_sentiment_predict)\n",
    "performance_file.write(f\"Confusion Matrix = \\n{confusion_matrix_output}\\n\\n\")\n",
    "\n",
    "class_report = classification_report(\n",
    "    y_true=testing_dataset[:, 2], y_pred=grid_search_sentiment_predict, zero_division=0)\n",
    "performance_file.write(f\"Classification Report = \\n{class_report}\\n\")\n",
    "performance_file.write(\n",
    "    f\"----------------------------------------------------------\\n\\n\")\n",
    "\n",
    "performance_file.close()"
   ]
  },
  {
   "cell_type": "markdown",
   "metadata": {},
   "source": [
    "* 2.3.6. □ (3pts) **Top-MLP:** a better performing Multi-Layered Perceptron found using GridSearchCV.\n",
    "The hyper-parameters that you will experiment with are:\n",
    "    * `activation:` sigmoid, tanh, relu and identity\n",
    "    * 2 network architectures of your choice: for eg, 2 hidden layers with 30+50 nodes and 3 hidden\n",
    "layers with 10 + 10 + 10\n",
    "    * `solver:` Adam and stochastic gradient descent"
   ]
  },
  {
   "cell_type": "markdown",
   "metadata": {},
   "source": [
    "2.4. □ (5pts) For each of the 6 classifiers above and each of the classification tasks (emotion or sentiment),\n",
    "produce and save the following information in a file called `performance`:\n",
    "* a string clearly describing the model (e.g. the model name + hyper-parameter values) and the\n",
    "classification task (emotion or sentiment)\n",
    "* the confusion matrix – use `metrics.confusion_matrix`\n",
    "* the precision, recall, and F1-measure for each class, and the accuracy, macro-"
   ]
  },
  {
   "cell_type": "markdown",
   "metadata": {},
   "source": [
    "2.5. □ (7.5pts) **Do your own exploration:** Do only one of the following, depending on your own interest:\n",
    "* Use tf-idf instead of word frequencies and redo all substeps of 2.3 above – you can use `TfidfTransformer`\n",
    "for this. Display the results of this experiment.\n",
    "* Remove stop words and redo all substeps of 2.3 above – you can use the parameter of `CountVectorizer`\n",
    "for this. Display the results of this experiment.\n",
    "* Play with `train_test_split` in order have different splits of 80% training, 20% test sets and\n",
    "different sizes of training sets and redo all substeps of 2.3 above. Show and explain how the\n",
    "performance of your models vary depending on the training/test sets are used."
   ]
  },
  {
   "cell_type": "markdown",
   "metadata": {},
   "source": [
    "## 3. Embeddings as Features (20pts)"
   ]
  },
  {
   "cell_type": "markdown",
   "metadata": {},
   "source": [
    "3.1. □ (0pts) Use `gensim.downloader.load` to load the `word2vec-google-news-300` pretrained embedding model."
   ]
  },
  {
   "cell_type": "code",
   "execution_count": null,
   "metadata": {},
   "outputs": [],
   "source": [
    "# Incase its the first time running\n",
    "# import nltk\n",
    "\n",
    "# nltk.download('punkt')\n"
   ]
  },
  {
   "cell_type": "code",
   "execution_count": null,
   "metadata": {},
   "outputs": [],
   "source": [
    "import gensim.downloader\n",
    "google_model = gensim.downloader.load(\"word2vec-google-news-300\", return_path=True)\n"
   ]
  },
  {
   "cell_type": "markdown",
   "metadata": {},
   "source": [
    "3.2. □ (2pts) Use the `tokenizer` from `nltk` to extract words from the Reddit posts. Display the number\n",
    "of tokens in the training set."
   ]
  },
  {
   "cell_type": "code",
   "execution_count": null,
   "metadata": {},
   "outputs": [],
   "source": [
    "import nltk.tokenize\n",
    "\n",
    "\n",
    "phrase_token_vector = [nltk.tokenize.word_tokenize(i) for i in phrases]\n",
    "emotions_and_phrases_token_vector = [nltk.tokenize.word_tokenize(i) for i in emotions_and_phrases]\n"
   ]
  },
  {
   "cell_type": "code",
   "execution_count": null,
   "metadata": {},
   "outputs": [],
   "source": [
    "# Get the token count in phrase token list\n",
    "token_count = 0\n",
    "for i in phrase_token_vector:\n",
    "    token_count += len(i)\n",
    "\n",
    "print(\"Number of Tokens in phrases=\", token_count)\n",
    "\n",
    "\n",
    "# Get the token count in phrase and emotion token list\n",
    "token_count = 0\n",
    "for i in emotions_and_phrases_token_vector:\n",
    "    token_count += len(i)\n",
    "\n",
    "print(\"Number of Tokens in phrases=\", token_count)\n"
   ]
  },
  {
   "cell_type": "markdown",
   "metadata": {},
   "source": [
    "3.3. □ (5pts) Compute the embedding of a Reddit post as the <u>average</u> of the embeddings of its words. If\n",
    "a word has no embedding in Word2Vec, skip it."
   ]
  },
  {
   "cell_type": "code",
   "execution_count": null,
   "metadata": {},
   "outputs": [],
   "source": [
    "from statistics import mean\n",
    "from gensim.models import Word2Vec, KeyedVectors\n",
    "\n",
    "\n",
    "mean_embedding_list_emotions = []\n",
    "for i in phrase_token_vector:\n",
    "    mean_embedding_list_emotions.append(google_model.get_mean_vector(i))\n",
    "\n",
    "mean_embedding_list_sentiments = []\n",
    "for i in emotions_and_phrases_token_vector:\n",
    "    mean_embedding_list_sentiments.append(google_model.get_mean_vector(i))\n",
    "\n",
    "\n",
    "# Test to get the average embedding for a phrase with index i\n",
    "i = 0\n",
    "print(\n",
    "    f\"The mean embedding for phrase: '{phrase_token_vector[i]}'\\n = \\n{mean_embedding_list_emotions[i]}\")\n",
    "\n",
    "# Test to get the average embedding for a pohrase and emotion with index i\n",
    "i = 0\n",
    "print(\n",
    "    f\"The mean embedding for phrase and emotion: '{emotions_and_phrases_token_vector[i]}'\\n = \\n{mean_embedding_list_sentiments[i]}\")\n"
   ]
  },
  {
   "cell_type": "markdown",
   "metadata": {},
   "source": [
    "3.4. □ (3pts) Compute and display the overall hit rates of the training and test sets (i.e. the % of words\n",
    "in the Reddit posts for which an embedding is found in Word2Vec).\n"
   ]
  },
  {
   "cell_type": "code",
   "execution_count": null,
   "metadata": {},
   "outputs": [],
   "source": [
    "# Split the tokens (to get the hit rate)\n",
    "training_phrase_token, testing_phrase_token = train_test_split(\n",
    "    phrase_token_vector, train_size=0.8, test_size=0.2)\n",
    "\n",
    "training_emotions_and_phrases_token, testing_emotions_and_phrases_token = train_test_split(\n",
    "    emotions_and_phrases_token_vector, train_size=0.8, test_size=0.2)\n",
    "\n",
    "\n",
    "# Split the mean embedding list for both eomtions and sentiments (the X values)\n",
    "training_X_emotions_emb, testing_X_emotions_emb = train_test_split(\n",
    "    mean_embedding_list_emotions, train_size=0.8, test_size=0.2)\n",
    "\n",
    "training_X_sentiments_emb, testing_X_sentiments_emb = train_test_split(\n",
    "    mean_embedding_list_sentiments, train_size=0.8, test_size=0.2)\n"
   ]
  },
  {
   "cell_type": "code",
   "execution_count": null,
   "metadata": {},
   "outputs": [],
   "source": [
    "# Hit Rate for phrases training set\n",
    "num_of_hits = 0\n",
    "total = 0\n",
    "\n",
    "for i in training_phrase_token:\n",
    "    for word in i:\n",
    "        try:\n",
    "            # pdb.set_trace()\n",
    "            google_model.key_to_index[word]\n",
    "            num_of_hits += 1\n",
    "        except Exception:\n",
    "            pass\n",
    "        total += 1\n",
    "\n",
    "print(f\"Hit Rate in training set (phrases) = {num_of_hits/total*100}%\")\n",
    "\n",
    "\n",
    "# Hit Rate for phrases testing set\n",
    "num_of_hits = 0\n",
    "total = 0\n",
    "\n",
    "for i in testing_phrase_token:\n",
    "    for word in i:\n",
    "        try:\n",
    "            # pdb.set_trace()\n",
    "            google_model.key_to_index[word]\n",
    "            num_of_hits += 1\n",
    "        except Exception:\n",
    "            pass\n",
    "        total += 1\n",
    "\n",
    "print(f\"Hit Rate in testing set (phrases) = {num_of_hits/total*100}%\")\n",
    "\n",
    "# Hit Rate for phrases and emotions training set\n",
    "num_of_hits = 0\n",
    "total = 0\n",
    "\n",
    "for i in training_emotions_and_phrases_token:\n",
    "    for word in i:\n",
    "        try:\n",
    "            # pdb.set_trace()\n",
    "            google_model.key_to_index[word]\n",
    "            num_of_hits += 1\n",
    "        except Exception:\n",
    "            pass\n",
    "        total += 1\n",
    "\n",
    "print(f\"Hit Rate in training set (phrases and emotions) = {num_of_hits/total*100}%\")\n",
    "\n",
    "\n",
    "# Hit Rate for phrases and emotions testing set\n",
    "num_of_hits = 0\n",
    "total = 0\n",
    "\n",
    "for i in testing_emotions_and_phrases_token:\n",
    "    for word in i:\n",
    "        try:\n",
    "            # pdb.set_trace()\n",
    "            google_model.key_to_index[word]\n",
    "            num_of_hits += 1\n",
    "        except Exception:\n",
    "            pass\n",
    "        total += 1\n",
    "\n",
    "print(f\"Hit Rate in testing set (phrases and emotions) = {num_of_hits/total*100}%\")\n"
   ]
  },
  {
   "cell_type": "markdown",
   "metadata": {},
   "source": [
    "3.5. □ (3pts) **Train a Base-MLP:** a Multi-Layered Perceptron (`neural_network.MLPClassifier`) with\n",
    "the default parameters."
   ]
  },
  {
   "cell_type": "code",
   "execution_count": null,
   "metadata": {},
   "outputs": [],
   "source": [
    "from sklearn.neural_network import MLPClassifier\n",
    "\n",
    "\n",
    "# For emotions classification\n",
    "emotions_classifier_mlp_embedding = MLPClassifier()\n",
    "\n",
    "# Fit the model with training_X as X and columns of training_dataset as y\n",
    "emotions_classifier_mlp_embedding.fit(X=training_X_emotions_emb,\n",
    "                                      y=training_dataset[:, 1])\n",
    "\n",
    "# Make predictions with testing_X as X\n",
    "emotion_prediction_mlp_embedding = emotions_classifier_mlp_embedding.predict(\n",
    "    X=testing_X_emotions_emb)\n",
    "print(emotion_prediction_mlp_embedding)\n"
   ]
  },
  {
   "cell_type": "code",
   "execution_count": null,
   "metadata": {},
   "outputs": [],
   "source": [
    "# Append Emotions results\n",
    "performance_file = open(\"performance\", \"a\")\n",
    "performance_file.write(\n",
    "    \"-----Emotions classification (google model) (Multi Layered Perception with word Embeddings)-----\\n\")\n",
    "\n",
    "performance_file.write(\n",
    "    f\"Emotions hyperparameters = {emotions_classifier_mlp_embedding.n_features_in_}\\n\")\n",
    "\n",
    "confusion_matrix_output = confusion_matrix(\n",
    "    y_true=testing_dataset[:, 1], y_pred=emotion_prediction_mlp_embedding)\n",
    "performance_file.write(f\"Confusion Matrix = \\n{confusion_matrix_output}\\n\\n\")\n",
    "\n",
    "class_report = classification_report(\n",
    "    y_true=testing_dataset[:, 1], y_pred=emotion_prediction_mlp_embedding, zero_division=0)\n",
    "performance_file.write(f\"Classification Report = \\n{class_report}\\n\")\n",
    "performance_file.write(\n",
    "    f\"----------------------------------------------------------\\n\\n\")\n",
    "\n",
    "performance_file.close()"
   ]
  },
  {
   "cell_type": "code",
   "execution_count": null,
   "metadata": {},
   "outputs": [],
   "source": [
    "# For sentiments classification\n",
    "sentiments_classifier_mlp_embedding = MLPClassifier()\n",
    "\n",
    "# Fit the model with training_X as X and columns of training_dataset as y\n",
    "sentiments_classifier_mlp_embedding.fit(X=training_X_sentiments_emb,\n",
    "                                      y=training_dataset[:, 2])\n",
    "\n",
    "# Make predictions with testing_X as X\n",
    "sentiments_prediction_mlp_embedding = sentiments_classifier_mlp_embedding.predict(\n",
    "    X=testing_X_sentiments_emb)\n",
    "print(sentiments_prediction_mlp_embedding)"
   ]
  },
  {
   "cell_type": "code",
   "execution_count": null,
   "metadata": {},
   "outputs": [],
   "source": [
    "# Append Sentiments results\n",
    "performance_file = open(\"performance\", \"a\")\n",
    "performance_file.write(\n",
    "    \"-----Sentiments classification (google model) (Multi Layered Perception with word Embeddings)-----\\n\")\n",
    "\n",
    "performance_file.write(\n",
    "    f\"Sentiments hyperparameters = {sentiments_classifier_mlp_embedding.n_features_in_}\\n\")\n",
    "\n",
    "confusion_matrix_output = confusion_matrix(\n",
    "    y_true=testing_dataset[:, 2], y_pred=sentiments_prediction_mlp_embedding)\n",
    "performance_file.write(f\"Confusion Matrix = \\n{confusion_matrix_output}\\n\\n\")\n",
    "\n",
    "class_report = classification_report(\n",
    "    y_true=testing_dataset[:, 2], y_pred=sentiments_prediction_mlp_embedding, zero_division=0)\n",
    "performance_file.write(f\"Classification Report = \\n{class_report}\\n\")\n",
    "performance_file.write(\n",
    "    f\"----------------------------------------------------------\\n\\n\")\n",
    "\n",
    "performance_file.close()\n"
   ]
  },
  {
   "cell_type": "markdown",
   "metadata": {},
   "source": [
    "3.6. □ (3pts) **Train a Top-MLP:** a better performing Multi-Layered Perceptron found with whatever\n",
    "hyperparameters you want."
   ]
  },
  {
   "cell_type": "code",
   "execution_count": null,
   "metadata": {},
   "outputs": [],
   "source": [
    "from sklearn.model_selection import GridSearchCV\n",
    "from sklearn.neural_network import MLPClassifier\n",
    "\n",
    "# hyperparameter used in gridsearch\n",
    "hyperparam = {'activation': ['sigmoid', 'tanh', 'relu', 'identity'],\n",
    "                'hidden_layer_sizes': [2, 3],\n",
    "                'solver': ['Adam', 'sgd']}\n",
    "\n",
    "# For emotions classification\n",
    "emotions_classifier_top_mlp_gridsearch_emb = GridSearchCV(MLPClassifier(), param_grid=hyperparam)\n",
    "emotions_classifier_top_mlp_gridsearch_emb.fit(X=training_X_emotions_emb, y=training_dataset[:, 1])\n",
    "emotions_classifier_prediction_tmlp_emb = emotions_classifier_top_mlp_gridsearch_emb.predict(X=testing_X_emotions_emb)\n",
    "print(emotions_classifier_prediction_tmlp_emb)\n"
   ]
  },
  {
   "cell_type": "code",
   "execution_count": null,
   "metadata": {},
   "outputs": [],
   "source": [
    "# Append Emotions results\n",
    "performance_file = open(\"performance\", \"a\")\n",
    "performance_file.write(\n",
    "    \"-----Emotions classification (google model) (TOP Multi Layered Perception with word Embeddings)-----\\n\")\n",
    "\n",
    "performance_file.write(\n",
    "    f\"Emotions hyperparameters = {emotions_classifier_top_mlp_gridsearch_emb.n_features_in_}\\n\")\n",
    "\n",
    "confusion_matrix_output = confusion_matrix(\n",
    "    y_true=testing_dataset[:, 1], y_pred=emotions_classifier_prediction_tmlp_emb)\n",
    "performance_file.write(f\"Confusion Matrix = \\n{confusion_matrix_output}\\n\\n\")\n",
    "\n",
    "class_report = classification_report(\n",
    "    y_true=testing_dataset[:, 1], y_pred=emotions_classifier_prediction_tmlp_emb, zero_division=0)\n",
    "performance_file.write(f\"Classification Report = \\n{class_report}\\n\")\n",
    "performance_file.write(\n",
    "    f\"----------------------------------------------------------\\n\\n\")\n",
    "\n",
    "performance_file.close()"
   ]
  },
  {
   "cell_type": "code",
   "execution_count": null,
   "metadata": {},
   "outputs": [],
   "source": [
    "# For sentiments classifications\n",
    "sentiments_classifier_top_mlp_gridsearch_emb = GridSearchCV(MLPClassifier(), param_grid=hyperparam)\n",
    "sentiments_classifier_top_mlp_gridsearch_emb.fit(X=training_X_sentiments_emb, y=training_dataset[:, 2])\n",
    "sentiments_classifier_prediction_tmlp_emb = sentiments_classifier_top_mlp_gridsearch_emb.predict(X=testing_X_emotions_emb)\n",
    "print(sentiments_classifier_prediction_tmlp_emb)"
   ]
  },
  {
   "cell_type": "code",
   "execution_count": null,
   "metadata": {},
   "outputs": [],
   "source": [
    "# Append Sentiments results\n",
    "performance_file = open(\"performance\", \"a\")\n",
    "performance_file.write(\n",
    "    \"-----Sentiments classification (google model) (TOP Multi Layered Perception with word Embeddings)-----\\n\")\n",
    "\n",
    "performance_file.write(\n",
    "    f\"Sentiments hyperparameters = {sentiments_classifier_top_mlp_gridsearch_emb.n_features_in_}\\n\")\n",
    "\n",
    "confusion_matrix_output = confusion_matrix(\n",
    "    y_true=testing_dataset[:, 2], y_pred=sentiments_classifier_prediction_tmlp_emb)\n",
    "performance_file.write(f\"Confusion Matrix = \\n{confusion_matrix_output}\\n\\n\")\n",
    "\n",
    "class_report = classification_report(\n",
    "    y_true=testing_dataset[:, 2], y_pred=sentiments_classifier_prediction_tmlp_emb, zero_division=0)\n",
    "performance_file.write(f\"Classification Report = \\n{class_report}\\n\")\n",
    "performance_file.write(\n",
    "    f\"----------------------------------------------------------\\n\\n\")\n",
    "\n",
    "performance_file.close()"
   ]
  },
  {
   "cell_type": "markdown",
   "metadata": {},
   "source": [
    "3.7. □ (2pts) Display the performance of your classifiers using `metrics.classification_report` and add\n",
    "these to your `performance` file."
   ]
  },
  {
   "cell_type": "code",
   "execution_count": null,
   "metadata": {},
   "outputs": [],
   "source": []
  },
  {
   "cell_type": "markdown",
   "metadata": {},
   "source": [
    "3.8. □ (7.5pts) **Do your own exploration:** Rerun your best performing model but with 2 other English\n",
    "pretrained embedding models and compare the results. Many pre-trained embeddings are available\n",
    "on line (including in Gensim or at http://vectors.nlpl.eu/repository)."
   ]
  },
  {
   "cell_type": "code",
   "execution_count": null,
   "metadata": {},
   "outputs": [
    {
     "name": "stdout",
     "output_type": "stream",
     "text": [
      "[==================================================] 100.0% 958.5/958.4MB downloaded\n"
     ]
    }
   ],
   "source": [
    "fast_model = gensim.downloader.load(\"fasttext-wiki-news-subwords-300\") \n",
    "twitter_model = gensim.downloader.load(\"glove-twitter-100\")"
   ]
  },
  {
   "cell_type": "markdown",
   "metadata": {},
   "source": [
    "Using the `fasttext-wiki-news-subwords-300` model from the gensim repo https://github.com/RaRe-Technologies/gensim-data"
   ]
  },
  {
   "cell_type": "code",
   "execution_count": null,
   "metadata": {},
   "outputs": [],
   "source": [
    "# Repetition of 3.3 to 3.7 using the fast model\n",
    "# Tokenization has been done in 3.2 so will reuse that code \n",
    "# phrase_token_vector = [nltk.tokenize.word_tokenize(i) for i in phrases]\n",
    "# emotions_and_phrases_token_vector = [nltk.tokenize.word_tokenize(i) for i in emotions_and_phrases]\n"
   ]
  },
  {
   "cell_type": "code",
   "execution_count": null,
   "metadata": {},
   "outputs": [],
   "source": [
    "mean_embedding_list_emotions = []\n",
    "for i in phrase_token_vector:\n",
    "    mean_embedding_list_emotions.append(fast_model.get_mean_vector(i))\n",
    "\n",
    "mean_embedding_list_sentiments = []\n",
    "for i in emotions_and_phrases_token_vector:\n",
    "    mean_embedding_list_sentiments.append(fast_model.get_mean_vector(i))\n"
   ]
  },
  {
   "cell_type": "code",
   "execution_count": null,
   "metadata": {},
   "outputs": [],
   "source": [
    "# Split the tokens (to get the hit rate)\n",
    "training_phrase_token, testing_phrase_token = train_test_split(\n",
    "    phrase_token_vector, train_size=0.8, test_size=0.2)\n",
    "\n",
    "training_emotions_and_phrases_token, testing_emotions_and_phrases_token = train_test_split(\n",
    "    emotions_and_phrases_token_vector, train_size=0.8, test_size=0.2)\n",
    "\n",
    "\n",
    "# Split the mean embedding list for both eomtions and sentiments (the X values)\n",
    "training_X_emotions_emb, testing_X_emotions_emb = train_test_split(\n",
    "    mean_embedding_list_emotions, train_size=0.8, test_size=0.2)\n",
    "\n",
    "training_X_sentiments_emb, testing_X_sentiments_emb = train_test_split(\n",
    "    mean_embedding_list_sentiments, train_size=0.8, test_size=0.2)\n"
   ]
  },
  {
   "cell_type": "code",
   "execution_count": null,
   "metadata": {},
   "outputs": [
    {
     "name": "stdout",
     "output_type": "stream",
     "text": [
      "Hit Rate in training set (phrases) = 98.0262092439816%\n",
      "Hit Rate in testing set (phrases) = 98.08410985869816%\n",
      "Hit Rate in training set (phrases and emotions) = 98.15682028497747%\n",
      "Hit Rate in testing set (phrases and emotions) = 98.13873316694064%\n"
     ]
    }
   ],
   "source": [
    "# Hit Rate for phrases training set\n",
    "num_of_hits = 0\n",
    "total = 0\n",
    "\n",
    "for i in training_phrase_token:\n",
    "    for word in i:\n",
    "        try:\n",
    "            # pdb.set_trace()\n",
    "            fast_model.key_to_index[word]\n",
    "            num_of_hits += 1\n",
    "        except Exception:\n",
    "            pass\n",
    "        total += 1\n",
    "\n",
    "print(f\"Hit Rate in training set (phrases) = {num_of_hits/total*100}%\")\n",
    "\n",
    "\n",
    "# Hit Rate for phrases testing set\n",
    "num_of_hits = 0\n",
    "total = 0\n",
    "\n",
    "for i in testing_phrase_token:\n",
    "    for word in i:\n",
    "        try:\n",
    "            # pdb.set_trace()\n",
    "            fast_model.key_to_index[word]\n",
    "            num_of_hits += 1\n",
    "        except Exception:\n",
    "            pass\n",
    "        total += 1\n",
    "\n",
    "print(f\"Hit Rate in testing set (phrases) = {num_of_hits/total*100}%\")\n",
    "\n",
    "# Hit Rate for phrases and emotions training set\n",
    "num_of_hits = 0\n",
    "total = 0\n",
    "\n",
    "for i in training_emotions_and_phrases_token:\n",
    "    for word in i:\n",
    "        try:\n",
    "            # pdb.set_trace()\n",
    "            fast_model.key_to_index[word]\n",
    "            num_of_hits += 1\n",
    "        except Exception:\n",
    "            pass\n",
    "        total += 1\n",
    "\n",
    "print(f\"Hit Rate in training set (phrases and emotions) = {num_of_hits/total*100}%\")\n",
    "\n",
    "\n",
    "# Hit Rate for phrases and emotions testing set\n",
    "num_of_hits = 0\n",
    "total = 0\n",
    "\n",
    "for i in testing_emotions_and_phrases_token:\n",
    "    for word in i:\n",
    "        try:\n",
    "            # pdb.set_trace()\n",
    "            fast_model.key_to_index[word]\n",
    "            num_of_hits += 1\n",
    "        except Exception:\n",
    "            pass\n",
    "        total += 1\n",
    "\n",
    "print(f\"Hit Rate in testing set (phrases and emotions) = {num_of_hits/total*100}%\")\n"
   ]
  },
  {
   "cell_type": "code",
   "execution_count": null,
   "metadata": {},
   "outputs": [
    {
     "name": "stderr",
     "output_type": "stream",
     "text": [
      "d:\\ProgramData\\Miniconda3\\lib\\site-packages\\sklearn\\neural_network\\_multilayer_perceptron.py:702: ConvergenceWarning: Stochastic Optimizer: Maximum iterations (200) reached and the optimization hasn't converged yet.\n",
      "  warnings.warn(\n"
     ]
    },
    {
     "name": "stdout",
     "output_type": "stream",
     "text": [
      "['neutral' 'neutral' 'neutral' ... 'neutral' 'neutral' 'neutral']\n"
     ]
    }
   ],
   "source": [
    "# For emotions classification\n",
    "emotions_classifier_mlp_embedding = MLPClassifier()\n",
    "\n",
    "# Fit the model with training_X as X and columns of training_dataset as y\n",
    "emotions_classifier_mlp_embedding.fit(X=training_X_emotions_emb,\n",
    "                                      y=training_dataset[:, 1])\n",
    "\n",
    "# Make predictions with testing_X as X\n",
    "emotion_prediction_mlp_embedding = emotions_classifier_mlp_embedding.predict(\n",
    "    X=testing_X_emotions_emb)\n",
    "print(emotion_prediction_mlp_embedding)"
   ]
  },
  {
   "cell_type": "code",
   "execution_count": null,
   "metadata": {},
   "outputs": [],
   "source": [
    "# Append Emotions results\n",
    "performance_file = open(\"performance\", \"a\")\n",
    "performance_file.write(\n",
    "    \"-----Emotions classification (fast model) (Multi Layered Perception with word Embeddings)-----\\n\")\n",
    "\n",
    "performance_file.write(\n",
    "    f\"Emotions hyperparameters = {emotions_classifier_mlp_embedding.n_features_in_}\\n\")\n",
    "\n",
    "confusion_matrix_output = confusion_matrix(\n",
    "    y_true=testing_dataset[:, 1], y_pred=emotion_prediction_mlp_embedding)\n",
    "performance_file.write(f\"Confusion Matrix = \\n{confusion_matrix_output}\\n\\n\")\n",
    "\n",
    "class_report = classification_report(\n",
    "    y_true=testing_dataset[:, 1], y_pred=emotion_prediction_mlp_embedding, zero_division=0)\n",
    "performance_file.write(f\"Classification Report = \\n{class_report}\\n\")\n",
    "performance_file.write(\n",
    "    f\"----------------------------------------------------------\\n\\n\")\n",
    "\n",
    "performance_file.close()"
   ]
  },
  {
   "cell_type": "code",
   "execution_count": null,
   "metadata": {},
   "outputs": [
    {
     "name": "stderr",
     "output_type": "stream",
     "text": [
      "d:\\ProgramData\\Miniconda3\\lib\\site-packages\\sklearn\\neural_network\\_multilayer_perceptron.py:702: ConvergenceWarning: Stochastic Optimizer: Maximum iterations (200) reached and the optimization hasn't converged yet.\n",
      "  warnings.warn(\n"
     ]
    },
    {
     "name": "stdout",
     "output_type": "stream",
     "text": [
      "['positive' 'positive' 'positive' ... 'neutral' 'neutral' 'neutral']\n"
     ]
    }
   ],
   "source": [
    "# For sentiments classification\n",
    "sentiments_classifier_mlp_embedding = MLPClassifier()\n",
    "\n",
    "# Fit the model with training_X as X and columns of training_dataset as y\n",
    "sentiments_classifier_mlp_embedding.fit(X=training_X_sentiments_emb,\n",
    "                                      y=training_dataset[:, 2])\n",
    "\n",
    "# Make predictions with testing_X as X\n",
    "sentiments_prediction_mlp_embedding = sentiments_classifier_mlp_embedding.predict(\n",
    "    X=testing_X_sentiments_emb)\n",
    "print(sentiments_prediction_mlp_embedding)"
   ]
  },
  {
   "cell_type": "code",
   "execution_count": null,
   "metadata": {},
   "outputs": [],
   "source": [
    "# Append Sentiments results\n",
    "performance_file = open(\"performance\", \"a\")\n",
    "performance_file.write(\n",
    "    \"-----Sentiments classification (concept model) (Multi Layered Perception with word Embeddings)-----\\n\")\n",
    "\n",
    "performance_file.write(\n",
    "    f\"Sentiments hyperparameters = {sentiments_classifier_mlp_embedding.n_features_in_}\\n\")\n",
    "\n",
    "confusion_matrix_output = confusion_matrix(\n",
    "    y_true=testing_dataset[:, 2], y_pred=sentiments_prediction_mlp_embedding)\n",
    "performance_file.write(f\"Confusion Matrix = \\n{confusion_matrix_output}\\n\\n\")\n",
    "\n",
    "class_report = classification_report(\n",
    "    y_true=testing_dataset[:, 2], y_pred=sentiments_prediction_mlp_embedding, zero_division=0)\n",
    "performance_file.write(f\"Classification Report = \\n{class_report}\\n\")\n",
    "performance_file.write(\n",
    "    f\"----------------------------------------------------------\\n\\n\")\n",
    "\n",
    "performance_file.close()\n"
   ]
  },
  {
   "cell_type": "markdown",
   "metadata": {},
   "source": [
    "Using the Twitter (`glove-twitter-100`) Model from the gensim repo https://github.com/RaRe-Technologies/gensim-data"
   ]
  },
  {
   "cell_type": "code",
   "execution_count": null,
   "metadata": {},
   "outputs": [],
   "source": [
    "# Repetition of 3.3 to 3.7 using the twitter model\n",
    "# Tokenization has been done in 3.2 so will reuse that code \n",
    "# phrase_token_vector = [nltk.tokenize.word_tokenize(i) for i in phrases]\n",
    "# emotions_and_phrases_token_vector = [nltk.tokenize.word_tokenize(i) for i in emotions_and_phrases]\n"
   ]
  },
  {
   "cell_type": "code",
   "execution_count": null,
   "metadata": {},
   "outputs": [],
   "source": [
    "mean_embedding_list_emotions = []\n",
    "for i in phrase_token_vector:\n",
    "    mean_embedding_list_emotions.append(twitter_model.get_mean_vector(i))\n",
    "\n",
    "mean_embedding_list_sentiments = []\n",
    "for i in emotions_and_phrases_token_vector:\n",
    "    mean_embedding_list_sentiments.append(twitter_model.get_mean_vector(i))\n"
   ]
  },
  {
   "cell_type": "code",
   "execution_count": null,
   "metadata": {},
   "outputs": [],
   "source": [
    "# Split the tokens (to get the hit rate)\n",
    "training_phrase_token, testing_phrase_token = train_test_split(\n",
    "    phrase_token_vector, train_size=0.8, test_size=0.2)\n",
    "\n",
    "training_emotions_and_phrases_token, testing_emotions_and_phrases_token = train_test_split(\n",
    "    emotions_and_phrases_token_vector, train_size=0.8, test_size=0.2)\n",
    "\n",
    "\n",
    "# Split the mean embedding list for both eomtions and sentiments (the X values)\n",
    "training_X_emotions_emb, testing_X_emotions_emb = train_test_split(\n",
    "    mean_embedding_list_emotions, train_size=0.8, test_size=0.2)\n",
    "\n",
    "training_X_sentiments_emb, testing_X_sentiments_emb = train_test_split(\n",
    "    mean_embedding_list_sentiments, train_size=0.8, test_size=0.2)\n"
   ]
  },
  {
   "cell_type": "code",
   "execution_count": null,
   "metadata": {},
   "outputs": [
    {
     "name": "stdout",
     "output_type": "stream",
     "text": [
      "Hit Rate in training set (phrases) = 84.53000788423333%\n",
      "Hit Rate in testing set (phrases) = 84.57877327284756%\n",
      "Hit Rate in training set (phrases and emotions) = 85.48617666531642%\n",
      "Hit Rate in testing set (phrases and emotions) = 85.43728210336387%\n"
     ]
    }
   ],
   "source": [
    "# Hit Rate for phrases training set\n",
    "num_of_hits = 0\n",
    "total = 0\n",
    "\n",
    "for i in training_phrase_token:\n",
    "    for word in i:\n",
    "        try:\n",
    "            # pdb.set_trace()\n",
    "            twitter_model.key_to_index[word]\n",
    "            num_of_hits += 1\n",
    "        except Exception:\n",
    "            pass\n",
    "        total += 1\n",
    "\n",
    "print(f\"Hit Rate in training set (phrases) = {num_of_hits/total*100}%\")\n",
    "\n",
    "\n",
    "# Hit Rate for phrases testing set\n",
    "num_of_hits = 0\n",
    "total = 0\n",
    "\n",
    "for i in testing_phrase_token:\n",
    "    for word in i:\n",
    "        try:\n",
    "            # pdb.set_trace()\n",
    "            twitter_model.key_to_index[word]\n",
    "            num_of_hits += 1\n",
    "        except Exception:\n",
    "            pass\n",
    "        total += 1\n",
    "\n",
    "print(f\"Hit Rate in testing set (phrases) = {num_of_hits/total*100}%\")\n",
    "\n",
    "# Hit Rate for phrases and emotions training set\n",
    "num_of_hits = 0\n",
    "total = 0\n",
    "\n",
    "for i in training_emotions_and_phrases_token:\n",
    "    for word in i:\n",
    "        try:\n",
    "            # pdb.set_trace()\n",
    "            twitter_model.key_to_index[word]\n",
    "            num_of_hits += 1\n",
    "        except Exception:\n",
    "            pass\n",
    "        total += 1\n",
    "\n",
    "print(f\"Hit Rate in training set (phrases and emotions) = {num_of_hits/total*100}%\")\n",
    "\n",
    "\n",
    "# Hit Rate for phrases and emotions testing set\n",
    "num_of_hits = 0\n",
    "total = 0\n",
    "\n",
    "for i in testing_emotions_and_phrases_token:\n",
    "    for word in i:\n",
    "        try:\n",
    "            # pdb.set_trace()\n",
    "            twitter_model.key_to_index[word]\n",
    "            num_of_hits += 1\n",
    "        except Exception:\n",
    "            pass\n",
    "        total += 1\n",
    "\n",
    "print(f\"Hit Rate in testing set (phrases and emotions) = {num_of_hits/total*100}%\")\n"
   ]
  },
  {
   "cell_type": "code",
   "execution_count": null,
   "metadata": {},
   "outputs": [
    {
     "name": "stdout",
     "output_type": "stream",
     "text": [
      "['neutral' 'neutral' 'neutral' ... 'neutral' 'neutral' 'neutral']\n"
     ]
    },
    {
     "name": "stderr",
     "output_type": "stream",
     "text": [
      "d:\\ProgramData\\Miniconda3\\lib\\site-packages\\sklearn\\neural_network\\_multilayer_perceptron.py:702: ConvergenceWarning: Stochastic Optimizer: Maximum iterations (200) reached and the optimization hasn't converged yet.\n",
      "  warnings.warn(\n"
     ]
    }
   ],
   "source": [
    "# For emotions classification\n",
    "emotions_classifier_mlp_embedding = MLPClassifier()\n",
    "\n",
    "# Fit the model with training_X as X and columns of training_dataset as y\n",
    "emotions_classifier_mlp_embedding.fit(X=training_X_emotions_emb,\n",
    "                                      y=training_dataset[:, 1])\n",
    "\n",
    "# Make predictions with testing_X as X\n",
    "emotion_prediction_mlp_embedding = emotions_classifier_mlp_embedding.predict(\n",
    "    X=testing_X_emotions_emb)\n",
    "print(emotion_prediction_mlp_embedding)"
   ]
  },
  {
   "cell_type": "code",
   "execution_count": null,
   "metadata": {},
   "outputs": [],
   "source": [
    "# Append Emotions results\n",
    "performance_file = open(\"performance\", \"a\")\n",
    "performance_file.write(\n",
    "    \"-----Emotions classification (twitter model) (Multi Layered Perception with word Embeddings)-----\\n\")\n",
    "\n",
    "performance_file.write(\n",
    "    f\"Emotions hyperparameters = {emotions_classifier_mlp_embedding.n_features_in_}\\n\")\n",
    "\n",
    "confusion_matrix_output = confusion_matrix(\n",
    "    y_true=testing_dataset[:, 1], y_pred=emotion_prediction_mlp_embedding)\n",
    "performance_file.write(f\"Confusion Matrix = \\n{confusion_matrix_output}\\n\\n\")\n",
    "\n",
    "class_report = classification_report(\n",
    "    y_true=testing_dataset[:, 1], y_pred=emotion_prediction_mlp_embedding, zero_division=0)\n",
    "performance_file.write(f\"Classification Report = \\n{class_report}\\n\")\n",
    "performance_file.write(\n",
    "    f\"----------------------------------------------------------\\n\\n\")\n",
    "\n",
    "performance_file.close()"
   ]
  },
  {
   "cell_type": "code",
   "execution_count": null,
   "metadata": {},
   "outputs": [
    {
     "name": "stderr",
     "output_type": "stream",
     "text": [
      "d:\\ProgramData\\Miniconda3\\lib\\site-packages\\sklearn\\neural_network\\_multilayer_perceptron.py:702: ConvergenceWarning: Stochastic Optimizer: Maximum iterations (200) reached and the optimization hasn't converged yet.\n",
      "  warnings.warn(\n"
     ]
    },
    {
     "name": "stdout",
     "output_type": "stream",
     "text": [
      "['negative' 'positive' 'positive' ... 'neutral' 'positive' 'ambiguous']\n"
     ]
    }
   ],
   "source": [
    "# For sentiments classification\n",
    "sentiments_classifier_mlp_embedding = MLPClassifier()\n",
    "\n",
    "# Fit the model with training_X as X and columns of training_dataset as y\n",
    "sentiments_classifier_mlp_embedding.fit(X=training_X_sentiments_emb,\n",
    "                                      y=training_dataset[:, 2])\n",
    "\n",
    "# Make predictions with testing_X as X\n",
    "sentiments_prediction_mlp_embedding = sentiments_classifier_mlp_embedding.predict(\n",
    "    X=testing_X_sentiments_emb)\n",
    "print(sentiments_prediction_mlp_embedding)"
   ]
  },
  {
   "cell_type": "code",
   "execution_count": null,
   "metadata": {},
   "outputs": [],
   "source": [
    "# Append Sentiments results\n",
    "performance_file = open(\"performance\", \"a\")\n",
    "performance_file.write(\n",
    "    \"-----Sentiments classification (twitter model) (Multi Layered Perception with word Embeddings)-----\\n\")\n",
    "\n",
    "performance_file.write(\n",
    "    f\"Sentiments hyperparameters = {sentiments_classifier_mlp_embedding.n_features_in_}\\n\")\n",
    "\n",
    "confusion_matrix_output = confusion_matrix(\n",
    "    y_true=testing_dataset[:, 2], y_pred=sentiments_prediction_mlp_embedding)\n",
    "performance_file.write(f\"Confusion Matrix = \\n{confusion_matrix_output}\\n\\n\")\n",
    "\n",
    "class_report = classification_report(\n",
    "    y_true=testing_dataset[:, 2], y_pred=sentiments_prediction_mlp_embedding, zero_division=0)\n",
    "performance_file.write(f\"Classification Report = \\n{class_report}\\n\")\n",
    "performance_file.write(\n",
    "    f\"----------------------------------------------------------\\n\\n\")\n",
    "\n",
    "performance_file.close()\n"
   ]
  }
 ],
 "metadata": {
  "kernelspec": {
   "display_name": "Python 3.9.13 ('base')",
   "language": "python",
   "name": "python3"
  },
  "language_info": {
   "codemirror_mode": {
    "name": "ipython",
    "version": 3
   },
   "file_extension": ".py",
   "mimetype": "text/x-python",
   "name": "python",
   "nbconvert_exporter": "python",
   "pygments_lexer": "ipython3",
   "version": "3.9.13"
  },
  "orig_nbformat": 4,
  "vscode": {
   "interpreter": {
    "hash": "820d776940a02930c69820a8cec178404e4e9e60b6116e2717a21913b50566a0"
   }
  }
 },
 "nbformat": 4,
 "nbformat_minor": 2
}
