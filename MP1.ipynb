{
 "cells": [
  {
   "cell_type": "markdown",
   "metadata": {},
   "source": [
    "# Mini Project 1"
   ]
  },
  {
   "cell_type": "code",
   "execution_count": null,
   "metadata": {},
   "outputs": [],
   "source": [
    "print('Hello MP1!')\n"
   ]
  },
  {
   "cell_type": "markdown",
   "metadata": {},
   "source": [
    "### Imported libraries used for the project\n",
    "1. jupiter\n",
    "2. scikit-learn\n",
    "3. gensim\n",
    "4. nltk\n",
    "5. numpy\n",
    "6. pandas\n",
    "7. matplotlib\n",
    "\n",
    "`conda install jupiter scikit-learn gensim nltk numpy pandas matplotlib`"
   ]
  },
  {
   "cell_type": "markdown",
   "metadata": {},
   "source": [
    "## 1. Dataset Preparation & Analysis (5pts)"
   ]
  },
  {
   "cell_type": "markdown",
   "metadata": {},
   "source": [
    "1.2. Load the dataset. You can use `gzip.open` and `json.load` to do that."
   ]
  },
  {
   "cell_type": "code",
   "execution_count": null,
   "metadata": {},
   "outputs": [],
   "source": [
    "import gzip\n",
    "import json\n",
    "\n",
    "dataset = gzip.open('goemotions.json.gz')\n",
    "dataset_json = json.load(dataset)\n",
    "\n",
    "# Close the gz dataset once your finished loading the data as a json object\n",
    "dataset.close()\n"
   ]
  },
  {
   "cell_type": "markdown",
   "metadata": {},
   "source": [
    "1.3. (5pts) Extract the posts and the 2 sets of labels (emotion and sentiment), then plot the distribution\n",
    "of the posts in each category and save the graphic (a histogram or pie chart) in pdf. Do this for both\n",
    "the emotion and the sentiment categories. You can use `matplotlib.pyplot` and `savefig` to do this.\n",
    "This pre-analysis of the dataset will allow you to determine if the classes are balanced, and which\n",
    "metric is more appropriate to use to evaluate the performance of your classifiers."
   ]
  },
  {
   "cell_type": "code",
   "execution_count": null,
   "metadata": {},
   "outputs": [],
   "source": [
    "import matplotlib.pyplot as plt\n",
    "import numpy as np\n",
    "from collections import Counter\n",
    "\n",
    "numpy_dataset = np.array(dataset_json)\n",
    "\n",
    "# Get column only for emotion and sentiment\n",
    "emotion_dataset_col = numpy_dataset[:, 1]\n",
    "sentiment_dataset_col = numpy_dataset[:, 2]\n",
    "\n",
    "# Count the number of times each value appears\n",
    "emotion_count = Counter(emotion_dataset_col)\n",
    "sentiment_count = Counter(sentiment_dataset_col)\n",
    "\n",
    "\n",
    "plt.pie(emotion_count.values(), None, emotion_count.keys())\n",
    "plt.savefig('emotions_pie_chart')\n",
    "\n",
    "plt.close()\n",
    "\n",
    "plt.pie(sentiment_count.values(), None, sentiment_count.keys())\n",
    "plt.savefig('sentiment_pie_chart')\n",
    "\n",
    "plt.close()\n"
   ]
  },
  {
   "cell_type": "markdown",
   "metadata": {},
   "source": [
    "## 2. Words as Features (35pts)"
   ]
  },
  {
   "cell_type": "code",
   "execution_count": null,
   "metadata": {},
   "outputs": [],
   "source": [
    "import torch\n",
    "\n",
    "device = torch.device('cuda' if torch.cuda.is_available() else 'cpu')\n",
    "print(\"Device: \" + str(device))"
   ]
  },
  {
   "cell_type": "markdown",
   "metadata": {},
   "source": [
    "2.1. □ (5pts) Process the dataset using `feature_extraction.text.CountVectorizer` to extract tokens/words\n",
    "and their frequencies. Display the number of tokens (the size of the vocabulary) in the dataset."
   ]
  },
  {
   "cell_type": "code",
   "execution_count": null,
   "metadata": {},
   "outputs": [],
   "source": [
    "from sklearn.feature_extraction.text import CountVectorizer\n",
    "\n",
    "\n",
    "# Phrases are in the first column of the dataset\n",
    "phrases = numpy_dataset[:, 0]\n",
    "\n",
    "# Process the dataset\n",
    "vectorizer_emotions = CountVectorizer()\n",
    "\n",
    "# X value is the processed_dataset\n",
    "X_emotions = vectorizer_emotions.fit_transform(phrases)\n",
    "\n",
    "print(\"Number of features (tokens in the vocabulary) =\",\n",
    "      len(vectorizer_emotions.get_feature_names_out()))\n"
   ]
  },
  {
   "cell_type": "code",
   "execution_count": null,
   "metadata": {},
   "outputs": [],
   "source": [
    "emotions = numpy_dataset[:, 1]\n",
    "\n",
    "emotions_and_phrases = phrases.copy()\n",
    "\n",
    "for count, i in enumerate(phrases):\n",
    "    emotions_and_phrases[count] = i + \" \" + emotions[count]\n",
    "\n",
    "vectorizer_sentiments = CountVectorizer()\n",
    "X_sentiments = vectorizer_sentiments.fit_transform(emotions_and_phrases)\n",
    "\n",
    "print(\"Number of features (tokens in the vocabulary) including emotions =\",\n",
    "      len(vectorizer_sentiments.get_feature_names_out()))\n"
   ]
  },
  {
   "cell_type": "markdown",
   "metadata": {},
   "source": [
    "2.2. □ (2pts) Split the dataset into 80% for training and 20% for testing. For this, you can use `train_test_split`."
   ]
  },
  {
   "cell_type": "code",
   "execution_count": null,
   "metadata": {},
   "outputs": [],
   "source": [
    "# Split the dataset\n",
    "from sklearn.model_selection import train_test_split\n",
    "\n",
    "# Split the dataset\n",
    "training_dataset, testing_dataset = train_test_split(\n",
    "    numpy_dataset, train_size=0.8, test_size=0.2)\n",
    "\n",
    "# Split the feature vector of emotions\n",
    "training_X_emotions, testing_X_emotions = train_test_split(\n",
    "    X_emotions, train_size=0.8, test_size=0.2)\n",
    "\n",
    "# Split the feature vector of sentiments\n",
    "training_X_sentiments, testing_X_sentiments = train_test_split(\n",
    "    X_sentiments, train_size=0.8, test_size=0.2)\n",
    "\n",
    "# Print the size of both datasets\n",
    "print(\"Size of training set =\", training_dataset.shape[0])\n",
    "print(\"Size of testing set =\", testing_dataset.shape[0])\n"
   ]
  },
  {
   "cell_type": "markdown",
   "metadata": {},
   "source": [
    "2.3. Train and test the following classifiers, for both the emotion and the sentiment classification, using\n",
    "word frequency as features."
   ]
  },
  {
   "cell_type": "markdown",
   "metadata": {},
   "source": [
    "* 2.3.1. □ (3pts) **Base-MNB**: a Multinomial Naive Bayes Classifier `(naive_bayes.MultinomialNB.html)`\n",
    "with the default parameters."
   ]
  },
  {
   "cell_type": "code",
   "execution_count": null,
   "metadata": {},
   "outputs": [],
   "source": [
    "from sklearn.naive_bayes import MultinomialNB\n",
    "\n",
    "# Create the object classifiers for emotions\n",
    "emotions_classifier_mb = MultinomialNB()\n",
    "\n",
    "# Fit the model with training_X as X and columns of training_dataset as y\n",
    "emotions_classifier_mb.fit(X=training_X_emotions,\n",
    "                           y=training_dataset[:, 1])\n",
    "\n",
    "# Make predictions with testing_X as X\n",
    "emotion_prediction_mb = emotions_classifier_mb.predict(X=testing_X_emotions)\n",
    "print(emotion_prediction_mb)\n"
   ]
  },
  {
   "cell_type": "code",
   "execution_count": null,
   "metadata": {},
   "outputs": [],
   "source": [
    "# Part 2.4 for Multinomial classification\n",
    "from sklearn.metrics import confusion_matrix\n",
    "from sklearn.metrics import classification_report\n",
    "\n",
    "# Append Emotions results\n",
    "performance_file = open(\"performance_2.3.1\", \"w\")\n",
    "performance_file.write(\n",
    "    \"-----Emotions classification (Multinomial Naive Bayes)-----\\n\")\n",
    "\n",
    "performance_file.write(\n",
    "    f\"Emotions hyperparameters = {emotions_classifier_mb.n_features_in_}\\n\")\n",
    "\n",
    "confusion_matrix_output = confusion_matrix(\n",
    "    y_true=testing_dataset[:, 1], y_pred=emotion_prediction_mb)\n",
    "performance_file.write(f\"Confusion Matrix = \\n{confusion_matrix_output}\\n\\n\")\n",
    "\n",
    "class_report = classification_report(\n",
    "    y_true=testing_dataset[:, 1], y_pred=emotion_prediction_mb, zero_division=0)\n",
    "performance_file.write(f\"Classification Report = \\n{class_report}\\n\")\n",
    "performance_file.write(\n",
    "    f\"----------------------------------------------------------\\n\\n\")\n",
    "\n",
    "performance_file.close()\n"
   ]
  },
  {
   "cell_type": "code",
   "execution_count": null,
   "metadata": {},
   "outputs": [],
   "source": [
    "# Create the object classifiers for sentiments\n",
    "sentiment_classifier_mb = MultinomialNB()\n",
    "\n",
    "# Fit the model with training_X as X and columns of training_dataset as y\n",
    "sentiment_classifier_mb.fit(X=training_X_sentiments,\n",
    "                            y=training_dataset[:, 2])\n",
    "\n",
    "# Make predictions with testing_X as X\n",
    "sentiment_prediction_mb = sentiment_classifier_mb.predict(\n",
    "    X=testing_X_sentiments)\n",
    "print(sentiment_prediction_mb)\n"
   ]
  },
  {
   "cell_type": "code",
   "execution_count": null,
   "metadata": {},
   "outputs": [],
   "source": [
    "# Append Sentiments results\n",
    "performance_file = open(\"performance_2.3.1\", \"a\")\n",
    "performance_file.write(\n",
    "    \"-----Sentiments classification (Multinomial Naive Bayes)-----\\n\")\n",
    "\n",
    "performance_file.write(\n",
    "    f\"Sentiments hyperparameters = {sentiment_classifier_mb.n_features_in_}\\n\")\n",
    "\n",
    "confusion_matrix_output = confusion_matrix(\n",
    "    y_true=testing_dataset[:, 2], y_pred=sentiment_prediction_mb)\n",
    "performance_file.write(f\"Confusion Matrix = \\n{confusion_matrix_output}\\n\\n\")\n",
    "\n",
    "class_report = classification_report(\n",
    "    y_true=testing_dataset[:, 2], y_pred=sentiment_prediction_mb, zero_division=0)\n",
    "performance_file.write(f\"Classification Report = \\n{class_report}\\n\")\n",
    "performance_file.write(\n",
    "    f\"----------------------------------------------------------\\n\\n\")\n",
    "\n",
    "performance_file.close()\n"
   ]
  },
  {
   "cell_type": "markdown",
   "metadata": {},
   "source": [
    "* 2.3.2. □ (3pts) **Base-DT:** a Decision Tree `(tree.DecisionTreeClassifier)` with the default parameters."
   ]
  },
  {
   "cell_type": "code",
   "execution_count": null,
   "metadata": {},
   "outputs": [],
   "source": [
    "from sklearn.tree import DecisionTreeClassifier\n",
    "\n",
    "# Create the object classifiers for emotions\n",
    "emotions_classifier_dt = DecisionTreeClassifier()\n",
    "\n",
    "# Fit the model with training_X as X and columns of training_dataset as y\n",
    "emotions_classifier_dt.fit(X=training_X_emotions,\n",
    "                           y=training_dataset[:, 1])\n",
    "\n",
    "# Make predictions with testing_X as X\n",
    "emotion_prediction_dt = emotions_classifier_dt.predict(X=testing_X_emotions)\n",
    "print(emotion_prediction_dt)\n"
   ]
  },
  {
   "cell_type": "code",
   "execution_count": null,
   "metadata": {},
   "outputs": [],
   "source": [
    "# Part 2.4 for DecisionTree classification\n",
    "\n",
    "\n",
    "# Append Emotions results\n",
    "performance_file = open(\"performance_2.3.2\", \"w\")\n",
    "performance_file.write(\"-----Emotions classification (Decision Tree)-----\\n\")\n",
    "\n",
    "performance_file.write(\n",
    "    f\"Emotions hyperparameters = {emotions_classifier_dt.n_features_in_}\\n\")\n",
    "\n",
    "confusion_matrix_output = confusion_matrix(\n",
    "    y_true=testing_dataset[:, 1], y_pred=emotion_prediction_dt)\n",
    "performance_file.write(f\"Confusion Matrix = \\n{confusion_matrix_output}\\n\\n\")\n",
    "\n",
    "class_report = classification_report(\n",
    "    y_true=testing_dataset[:, 1], y_pred=emotion_prediction_dt, zero_division=0)\n",
    "performance_file.write(f\"Classification Report = \\n{class_report}\\n\")\n",
    "performance_file.write(\n",
    "    f\"----------------------------------------------------------\\n\\n\")\n",
    "performance_file.close()\n"
   ]
  },
  {
   "cell_type": "code",
   "execution_count": null,
   "metadata": {},
   "outputs": [],
   "source": [
    "# Create the object classifiers for sentiments\n",
    "sentiment_classifier_dt = DecisionTreeClassifier()\n",
    "\n",
    "# Fit the model with training_X as X and columns of training_dataset as y\n",
    "sentiment_classifier_dt.fit(X=training_X_sentiments,\n",
    "                            y=training_dataset[:, 2])\n",
    "\n",
    "# Make predictions with testing_X as X\n",
    "sentiment_prediction_dt = sentiment_classifier_dt.predict(\n",
    "    X=testing_X_sentiments)\n",
    "print(sentiment_prediction_dt)\n"
   ]
  },
  {
   "cell_type": "code",
   "execution_count": null,
   "metadata": {},
   "outputs": [],
   "source": [
    "\n",
    "# Append Sentiments results\n",
    "performance_file = open(\"performance_2.3.2\", \"a\")\n",
    "performance_file.write(\n",
    "    \"-----Sentiments classification (Decision Tree)-----\\n\")\n",
    "\n",
    "performance_file.write(\n",
    "    f\"Sentiments hyperparameters = {sentiment_classifier_dt.n_features_in_}\\n\")\n",
    "\n",
    "confusion_matrix_output = confusion_matrix(\n",
    "    y_true=testing_dataset[:, 2], y_pred=sentiment_prediction_dt)\n",
    "performance_file.write(f\"Confusion Matrix = \\n{confusion_matrix_output}\\n\\n\")\n",
    "\n",
    "class_report = classification_report(\n",
    "    y_true=testing_dataset[:, 2], y_pred=sentiment_prediction_dt, zero_division=0)\n",
    "performance_file.write(f\"Classification Report = \\n{class_report}\\n\")\n",
    "performance_file.write(\n",
    "    f\"----------------------------------------------------------\\n\\n\")\n",
    "\n",
    "performance_file.close()\n"
   ]
  },
  {
   "cell_type": "markdown",
   "metadata": {},
   "source": [
    "* 2.3.3. □ (3pts) **Base-MLP:** a Multi-Layered Perceptron `(neural network.MLPClassifier)` with the\n",
    "default parameters."
   ]
  },
  {
   "cell_type": "code",
   "execution_count": null,
   "metadata": {
    "collapsed": false,
    "pycharm": {
     "name": "#%%\n"
    }
   },
   "outputs": [],
   "source": [
    "# import MLPClassifier\n",
    "from sklearn.neural_network import MLPClassifier\n",
    "\n",
    "# Create the object classifiers for emotions\n",
    "emotions_classifier_mlp = MLPClassifier(verbose=True,max_iter=1)\n",
    "\n",
    "# Fit the model with training_X as X and columns of training_dataset as y\n",
    "emotions_classifier_mlp.fit(X=training_X_emotions, y=training_dataset[:, 1])\n",
    "\n",
    "# Make predictions with testing_X as X\n",
    "emotion_prediction_mlp = emotions_classifier_mlp.predict(X=testing_X_emotions)\n",
    "print(emotion_prediction_mlp)"
   ]
  },
  {
   "cell_type": "code",
   "execution_count": null,
   "metadata": {
    "collapsed": false,
    "pycharm": {
     "name": "#%%\n"
    }
   },
   "outputs": [],
   "source": [
    "# Part 2.4 for MLP classification\n",
    "\n",
    "\n",
    "# Append Emotions results\n",
    "performance_file = open(\"performance_2.3.3\", \"w\")\n",
    "performance_file.write(\"-----Emotions classification (multi layer perceptron)-----\\n\")\n",
    "\n",
    "performance_file.write(\n",
    "    f\"Emotions hyperparameters = {emotions_classifier_mlp.n_features_in_}\\n\")\n",
    "\n",
    "confusion_matrix_output = confusion_matrix(\n",
    "    y_true=testing_dataset[:, 1], y_pred=emotion_prediction_mlp)\n",
    "performance_file.write(f\"Confusion Matrix = \\n{confusion_matrix_output}\\n\\n\")\n",
    "\n",
    "class_report = classification_report(\n",
    "    y_true=testing_dataset[:, 1], y_pred=emotion_prediction_mlp, zero_division=0)\n",
    "performance_file.write(f\"Classification Report = \\n{class_report}\\n\")\n",
    "performance_file.write(\n",
    "    f\"----------------------------------------------------------\\n\\n\")\n",
    "performance_file.close()\n"
   ]
  },
  {
   "cell_type": "code",
   "execution_count": null,
   "metadata": {
    "collapsed": false,
    "pycharm": {
     "name": "#%%\n"
    }
   },
   "outputs": [],
   "source": [
    "# Create the object classifiers for sentiments\n",
    "sentiment_classifier_mlp = MLPClassifier(verbose=True,max_iter=1)\n",
    "\n",
    "# Fit the model with training_X as X and columns of training_dataset as y\n",
    "sentiment_classifier_mlp.fit(X=training_X_sentiments, y=training_dataset[:, 2])\n",
    "\n",
    "# Make predictions with testing_X as X\n",
    "sentiment_prediction_mlp = sentiment_classifier_mlp.predict(X=testing_X_sentiments)\n",
    "\n",
    "print(sentiment_prediction_mlp)"
   ]
  },
  {
   "cell_type": "code",
   "execution_count": null,
   "metadata": {
    "collapsed": false,
    "pycharm": {
     "name": "#%%\n"
    }
   },
   "outputs": [],
   "source": [
    "# Append Sentiments results\n",
    "performance_file = open(\"performance_2.3.3\", \"a\")\n",
    "performance_file.write(\n",
    "    \"-----Sentiments classification (Multi layer perceptron)-----\\n\")\n",
    "\n",
    "performance_file.write(\n",
    "    f\"Sentiments hyperparameters = {sentiment_classifier_mlp.n_features_in_}\\n\")\n",
    "\n",
    "confusion_matrix_output = confusion_matrix(\n",
    "    y_true=testing_dataset[:, 2], y_pred=sentiment_prediction_mlp)\n",
    "performance_file.write(f\"Confusion Matrix = \\n{confusion_matrix_output}\\n\\n\")\n",
    "\n",
    "class_report = classification_report(\n",
    "    y_true=testing_dataset[:, 2], y_pred=sentiment_prediction_mlp, zero_division=0)\n",
    "performance_file.write(f\"Classification Report = \\n{class_report}\\n\")\n",
    "performance_file.write(\n",
    "    f\"----------------------------------------------------------\\n\\n\")\n",
    "\n",
    "performance_file.close()"
   ]
  },
  {
   "cell_type": "markdown",
   "metadata": {},
   "source": [
    "* 2.3.4. □ (3pts) **Top-MNB:** a better performing Multinomial Naive Bayes Classifier found using `GridSearchCV`.\n",
    "The gridsearch will allow you to find the best combination of hyper-parameters, as determined\n",
    "by the evaluation function that you have determined in step 1.3. The only hyper-parameter that\n",
    "you will experiment with is `alphafloat` with values 0.5, 0 and 2 other values of your choice."
   ]
  },
  {
   "cell_type": "code",
   "execution_count": null,
   "metadata": {},
   "outputs": [],
   "source": [
    "from sklearn.model_selection import GridSearchCV\n",
    "\n",
    "# hyperparameter used in gridsearch\n",
    "hyperparam = {'alpha': [0, 0.5, 1.0, 5.0]}\n",
    "\n",
    "# emotions gridsearch for Top Multinomial Naive Bayes\n",
    "emo_top_mnb_gridsearch = GridSearchCV(emotions_classifier_mb, param_grid=hyperparam)\n",
    "emo_top_mnb_gridsearch.fit(X=training_X_emotions, y=training_dataset[:, 1])\n",
    "emo_prediction_tmb = emo_top_mnb_gridsearch.predict(X=testing_X_emotions)\n",
    "print(emo_prediction_tmb)\n"
   ]
  },
  {
   "cell_type": "code",
   "execution_count": null,
   "metadata": {},
   "outputs": [],
   "source": [
    "# Part 2.4 for Top Multinomial Naive Bayes classification with GridSearchCV (Emotions)\n",
    "from sklearn.metrics import confusion_matrix\n",
    "from sklearn.metrics import classification_report\n",
    "\n",
    "# Append Emotions results\n",
    "performance_file = open(\"performance_2.3.4\", \"w\")\n",
    "performance_file.write(\"-----Emotions classification (Top Multinomial Naive Bayes with GridSearchCV)-----\\n\")\n",
    "\n",
    "performance_file.write(f\"Emotions hyperparamenters = {emo_top_mnb_gridsearch.n_features_in_}\\n\")\n",
    "\n",
    "confusion_matrix_output = confusion_matrix(y_true=testing_dataset[:, 1], y_pred=emo_prediction_tmb)\n",
    "performance_file.write(f\"Confusion Matrix = \\n{confusion_matrix_output}\\n\\n\")\n",
    "\n",
    "class_report = classification_report(y_true=testing_dataset[:, 1], y_pred=emo_prediction_tmb, zero_division=0)\n",
    "performance_file.write(f\"Classification Report = \\n{class_report}\\n\")\n",
    "performance_file.write(f\"----------------------------------------------------------\\n\\n\")\n",
    "\n",
    "performance_file.close()"
   ]
  },
  {
   "cell_type": "code",
   "execution_count": null,
   "metadata": {},
   "outputs": [],
   "source": [
    "# sentiments gridsearch for Top Multinomial Naive Bayes\n",
    "sen_top_mnb_gridsearch = GridSearchCV(sentiment_classifier_mb, param_grid=hyperparam)\n",
    "sen_top_mnb_gridsearch.fit(X=training_X_sentiments, y=training_dataset[:, 2])\n",
    "sen_prediction_tmb = sen_top_mnb_gridsearch.predict(X=testing_X_sentiments)\n",
    "print(sen_prediction_tmb)"
   ]
  },
  {
   "cell_type": "code",
   "execution_count": null,
   "metadata": {},
   "outputs": [],
   "source": [
    "# Part 2.4 for Top Multinomial Naive Bayes classification with GridSearchCV (Sentiment)\n",
    "from sklearn.metrics import confusion_matrix\n",
    "from sklearn.metrics import classification_report\n",
    "\n",
    "# Append Sentiments results\n",
    "performance_file = open(\"performance_2.3.4\", \"a\")\n",
    "performance_file.write(\"-----Sentiment classification (Top Multinomial Naive Bayes with GridSearchCV)-----\\n\")\n",
    "\n",
    "performance_file.write(f\"Sentiment hyperparamenters = {sen_top_mnb_gridsearch.n_features_in_}\\n\")\n",
    "\n",
    "confusion_matrix_output = confusion_matrix(y_true=testing_dataset[:, 2], y_pred=sen_prediction_tmb)\n",
    "performance_file.write(f\"Confusion Matrix = \\n{confusion_matrix_output}\\n\\n\")\n",
    "\n",
    "class_report = classification_report(y_true=testing_dataset[:, 2], y_pred=sen_prediction_tmb, zero_division=0)\n",
    "performance_file.write(f\"Classification Report = \\n{class_report}\\n\")\n",
    "performance_file.write(f\"----------------------------------------------------------\\n\\n\")\n",
    "\n",
    "performance_file.close()"
   ]
  },
  {
   "cell_type": "markdown",
   "metadata": {},
   "source": [
    "* 2.3.5. □ (3pts) **Top-DT:** a better performing Decision Tree found using `GridSearchCV.` The hyperparameters\n",
    "that you will experiment with are:\n",
    "  * `criterion:` gini or entropy\n",
    "  * `max depth:` 2 different values of your choice\n",
    "  * `min samples split:` 3 different values of your choice"
   ]
  },
  {
   "cell_type": "code",
   "execution_count": null,
   "metadata": {},
   "outputs": [],
   "source": [
    "from sklearn.model_selection import GridSearchCV\n",
    "# apply hyper parameters\n",
    "param_grid = {'criterion': ['gini', 'entropy'],\n",
    "              'max_depth': [2, 4], 'min_samples_split': [2, 5, 10]}\n",
    "\n",
    "# create objects classifier with grid search\n",
    "grid_search_emotion_classifier = GridSearchCV(\n",
    "    emotions_classifier_dt, param_grid)\n",
    "\n",
    "# Fit the model with training_X as X and columns of training_dataset as y\n",
    "grid_search_emotion_classifier.fit(\n",
    "    X=training_X_emotions, y=training_dataset[:, 1])\n",
    "\n",
    "# Make predictions with testing_X as X\n",
    "grid_search_emotion_predict = grid_search_emotion_classifier.predict(\n",
    "    X=testing_X_emotions)\n",
    "print(grid_search_emotion_predict)"
   ]
  },
  {
   "cell_type": "code",
   "execution_count": null,
   "metadata": {},
   "outputs": [],
   "source": [
    "# Part 2.4 for gridsearch Dt classification\n",
    "\n",
    "\n",
    "# Append Emotions results\n",
    "performance_file = open(\"performance_2.3.5\", \"w\")\n",
    "performance_file.write(\"-----Emotions classification (Grid Search Decision Tree)-----\\n\")\n",
    "\n",
    "performance_file.write(\n",
    "    f\"Emotions hyperparameters = {grid_search_emotion_classifier.n_features_in_}\\n\")\n",
    "\n",
    "confusion_matrix_output = confusion_matrix(\n",
    "    y_true=testing_dataset[:, 1], y_pred=grid_search_emotion_predict)\n",
    "performance_file.write(f\"Confusion Matrix = \\n{confusion_matrix_output}\\n\\n\")\n",
    "\n",
    "class_report = classification_report(\n",
    "    y_true=testing_dataset[:, 1], y_pred=grid_search_emotion_predict, zero_division=0)\n",
    "performance_file.write(f\"Classification Report = \\n{class_report}\\n\")\n",
    "performance_file.write(\n",
    "    f\"----------------------------------------------------------\\n\\n\")\n",
    "performance_file.close()"
   ]
  },
  {
   "cell_type": "code",
   "execution_count": null,
   "metadata": {},
   "outputs": [],
   "source": [
    "# create objects classifier with grid search\n",
    "grid_search_sentiment_classifier = GridSearchCV(sentiment_classifier_dt, param_grid)\n",
    "\n",
    "# Fit the model with training_X as X and columns of training_dataset as y\n",
    "grid_search_sentiment_classifier.fit(X=training_X_sentiments, y=training_dataset[:, 2])\n",
    "\n",
    "# Make predictions with testing_X as X\n",
    "grid_search_sentiment_predict = grid_search_sentiment_classifier.predict(X=testing_X_sentiments)\n",
    "print(grid_search_sentiment_predict)"
   ]
  },
  {
   "cell_type": "code",
   "execution_count": null,
   "metadata": {},
   "outputs": [],
   "source": [
    "# Append Sentiments results\n",
    "performance_file = open(\"performance_2.3.5\", \"a\")\n",
    "performance_file.write(\n",
    "    \"-----Sentiments classification (Grid Search Decision Tree)-----\\n\")\n",
    "\n",
    "performance_file.write(\n",
    "    f\"Sentiments hyperparameters = {grid_search_sentiment_classifier.n_features_in_}\\n\")\n",
    "\n",
    "confusion_matrix_output = confusion_matrix(\n",
    "    y_true=testing_dataset[:, 2], y_pred=grid_search_sentiment_predict)\n",
    "performance_file.write(f\"Confusion Matrix = \\n{confusion_matrix_output}\\n\\n\")\n",
    "\n",
    "class_report = classification_report(\n",
    "    y_true=testing_dataset[:, 2], y_pred=grid_search_sentiment_predict, zero_division=0)\n",
    "performance_file.write(f\"Classification Report = \\n{class_report}\\n\")\n",
    "performance_file.write(\n",
    "    f\"----------------------------------------------------------\\n\\n\")\n",
    "\n",
    "performance_file.close()"
   ]
  },
  {
   "cell_type": "markdown",
   "metadata": {},
   "source": [
    "* 2.3.6. □ (3pts) **Top-MLP:** a better performing Multi-Layered Perceptron found using GridSearchCV.\n",
    "The hyper-parameters that you will experiment with are:\n",
    "    * `activation:` sigmoid, tanh, relu and identity\n",
    "    * 2 network architectures of your choice: for eg, 2 hidden layers with 30+50 nodes and 3 hidden\n",
    "layers with 10 + 10 + 10\n",
    "    * `solver:` Adam and stochastic gradient descent"
   ]
  },
  {
   "cell_type": "code",
   "execution_count": null,
   "metadata": {},
   "outputs": [],
   "source": [
    "from sklearn.model_selection import GridSearchCV\n",
    "from sklearn.neural_network import MLPClassifier\n",
    "\n",
    "# hyperparameter used in gridsearch\n",
    "hyperparam = {'activation': ['sigmoid', 'tanh', 'relu', 'identity'],\n",
    "                'hidden_layer_sizes': [2, 3],\n",
    "                'solver': ['Adam', 'sgd']}\n",
    "\n",
    "emo_top_mlp_gridsearch = GridSearchCV(emotions_classifier_mlp, param_grid=hyperparam)\n",
    "emo_top_mlp_gridsearch.fit(X=training_X_emotions, y=training_dataset[:, 1])\n",
    "emo_prediction_tmlp = emo_top_mlp_gridsearch.predict(X=testing_X_emotions)\n",
    "print(emo_prediction_tmlp)\n"
   ]
  },
  {
   "cell_type": "code",
   "execution_count": null,
   "metadata": {},
   "outputs": [],
   "source": [
    "# Part 2.4 for Top Multi-Layered Percentron classification with GridSearchCV (Emotions)\n",
    "from sklearn.metrics import confusion_matrix\n",
    "from sklearn.metrics import classification_report\n",
    "\n",
    "# Append Emotions results\n",
    "performance_file = open(\"performance_2.3.6\", \"w\")\n",
    "performance_file.write(\"-----Emotions classification (Top Multi-Layered Percentron with GridSearchCV)-----\\n\")\n",
    "\n",
    "performance_file.write(f\"Emotions hyperparamenters = {emo_top_mlp_gridsearch.n_features_in_}\\n\")\n",
    "\n",
    "confusion_matrix_output = confusion_matrix(y_true=testing_dataset[:, 1], y_pred=emo_prediction_tmlp)\n",
    "performance_file.write(f\"Confusion Matrix = \\n{confusion_matrix_output}\\n\\n\")\n",
    "\n",
    "class_report = classification_report(y_true=testing_dataset[:, 1], y_pred=emo_prediction_tmlp, zero_division=0)\n",
    "performance_file.write(f\"Classification Report = \\n{class_report}\\n\")\n",
    "performance_file.write(f\"----------------------------------------------------------\\n\\n\")\n",
    "\n",
    "performance_file.close()"
   ]
  },
  {
   "cell_type": "code",
   "execution_count": null,
   "metadata": {},
   "outputs": [],
   "source": [
    "sen_top_mlp_gridsearch = GridSearchCV(emotions_classifier_mlp, param_grid=hyperparam)\n",
    "sen_top_mlp_gridsearch.fit(X=training_X_emotions, y=training_dataset[:, 2])\n",
    "sen_prediction_tmlp = sen_top_mlp_gridsearch.predict(X=testing_X_emotions)\n",
    "print(emo_prediction_tmlp)"
   ]
  },
  {
   "cell_type": "code",
   "execution_count": null,
   "metadata": {},
   "outputs": [],
   "source": [
    "# Part 2.4 for Top Multi-Layered Percentron classification with GridSearchCV (Sentiment)\n",
    "from sklearn.metrics import confusion_matrix\n",
    "from sklearn.metrics import classification_report\n",
    "\n",
    "# Append Sentiment results\n",
    "performance_file = open(\"performance_2.3.6\", \"a\")\n",
    "performance_file.write(\"-----Sentiment classification (Top Multi-Layered Percentron with GridSearchCV)-----\\n\")\n",
    "\n",
    "performance_file.write(f\"Sentiment hyperparamenters = {sen_top_mlp_gridsearch.n_features_in_}\\n\")\n",
    "\n",
    "confusion_matrix_output = confusion_matrix(y_true=testing_dataset[:, 2], y_pred=sen_prediction_tmlp)\n",
    "performance_file.write(f\"Confusion Matrix = \\n{confusion_matrix_output}\\n\\n\")\n",
    "\n",
    "class_report = classification_report(y_true=testing_dataset[:, 2], y_pred=sen_prediction_tmlp, zero_division=0)\n",
    "performance_file.write(f\"Classification Report = \\n{class_report}\\n\")\n",
    "performance_file.write(f\"----------------------------------------------------------\\n\\n\")\n",
    "\n",
    "performance_file.close()"
   ]
  },
  {
   "cell_type": "markdown",
   "metadata": {},
   "source": [
    "2.4. □ (5pts) For each of the 6 classifiers above and each of the classification tasks (emotion or sentiment),\n",
    "produce and save the following information in a file called `performance`:\n",
    "* a string clearly describing the model (e.g. the model name + hyper-parameter values) and the\n",
    "classification task (emotion or sentiment)\n",
    "* the confusion matrix – use `metrics.confusion_matrix`\n",
    "* the precision, recall, and F1-measure for each class, and the accuracy, macro-"
   ]
  },
  {
   "cell_type": "markdown",
   "metadata": {},
   "source": [
    "2.5. □ (7.5pts) **Do your own exploration:** Do only one of the following, depending on your own interest:\n",
    "* Use tf-idf instead of word frequencies and redo all substeps of 2.3 above – you can use `TfidfTransformer`\n",
    "for this. Display the results of this experiment.\n",
    "* Remove stop words and redo all substeps of 2.3 above – you can use the parameter of `CountVectorizer`\n",
    "for this. Display the results of this experiment.\n",
    "* Play with `train_test_split` in order have different splits of 80% training, 20% test sets and\n",
    "different sizes of training sets and redo all substeps of 2.3 above. Show and explain how the\n",
    "performance of your models vary depending on the training/test sets are used."
   ]
  },
  {
   "cell_type": "markdown",
   "metadata": {},
   "source": [
    "### Option chosen: play with train_test_split (50%:50%)\n",
    "Step 1: change the training and test set sizes to 50% <br><br>\n",
    "\n",
    "<b>Hypothesis:\n",
    "we can assume this will have a net negative outcome \n",
    "since the training set is losing 30% of its testable material.\n",
    "Size of original training set = 137456 Size of original testing set = 34364\n",
    "Size of new training set = 85910 Size of new testing set = 85910</b>"
   ]
  },
  {
   "cell_type": "code",
   "execution_count": null,
   "metadata": {},
   "outputs": [],
   "source": [
    "# Split the dataset\n",
    "from sklearn.model_selection import train_test_split\n",
    "\n",
    "tr_size = 0.5 # training size percentage\n",
    "te_size = 0.5 # testing size percentage\n",
    "\n",
    "# Split the dataset\n",
    "new_training_dataset, new_testing_dataset = train_test_split(\n",
    "    numpy_dataset, train_size = tr_size, test_size = te_size)\n",
    "\n",
    "# Split the feature vector of emotions\n",
    "new_training_X_emotions, new_testing_X_emotions = train_test_split(\n",
    "    X_emotions, train_size = tr_size, test_size = te_size)\n",
    "\n",
    "# Split the feature vector of sentiments\n",
    "new_training_X_sentiments, new_testing_X_sentiments = train_test_split(\n",
    "    X_sentiments, train_size = tr_size, test_size = te_size)\n",
    "\n",
    "# Print the size of both datasets\n",
    "print(\"Size of training set =\", new_training_dataset.shape[0])\n",
    "print(\"Size of testing set =\", new_testing_dataset.shape[0])\n"
   ]
  },
  {
   "cell_type": "markdown",
   "metadata": {},
   "source": [
    "2.5 - 2.3.1 Redo Base-MNB"
   ]
  },
  {
   "cell_type": "code",
   "execution_count": null,
   "metadata": {},
   "outputs": [],
   "source": [
    "from sklearn.naive_bayes import MultinomialNB\n",
    "\n",
    "# Create the object classifiers for emotions\n",
    "new_emotions_classifier_mb = MultinomialNB()\n",
    "\n",
    "# Fit the model with training_X as X and columns of training_dataset as y\n",
    "new_emotions_classifier_mb.fit(X=new_training_X_emotions,\n",
    "                           y=new_training_dataset[:, 1])\n",
    "\n",
    "# Make predictions with testing_X as X\n",
    "new_emotion_prediction_mb = new_emotions_classifier_mb.predict(X=new_testing_X_emotions)\n",
    "print(new_emotion_prediction_mb)"
   ]
  },
  {
   "cell_type": "code",
   "execution_count": null,
   "metadata": {},
   "outputs": [],
   "source": [
    "# Documenting Multinomial classification (Emotions & Sentiment)\n",
    "from sklearn.metrics import confusion_matrix\n",
    "from sklearn.metrics import classification_report\n",
    "\n",
    "# Append Emotions results to a new performance document\n",
    "performance_file = open(\"new_performance\", \"w\")\n",
    "performance_file.write(\n",
    "    \"-----Emotions classification (Multinomial Naive Bayes)-----\\n\")\n",
    "\n",
    "performance_file.write(\n",
    "    f\"Emotions hyperparameters = {new_emotions_classifier_mb.n_features_in_}\\n\")\n",
    "\n",
    "confusion_matrix_output = confusion_matrix(\n",
    "    y_true=new_testing_dataset[:, 1], y_pred=new_emotion_prediction_mb)\n",
    "performance_file.write(f\"Confusion Matrix = \\n{confusion_matrix_output}\\n\\n\")\n",
    "\n",
    "class_report = classification_report(\n",
    "    y_true=new_testing_dataset[:, 1], y_pred=new_emotion_prediction_mb, zero_division=0)\n",
    "performance_file.write(f\"Classification Report = \\n{class_report}\\n\")\n",
    "performance_file.write(\n",
    "    f\"----------------------------------------------------------\\n\\n\")\n",
    "\n",
    "performance_file.close()"
   ]
  },
  {
   "cell_type": "code",
   "execution_count": null,
   "metadata": {},
   "outputs": [],
   "source": [
    "# Create the object classifiers for sentiments\n",
    "new_sentiment_classifier_mb = MultinomialNB()\n",
    "\n",
    "# Fit the model with training_X as X and columns of training_dataset as y\n",
    "new_sentiment_classifier_mb.fit(X=new_training_X_sentiments,\n",
    "                            y=new_training_dataset[:, 2])\n",
    "\n",
    "# Make predictions with testing_X as X\n",
    "new_sentiment_prediction_mb = new_sentiment_classifier_mb.predict(\n",
    "    X=new_testing_X_sentiments)\n",
    "print(new_sentiment_prediction_mb)"
   ]
  },
  {
   "cell_type": "code",
   "execution_count": null,
   "metadata": {},
   "outputs": [],
   "source": [
    "# Append Sentiments results to a new performance document\n",
    "performance_file = open(\"new_performance\", \"a\")\n",
    "performance_file.write(\n",
    "    \"-----Sentiments classification (Multinomial Naive Bayes)-----\\n\")\n",
    "\n",
    "performance_file.write(\n",
    "    f\"Sentiments hyperparameters = {new_sentiment_classifier_mb.n_features_in_}\\n\")\n",
    "\n",
    "confusion_matrix_output = confusion_matrix(\n",
    "    y_true=new_testing_dataset[:, 2], y_pred=new_sentiment_prediction_mb)\n",
    "performance_file.write(f\"Confusion Matrix = \\n{confusion_matrix_output}\\n\\n\")\n",
    "\n",
    "class_report = classification_report(\n",
    "    y_true=new_testing_dataset[:, 2], y_pred=new_sentiment_prediction_mb, zero_division=0)\n",
    "performance_file.write(f\"Classification Report = \\n{class_report}\\n\")\n",
    "performance_file.write(\n",
    "    f\"----------------------------------------------------------\\n\\n\")\n",
    "\n",
    "performance_file.close()"
   ]
  },
  {
   "cell_type": "markdown",
   "metadata": {},
   "source": [
    "2.5 - 2.3.2 Redo Base-DT"
   ]
  },
  {
   "cell_type": "code",
   "execution_count": null,
   "metadata": {},
   "outputs": [],
   "source": [
    "from sklearn.tree import DecisionTreeClassifier\n",
    "\n",
    "\n",
    "# Create the object classifiers for emotions\n",
    "new_emotions_classifier_dt = DecisionTreeClassifier()\n",
    "\n",
    "# Fit the model with training_X as X and columns of training_dataset as y\n",
    "new_emotions_classifier_dt.fit(X=new_training_X_emotions,\n",
    "                           y=new_training_dataset[:, 1])\n",
    "\n",
    "# Make predictions with testing_X as X\n",
    "new_emotion_prediction_dt = new_emotions_classifier_dt.predict(X=new_testing_X_emotions)\n",
    "print(new_emotion_prediction_dt)"
   ]
  },
  {
   "cell_type": "code",
   "execution_count": null,
   "metadata": {},
   "outputs": [],
   "source": [
    "# Documenting DecisionTree classification (Emotions & Sentiment)\n",
    "\n",
    "# Append Emotions results\n",
    "performance_file = open(\"new_performance\", \"a\")\n",
    "performance_file.write(\"-----Emotions classification (Decision Tree)-----\\n\")\n",
    "\n",
    "performance_file.write(\n",
    "    f\"Emotions hyperparameters = {new_emotions_classifier_dt.n_features_in_}\\n\")\n",
    "\n",
    "confusion_matrix_output = confusion_matrix(\n",
    "    y_true=new_testing_dataset[:, 1], y_pred=new_emotion_prediction_dt)\n",
    "performance_file.write(f\"Confusion Matrix = \\n{confusion_matrix_output}\\n\\n\")\n",
    "\n",
    "class_report = classification_report(\n",
    "    y_true=new_testing_dataset[:, 1], y_pred=new_emotion_prediction_dt, zero_division=0)\n",
    "performance_file.write(f\"Classification Report = \\n{class_report}\\n\")\n",
    "performance_file.write(\n",
    "    f\"----------------------------------------------------------\\n\\n\")\n",
    "performance_file.close()"
   ]
  },
  {
   "cell_type": "code",
   "execution_count": null,
   "metadata": {},
   "outputs": [],
   "source": [
    "# Create the object classifiers for sentiments\n",
    "new_sentiment_classifier_dt = DecisionTreeClassifier()\n",
    "\n",
    "# Fit the model with training_X as X and columns of training_dataset as y\n",
    "new_sentiment_classifier_dt.fit(X=new_training_X_sentiments,\n",
    "                            y=new_training_dataset[:, 2])\n",
    "\n",
    "# Make predictions with testing_X as X\n",
    "new_sentiment_prediction_dt = new_sentiment_classifier_dt.predict(\n",
    "    X=new_testing_X_sentiments)\n",
    "print(new_sentiment_prediction_dt)"
   ]
  },
  {
   "cell_type": "code",
   "execution_count": null,
   "metadata": {},
   "outputs": [],
   "source": [
    "# Append Sentiments results\n",
    "performance_file = open(\"new_performance\", \"a\")\n",
    "performance_file.write(\n",
    "    \"-----Sentiments classification (Decision Tree)-----\\n\")\n",
    "\n",
    "performance_file.write(\n",
    "    f\"Sentiments hyperparameters = {new_sentiment_classifier_dt.n_features_in_}\\n\")\n",
    "\n",
    "confusion_matrix_output = confusion_matrix(\n",
    "    y_true=new_testing_dataset[:, 2], y_pred=new_sentiment_prediction_dt)\n",
    "performance_file.write(f\"Confusion Matrix = \\n{confusion_matrix_output}\\n\\n\")\n",
    "\n",
    "class_report = classification_report(\n",
    "    y_true=new_testing_dataset[:, 2], y_pred=new_sentiment_prediction_dt, zero_division=0)\n",
    "performance_file.write(f\"Classification Report = \\n{class_report}\\n\")\n",
    "performance_file.write(\n",
    "    f\"----------------------------------------------------------\\n\\n\")\n",
    "\n",
    "performance_file.close()"
   ]
  },
  {
   "cell_type": "markdown",
   "metadata": {},
   "source": [
    "2.5 - 2.3.3 Redo Base-MLP"
   ]
  },
  {
   "cell_type": "code",
   "execution_count": null,
   "metadata": {},
   "outputs": [],
   "source": [
    "# import MLPClassifier\n",
    "from sklearn.neural_network import MLPClassifier\n",
    "\n",
    "# Create the object classifiers for emotions\n",
    "new_emotions_classifier_mlp = MLPClassifier(verbose=True,max_iter=3)\n",
    "\n",
    "# Fit the model with training_X as X and columns of training_dataset as y\n",
    "new_emotions_classifier_mlp.fit(X=training_X_emotions, y=training_dataset[:, 1])\n",
    "\n",
    "# Make predictions with testing_X as X\n",
    "new_emotion_prediction_mlp = new_emotions_classifier_mlp.predict(X=new_testing_X_emotions)\n",
    "print(new_emotion_prediction_mlp)"
   ]
  },
  {
   "cell_type": "code",
   "execution_count": null,
   "metadata": {},
   "outputs": [],
   "source": [
    "# Documenting MLPClassifier classification (Emotions & Sentiment)\n",
    "\n",
    "# Append Emotions results\n",
    "performance_file = open(\"new_performance\", \"a\")\n",
    "performance_file.write(\"-----Emotions classification (multi layer perceptron)-----\\n\")\n",
    "\n",
    "performance_file.write(\n",
    "    f\"Emotions hyperparameters = {new_emotions_classifier_mlp.n_features_in_}\\n\")\n",
    "\n",
    "confusion_matrix_output = confusion_matrix(\n",
    "    y_true=new_testing_dataset[:, 1], y_pred=new_emotion_prediction_mlp)\n",
    "performance_file.write(f\"Confusion Matrix = \\n{confusion_matrix_output}\\n\\n\")\n",
    "\n",
    "class_report = classification_report(\n",
    "    y_true=new_testing_dataset[:, 1], y_pred=new_emotion_prediction_mlp, zero_division=0)\n",
    "performance_file.write(f\"Classification Report = \\n{class_report}\\n\")\n",
    "performance_file.write(\n",
    "    f\"----------------------------------------------------------\\n\\n\")\n",
    "performance_file.close()"
   ]
  },
  {
   "cell_type": "code",
   "execution_count": null,
   "metadata": {},
   "outputs": [],
   "source": [
    "# Create the object classifiers for sentiments\n",
    "new_sentiment_classifier_mlp = MLPClassifier(verbose=True,max_iter=3)\n",
    "\n",
    "# Fit the model with training_X as X and columns of training_dataset as y\n",
    "new_sentiment_classifier_mlp.fit(X=new_training_X_sentiments, y=new_training_dataset[:, 2])\n",
    "\n",
    "# Make predictions with testing_X as X\n",
    "new_sentiment_prediction_mlp = new_sentiment_classifier_mlp.predict(X=new_testing_X_sentiments)\n",
    "\n",
    "print(new_sentiment_prediction_mlp)"
   ]
  },
  {
   "cell_type": "code",
   "execution_count": null,
   "metadata": {},
   "outputs": [],
   "source": [
    "# Append Sentiments results\n",
    "\n",
    "performance_file = open(\"new_performance\", \"a\")\n",
    "performance_file.write(\n",
    "    \"-----Sentiments classification (Multi layer perceptron)-----\\n\")\n",
    "\n",
    "performance_file.write(\n",
    "    f\"Sentiments hyperparameters = {new_sentiment_classifier_mlp.n_features_in_}\\n\")\n",
    "\n",
    "confusion_matrix_output = confusion_matrix(\n",
    "    y_true=new_testing_dataset[:, 2], y_pred=new_sentiment_prediction_mlp)\n",
    "performance_file.write(f\"Confusion Matrix = \\n{confusion_matrix_output}\\n\\n\")\n",
    "\n",
    "class_report = classification_report(\n",
    "    y_true=new_testing_dataset[:, 2], y_pred=new_sentiment_prediction_mlp, zero_division=0)\n",
    "performance_file.write(f\"Classification Report = \\n{class_report}\\n\")\n",
    "performance_file.write(\n",
    "    f\"----------------------------------------------------------\\n\\n\")\n",
    "\n",
    "performance_file.close()"
   ]
  },
  {
   "cell_type": "markdown",
   "metadata": {},
   "source": [
    "2.5 - 2.3.4 Redo Top-MNB"
   ]
  },
  {
   "cell_type": "code",
   "execution_count": null,
   "metadata": {},
   "outputs": [],
   "source": [
    "from sklearn.model_selection import GridSearchCV\n",
    "\n",
    "# hyperparameter used in gridsearch\n",
    "hyperparam = {'alpha': [0, 0.5, 1.0, 5.0]}\n",
    "\n",
    "# emotions gridsearch for Top Multinomial Naive Bayes\n",
    "new_emo_top_mnb_gridsearch = GridSearchCV(new_emotions_classifier_mb, param_grid=hyperparam)\n",
    "new_emo_top_mnb_gridsearch.fit(X=new_training_X_emotions, y=new_training_dataset[:, 1])\n",
    "new_emo_prediction_tmb = new_emo_top_mnb_gridsearch.predict(X=new_testing_X_emotions)\n",
    "print(new_emo_prediction_tmb)\n"
   ]
  },
  {
   "cell_type": "code",
   "execution_count": null,
   "metadata": {},
   "outputs": [],
   "source": [
    "from sklearn.metrics import confusion_matrix\n",
    "from sklearn.metrics import classification_report\n",
    "\n",
    "# Documenting Top Multinomial Naive Bayes classification with GridSearchCV (Emotions)\n",
    "\n",
    "# Append Emotions results\n",
    "performance_file = open(\"new_performance\", \"a\")\n",
    "performance_file.write(\"-----Emotions classification (Top Multinomial Naive Bayes with GridSearchCV)-----\\n\")\n",
    "\n",
    "performance_file.write(f\"Emotions hyperparamenters = {new_emo_top_mnb_gridsearch.n_features_in_}\\n\")\n",
    "\n",
    "confusion_matrix_output = confusion_matrix(y_true=new_testing_dataset[:, 1], y_pred=new_emo_prediction_tmb)\n",
    "performance_file.write(f\"Confusion Matrix = \\n{confusion_matrix_output}\\n\\n\")\n",
    "\n",
    "class_report = classification_report(y_true=new_testing_dataset[:, 1], y_pred=new_emo_prediction_tmb, zero_division=0)\n",
    "performance_file.write(f\"Classification Report = \\n{class_report}\\n\")\n",
    "performance_file.write(f\"----------------------------------------------------------\\n\\n\")\n",
    "\n",
    "performance_file.close()"
   ]
  },
  {
   "cell_type": "code",
   "execution_count": null,
   "metadata": {},
   "outputs": [],
   "source": [
    "from sklearn.model_selection import GridSearchCV\n",
    "\n",
    "# hyperparameter used in gridsearch\n",
    "hyperparam = {'alpha': [0, 0.5, 1.0, 5.0]}\n",
    "\n",
    "# sentiments gridsearch for Top Multinomial Naive Bayes\n",
    "new_sen_top_mnb_gridsearch = GridSearchCV(new_sentiment_classifier_mb, param_grid=hyperparam)\n",
    "new_sen_top_mnb_gridsearch.fit(X=new_training_X_sentiments, y=new_training_dataset[:, 2])\n",
    "new_sen_prediction_tmb = new_sen_top_mnb_gridsearch.predict(X=new_testing_X_sentiments)\n",
    "print(new_sen_prediction_tmb)"
   ]
  },
  {
   "cell_type": "code",
   "execution_count": null,
   "metadata": {},
   "outputs": [],
   "source": [
    "from sklearn.metrics import confusion_matrix\n",
    "from sklearn.metrics import classification_report\n",
    "\n",
    "# Documenting Top Multinomial Naive Bayes classification with GridSearchCV (Sentiment)\n",
    "\n",
    "# Append Emotions results\n",
    "performance_file = open(\"new_performance\", \"a\")\n",
    "performance_file.write(\"-----Sentiment classification (Top Multinomial Naive Bayes with GridSearchCV)-----\\n\")\n",
    "\n",
    "performance_file.write(f\"Sentiment hyperparamenters = {new_sen_top_mnb_gridsearch.n_features_in_}\\n\")\n",
    "\n",
    "confusion_matrix_output = confusion_matrix(y_true=new_testing_dataset[:, 2], y_pred=new_sen_prediction_tmb)\n",
    "performance_file.write(f\"Confusion Matrix = \\n{confusion_matrix_output}\\n\\n\")\n",
    "\n",
    "class_report = classification_report(y_true=new_testing_dataset[:, 2], y_pred=new_sen_prediction_tmb, zero_division=0)\n",
    "performance_file.write(f\"Classification Report = \\n{class_report}\\n\")\n",
    "performance_file.write(f\"----------------------------------------------------------\\n\\n\")\n",
    "\n",
    "performance_file.close()"
   ]
  },
  {
   "cell_type": "markdown",
   "metadata": {},
   "source": [
    "2.5 - 2.3.5 Redo Top-DT"
   ]
  },
  {
   "cell_type": "code",
   "execution_count": null,
   "metadata": {},
   "outputs": [],
   "source": [
    "from sklearn.model_selection import GridSearchCV\n",
    "\n",
    "# apply hyper parameters\n",
    "param_grid = {'criterion': ['gini', 'entropy'], 'max_depth': [2, 4], 'min_samples_split': [2, 5, 10]}\n",
    "\n",
    "# create objects classifier with grid search\n",
    "new_grid_search_emotion_classifier = GridSearchCV(new_emotions_classifier_dt, param_grid)\n",
    "\n",
    "# Fit the model with training_X as X and columns of training_dataset as y\n",
    "new_grid_search_emotion_classifier.fit(X=new_training_X_emotions, y=new_training_dataset[:, 1])\n",
    "\n",
    "# Make predictions with testing_X as X\n",
    "new_grid_search_emotion_predict = new_grid_search_emotion_classifier.predict(X=new_testing_X_emotions)\n",
    "print(new_grid_search_emotion_predict)"
   ]
  },
  {
   "cell_type": "code",
   "execution_count": null,
   "metadata": {},
   "outputs": [],
   "source": [
    "# Documenting for gridsearch Dt classification\n",
    "\n",
    "# Append Emotions results\n",
    "performance_file = open(\"new_performance\", \"a\")\n",
    "performance_file.write(\"-----Emotions classification (Grid Search Decision Tree)-----\\n\")\n",
    "\n",
    "performance_file.write(\n",
    "    f\"Emotions hyperparameters = {new_grid_search_emotion_classifier.n_features_in_}\\n\")\n",
    "\n",
    "confusion_matrix_output = confusion_matrix(\n",
    "    y_true=new_testing_dataset[:, 1], y_pred=new_grid_search_emotion_predict)\n",
    "performance_file.write(f\"Confusion Matrix = \\n{confusion_matrix_output}\\n\\n\")\n",
    "\n",
    "class_report = classification_report(\n",
    "    y_true=new_testing_dataset[:, 1], y_pred=new_grid_search_emotion_predict, zero_division=0)\n",
    "performance_file.write(f\"Classification Report = \\n{class_report}\\n\")\n",
    "performance_file.write(\n",
    "    f\"----------------------------------------------------------\\n\\n\")\n",
    "performance_file.close()"
   ]
  },
  {
   "cell_type": "code",
   "execution_count": null,
   "metadata": {},
   "outputs": [],
   "source": [
    "# create objects classifier with grid search\n",
    "new_grid_search_sentiment_classifier = GridSearchCV(new_sentiment_classifier_dt, param_grid)\n",
    "\n",
    "# Fit the model with training_X as X and columns of training_dataset as y\n",
    "new_grid_search_sentiment_classifier.fit(X=new_training_X_sentiments, y=new_training_dataset[:, 2])\n",
    "\n",
    "# Make predictions with testing_X as X\n",
    "new_grid_search_sentiment_predict = new_grid_search_sentiment_classifier.predict(X=new_testing_X_sentiments)\n",
    "print(new_grid_search_sentiment_predict)"
   ]
  },
  {
   "cell_type": "code",
   "execution_count": null,
   "metadata": {},
   "outputs": [],
   "source": [
    "# Append Sentiments results\n",
    "performance_file = open(\"new_performance\", \"a\")\n",
    "performance_file.write(\n",
    "    \"-----Sentiments classification (Grid Search Decision Tree)-----\\n\")\n",
    "\n",
    "performance_file.write(\n",
    "    f\"Sentiments hyperparameters = {new_grid_search_sentiment_classifier.n_features_in_}\\n\")\n",
    "\n",
    "confusion_matrix_output = confusion_matrix(\n",
    "    y_true=new_testing_dataset[:, 2], y_pred=new_grid_search_sentiment_predict)\n",
    "performance_file.write(f\"Confusion Matrix = \\n{confusion_matrix_output}\\n\\n\")\n",
    "\n",
    "class_report = classification_report(\n",
    "    y_true=new_testing_dataset[:, 2], y_pred=new_grid_search_sentiment_predict, zero_division=0)\n",
    "performance_file.write(f\"Classification Report = \\n{class_report}\\n\")\n",
    "performance_file.write(\n",
    "    f\"----------------------------------------------------------\\n\\n\")\n",
    "\n",
    "performance_file.close()"
   ]
  },
  {
   "cell_type": "markdown",
   "metadata": {},
   "source": [
    "2.5 - 2.3.6 Redo Top-MLP"
   ]
  },
  {
   "cell_type": "code",
   "execution_count": null,
   "metadata": {},
   "outputs": [],
   "source": [
    "from sklearn.model_selection import GridSearchCV\n",
    "from sklearn.neural_network import MLPClassifier\n",
    "\n",
    "# hyperparameter used in gridsearch\n",
    "hyperparam = {'activation': ['sigmoid', 'tanh', 'relu', 'identity'],\n",
    "                'hidden_layer_sizes': [2, 3],\n",
    "                'solver': ['Adam', 'sgd']}\n",
    "# Create the object classifiers for emotions\n",
    "new_emo_top_mlp_gridsearch = GridSearchCV(emotions_classifier_mlp, param_grid=hyperparam)\n",
    "# Fit the model with new_training_X as X and columns of new_training_dataset as y\n",
    "new_emo_top_mlp_gridsearch.fit(X=new_training_X_emotions, y=new_training_dataset[:, 1])\n",
    "# Make predictions with new_testing_X as X\n",
    "new_emo_prediction_tmlp = new_emo_top_mlp_gridsearch.predict(X=new_testing_X_emotions)\n",
    "print(new_emo_prediction_tmlp)\n",
    "\n"
   ]
  },
  {
   "cell_type": "code",
   "execution_count": null,
   "metadata": {},
   "outputs": [],
   "source": [
    "from sklearn.metrics import confusion_matrix\n",
    "from sklearn.metrics import classification_report\n",
    "\n",
    "# Documenting Top Multi-Layered Percentron classification with GridSearchCV (Emotions)\n",
    "\n",
    "# Append Emotions results\n",
    "performance_file = open(\"new_performance\", \"a\")\n",
    "performance_file.write(\"-----Emotions classification (Top Multi-Layered Percentron with GridSearchCV)-----\\n\")\n",
    "\n",
    "performance_file.write(f\"Emotions hyperparamenters = {new_emo_top_mlp_gridsearch.n_features_in_}\\n\")\n",
    "\n",
    "confusion_matrix_output = confusion_matrix(y_true=new_testing_dataset[:, 1], y_pred=new_emo_prediction_tmlp)\n",
    "performance_file.write(f\"Confusion Matrix = \\n{confusion_matrix_output}\\n\\n\")\n",
    "\n",
    "class_report = classification_report(y_true=new_testing_dataset[:, 1], y_pred=new_emo_prediction_tmlp, zero_division=0)\n",
    "performance_file.write(f\"Classification Report = \\n{class_report}\\n\")\n",
    "performance_file.write(f\"----------------------------------------------------------\\n\\n\")\n",
    "\n",
    "performance_file.close()"
   ]
  },
  {
   "cell_type": "code",
   "execution_count": null,
   "metadata": {},
   "outputs": [],
   "source": [
    "from sklearn.model_selection import GridSearchCV\n",
    "from sklearn.neural_network import MLPClassifier\n",
    "\n",
    "# hyperparameter used in gridsearch\n",
    "hyperparam = {'activation': ['sigmoid', 'tanh', 'relu', 'identity'],\n",
    "                'hidden_layer_sizes': [2, 3],\n",
    "                'solver': ['Adam', 'sgd']}\n",
    "# Create the object classifiers for emotions\n",
    "new_sen_top_mlp_gridsearch = GridSearchCV(emotions_classifier_mlp, param_grid=hyperparam)\n",
    "# Fit the model with new_training_X as X and columns of new_training_dataset as y\n",
    "new_sen_top_mlp_gridsearch.fit(X=new_training_X_emotions, y=new_training_dataset[:, 2])\n",
    "# Make predictions with new_testing_X as X\n",
    "new_sen_prediction_tmlp = new_sen_top_mlp_gridsearch.predict(X=new_testing_X_emotions)\n",
    "print(new_emo_prediction_tmlp)"
   ]
  },
  {
   "cell_type": "code",
   "execution_count": null,
   "metadata": {},
   "outputs": [],
   "source": [
    "from sklearn.metrics import confusion_matrix\n",
    "from sklearn.metrics import classification_report\n",
    "\n",
    "# Documenting Top Multi-Layered Percentron classification with GridSearchCV (Sentiment)\n",
    "\n",
    "# Append Sentiment results\n",
    "performance_file = open(\"new_performance\", \"a\")\n",
    "performance_file.write(\"-----Sentiment classification (Top Multi-Layered Percentron with GridSearchCV)-----\\n\")\n",
    "\n",
    "performance_file.write(f\"Sentiment hyperparamenters = {new_sen_top_mlp_gridsearch.n_features_in_}\\n\")\n",
    "\n",
    "confusion_matrix_output = confusion_matrix(y_true=new_testing_dataset[:, 2], y_pred=new_sen_prediction_tmlp)\n",
    "performance_file.write(f\"Confusion Matrix = \\n{confusion_matrix_output}\\n\\n\")\n",
    "\n",
    "class_report = classification_report(y_true=new_testing_dataset[:, 2], y_pred=new_sen_prediction_tmlp, zero_division=0)\n",
    "performance_file.write(f\"Classification Report = \\n{class_report}\\n\")\n",
    "performance_file.write(f\"----------------------------------------------------------\\n\\n\")\n",
    "\n",
    "performance_file.close()"
   ]
  },
  {
   "cell_type": "markdown",
   "metadata": {},
   "source": [
    "2.5 - Verdict"
   ]
  },
  {
   "cell_type": "markdown",
   "metadata": {},
   "source": []
  },
  {
   "cell_type": "markdown",
   "metadata": {},
   "source": [
    "## 3. Embeddings as Features (20pts)"
   ]
  },
  {
   "cell_type": "markdown",
   "metadata": {},
   "source": [
    "3.1. □ (0pts) Use `gensim.downloader.load` to load the `word2vec-google-news-300` pretrained embedding model."
   ]
  },
  {
   "cell_type": "code",
   "execution_count": 40,
   "metadata": {},
   "outputs": [],
   "source": [
    "# Incase its the first time running\n",
    "# import nltk\n",
    "\n",
    "# nltk.download('punkt')\n"
   ]
  },
  {
   "cell_type": "code",
   "execution_count": 41,
   "metadata": {},
   "outputs": [],
   "source": [
    "import gensim.downloader\n",
    "google_model = gensim.downloader.load(\"word2vec-google-news-300\")\n"
   ]
  },
  {
   "cell_type": "markdown",
   "metadata": {},
   "source": [
    "3.2. □ (2pts) Use the `tokenizer` from `nltk` to extract words from the Reddit posts. Display the number\n",
    "of tokens in the training set."
   ]
  },
  {
   "cell_type": "code",
   "execution_count": 42,
   "metadata": {},
   "outputs": [],
   "source": [
    "import nltk.tokenize\n",
    "\n",
    "\n",
    "phrase_token_vector = [nltk.tokenize.word_tokenize(i) for i in phrases]\n",
    "emotions_and_phrases_token_vector = [nltk.tokenize.word_tokenize(i) for i in emotions_and_phrases]\n"
   ]
  },
  {
   "cell_type": "code",
   "execution_count": 43,
   "metadata": {},
   "outputs": [
    {
     "name": "stdout",
     "output_type": "stream",
     "text": [
      "Number of Tokens in phrases= 2642128\n",
      "Number of Tokens in phrases= 2813188\n"
     ]
    }
   ],
   "source": [
    "# Get the token count in phrase token list\n",
    "token_count = 0\n",
    "for i in phrase_token_vector:\n",
    "    token_count += len(i)\n",
    "\n",
    "print(\"Number of Tokens in phrases=\", token_count)\n",
    "\n",
    "\n",
    "# Get the token count in phrase and emotion token list\n",
    "token_count = 0\n",
    "for i in emotions_and_phrases_token_vector:\n",
    "    token_count += len(i)\n",
    "\n",
    "print(\"Number of Tokens in phrases=\", token_count)\n"
   ]
  },
  {
   "cell_type": "markdown",
   "metadata": {},
   "source": [
    "3.3. □ (5pts) Compute the embedding of a Reddit post as the <u>average</u> of the embeddings of its words. If\n",
    "a word has no embedding in Word2Vec, skip it."
   ]
  },
  {
   "cell_type": "code",
   "execution_count": 44,
   "metadata": {},
   "outputs": [
    {
     "name": "stdout",
     "output_type": "stream",
     "text": [
      "The mean embedding for phrase: '['That', 'game', 'hurt', '.']'\n",
      " = \n",
      "[-0.00249175  0.03335912  0.04454305  0.02014099 -0.005342    0.03958913\n",
      "  0.04116163 -0.03550375  0.04966702  0.08322471  0.02130005 -0.07371153\n",
      "  0.02242474 -0.02079816 -0.03720252  0.01349978  0.06466671  0.02539938\n",
      "  0.03124769 -0.04660584  0.02208368  0.0440758   0.02905092 -0.03239964\n",
      " -0.01410932 -0.01994989 -0.05039005 -0.03178651  0.05876349  0.0290636\n",
      "  0.00571934  0.00895379  0.03168915 -0.0298906   0.04790528  0.03915513\n",
      "  0.00097203  0.05557248  0.03150231  0.09819147  0.06256143  0.00659081\n",
      "  0.07235992 -0.03676999 -0.04593803 -0.01758593  0.00756323 -0.0163933\n",
      "  0.07148833  0.06899618 -0.03733969  0.0571317   0.0141902  -0.02753571\n",
      "  0.02445936 -0.00438119  0.03252912 -0.01304839  0.02398836 -0.04210209\n",
      " -0.02512687  0.01739748 -0.03247805 -0.03073107 -0.02493709  0.00965649\n",
      "  0.01314632 -0.01541938  0.035196   -0.00662027  0.00404124 -0.01152261\n",
      " -0.00373993  0.00676702 -0.05968076 -0.02077763  0.01960778  0.02665194\n",
      "  0.04934242  0.03286087 -0.00358549 -0.02020391 -0.01277085  0.04611142\n",
      " -0.01156104 -0.05380567 -0.04473747  0.10478894 -0.01476865 -0.04652476\n",
      "  0.0513925   0.06276413 -0.01640883 -0.03518619  0.03357546 -0.08012488\n",
      "  0.03602529  0.03914875 -0.05042545  0.02777709 -0.03823971 -0.00233064\n",
      "  0.02212992  0.04728715  0.00724917 -0.02617091 -0.02022389 -0.02808157\n",
      " -0.03110458 -0.07050966  0.01329244 -0.01850743 -0.0157438   0.00132032\n",
      "  0.08848575  0.01208941  0.01096915  0.03628827 -0.01538769  0.02639068\n",
      " -0.06268247  0.00893231 -0.0243115   0.04733441 -0.04792294 -0.08527315\n",
      " -0.0400724  -0.04964888 -0.01627204 -0.04178701 -0.03924759 -0.04478179\n",
      " -0.03186668 -0.0246244   0.02232987 -0.06810149 -0.01885525  0.04647717\n",
      " -0.10478294 -0.0184966   0.01554239 -0.00555302  0.0119286  -0.01958156\n",
      " -0.03096304  0.01767384  0.04518135 -0.08369892 -0.05761333 -0.01360685\n",
      "  0.03244697  0.00962497 -0.03284898  0.0695658  -0.00819155  0.0049022\n",
      "  0.01391638 -0.05810474 -0.04824968 -0.01793762  0.00629993  0.03730199\n",
      "  0.05471173  0.00376763 -0.01347602 -0.00826671  0.01262126  0.00946809\n",
      " -0.00681169  0.02891414 -0.10692469 -0.03051915  0.00623539 -0.07465225\n",
      " -0.00921978  0.01100389  0.07550498 -0.01089673 -0.03722653 -0.03749289\n",
      " -0.00470189 -0.03980016  0.04746761  0.0184883  -0.00881795  0.04883808\n",
      "  0.01477486  0.03061822  0.01822724 -0.01792307  0.03923236 -0.06043017\n",
      "  0.04827474  0.00674134 -0.03751291  0.03607539 -0.03169389  0.02281223\n",
      " -0.02227331 -0.03118408 -0.01411228 -0.01531994  0.00549212  0.04777965\n",
      " -0.00860038 -0.02893278 -0.02907865 -0.01632735  0.01092615 -0.03254443\n",
      "  0.0011905   0.09908938 -0.0219414   0.07959646 -0.04463093  0.01140917\n",
      "  0.01682012 -0.0245498  -0.07978372 -0.00871313  0.04979068  0.00237388\n",
      "  0.02210498 -0.05663959  0.05302635 -0.05456446  0.01173589  0.03981446\n",
      "  0.01133381  0.04363532  0.00130429  0.05774437  0.00552836 -0.00169738\n",
      "  0.02296545  0.02611551 -0.00668485 -0.06628653  0.03660766  0.03351501\n",
      "  0.0258938  -0.01233957  0.00446525 -0.12416187 -0.0344753   0.00514842\n",
      " -0.02025007 -0.00588642  0.02411735 -0.03342194  0.02014761  0.01075219\n",
      "  0.04318827  0.01718008 -0.00329001 -0.059223    0.04618682  0.00848294\n",
      "  0.00182661 -0.05486212 -0.05726056  0.03527709 -0.01561668  0.01648054\n",
      " -0.03904255  0.0415525  -0.00236774 -0.03277769 -0.03756276 -0.01128171\n",
      " -0.04442312  0.05819843  0.01035706 -0.05398923  0.028562   -0.05636169\n",
      "  0.02026398 -0.03551191 -0.00744953 -0.01653834  0.01990614  0.03437635\n",
      "  0.03919343  0.00798591  0.01927637 -0.05621372 -0.013783    0.02621445\n",
      " -0.00736217 -0.0095645  -0.02297354  0.02559571 -0.06697146 -0.00588803\n",
      " -0.01170105 -0.00765859 -0.02889291 -0.01405016  0.02272082 -0.0487665 ]\n",
      "The mean embedding for phrase and emotion: '['That', 'game', 'hurt', '.', 'sadness']'\n",
      " = \n",
      "[ 2.06664111e-02  2.07152516e-02  4.59346324e-02  1.55387782e-02\n",
      " -1.76697131e-03  2.11886466e-02  2.68470757e-02 -4.05548587e-02\n",
      "  6.97233826e-02  7.17965513e-02  1.50083695e-02 -5.29741347e-02\n",
      "  1.97404344e-02 -6.29059039e-03 -7.46621937e-03  1.82431173e-02\n",
      "  4.21313792e-02  5.19425645e-02  1.72770731e-02 -6.77074417e-02\n",
      "  6.83482550e-03  4.36945930e-02  4.90824059e-02 -3.32228355e-02\n",
      " -1.06401090e-03 -1.48618137e-02 -9.51853022e-03 -1.74012464e-02\n",
      "  5.17359935e-02 -8.77493992e-04 -6.34824252e-03  8.84989090e-03\n",
      "  3.75539362e-02 -2.20527165e-02  2.72857882e-02  2.32426487e-02\n",
      "  1.92051046e-02  5.53964525e-02  1.89377237e-02  7.85075724e-02\n",
      "  5.97983450e-02  2.10870942e-03  5.30102067e-02 -4.85730432e-02\n",
      " -1.67472754e-02 -6.36589341e-03  8.29686597e-03 -1.20500242e-02\n",
      "  3.29006352e-02  5.80457970e-02 -3.15740108e-02  5.27166799e-02\n",
      "  2.41939630e-03 -1.31283766e-02  2.83523966e-02 -1.38536505e-02\n",
      " -8.49618763e-03 -7.58207403e-04  3.14984098e-02 -3.57406847e-02\n",
      " -2.32717115e-02  2.55754553e-02 -1.76049657e-02 -2.00914275e-02\n",
      " -2.33218353e-02  1.57805551e-02  4.96078096e-03 -9.35999863e-03\n",
      "  1.96084399e-02  4.58646566e-04  1.05543323e-02 -2.15192251e-02\n",
      " -1.16580678e-02  5.75324614e-03 -5.22139892e-02 -3.17497924e-02\n",
      "  1.47900395e-02  1.22555951e-02  5.95420413e-02  4.49413508e-02\n",
      "  8.29855353e-03 -2.54407525e-02 -1.06629059e-02  1.33080706e-02\n",
      " -7.34980591e-03 -6.24695644e-02 -4.91597950e-02  8.60801190e-02\n",
      " -1.77250784e-02 -3.05194966e-02  4.01190408e-02  5.43865487e-02\n",
      " -2.14746818e-02 -4.95128334e-04 -4.32979316e-04 -5.43198884e-02\n",
      "  3.79366577e-02  3.19685079e-02 -3.14504355e-02  9.70517658e-03\n",
      " -3.66230980e-02  9.72958375e-03  2.26161610e-02  3.09163239e-02\n",
      "  1.78942382e-02 -2.50520334e-02  4.38775867e-04 -3.41484025e-02\n",
      " -1.14309564e-02 -5.39757684e-02 -7.80690089e-03 -2.89290026e-03\n",
      " -3.12968623e-03  4.85692220e-03  7.58123100e-02  1.24438442e-02\n",
      " -3.67061608e-03  1.71383414e-02 -3.52746435e-03  3.88289765e-02\n",
      " -6.88472241e-02  4.55594063e-03 -2.74716653e-02  4.07147035e-02\n",
      " -4.54601869e-02 -6.90287948e-02 -2.58027017e-02 -4.14357707e-02\n",
      "  2.15288177e-02 -2.33269595e-02 -4.95914221e-02 -2.01491863e-02\n",
      " -4.72750589e-02 -1.95179880e-03  2.94847023e-02 -4.44975086e-02\n",
      " -1.06421793e-02  5.61333671e-02 -7.09238276e-02 -1.13354903e-02\n",
      " -4.15985752e-03 -2.20809691e-02 -2.35266648e-02 -2.71435287e-02\n",
      " -9.78513062e-03  7.37662427e-03  7.29164481e-03 -3.70196477e-02\n",
      " -5.92366010e-02 -4.30981629e-02  5.12095317e-02  2.51349285e-02\n",
      " -7.21042790e-03  8.32477659e-02 -1.18124597e-02 -4.86154202e-03\n",
      "  1.88355055e-02 -6.21946119e-02 -6.64208531e-02 -3.71082015e-02\n",
      "  4.71107196e-03  3.37502696e-02  4.28184234e-02  2.67606527e-02\n",
      "  1.22882370e-02 -3.11147515e-02 -3.27135529e-03  3.99940945e-02\n",
      "  8.11842829e-03  4.14214246e-02 -3.96021232e-02 -9.66216438e-03\n",
      " -2.12179720e-02 -5.80187589e-02 -6.63817674e-03  8.69479030e-04\n",
      "  5.68813421e-02 -1.19517483e-02 -7.06432015e-03 -4.98150662e-02\n",
      " -1.88531727e-02 -1.34735927e-02  3.02118491e-02  1.13117676e-02\n",
      " -1.85109414e-02  2.92451270e-02  1.98307168e-03  1.93069428e-02\n",
      "  3.10267545e-02  4.19395696e-03  2.05011629e-02 -2.90160831e-02\n",
      "  1.95495859e-02 -1.08306315e-02 -4.07320112e-02  4.65124175e-02\n",
      " -1.50222704e-02  2.95665339e-02 -1.28383040e-02 -8.06130655e-03\n",
      "  4.04269248e-03 -1.95032563e-02 -2.13555135e-02  3.16356309e-02\n",
      "  9.33287665e-05 -3.23373303e-02 -3.44063193e-02  2.38668323e-02\n",
      "  7.37666059e-03 -1.95793491e-02 -9.18499194e-03  6.26994967e-02\n",
      " -1.78295113e-02  6.56110942e-02 -5.18093146e-02  1.20843761e-03\n",
      " -1.35593601e-02 -1.54904667e-02 -7.08954483e-02 -9.05431062e-03\n",
      "  4.98703495e-02 -1.05399173e-03  1.06299948e-02 -3.01623046e-02\n",
      "  2.30433065e-02 -7.95551538e-02  9.66798794e-03  1.58683583e-03\n",
      "  1.94880310e-02  2.16688365e-02 -6.54518511e-03  6.02446906e-02\n",
      "  2.88653560e-03  1.35638192e-02  4.63379174e-02  1.63673181e-02\n",
      " -1.44616375e-02 -4.63906005e-02  2.27317475e-02  4.15827706e-02\n",
      "  1.10221319e-02 -3.48692499e-02  4.07066150e-03 -9.18616652e-02\n",
      " -3.68441492e-02  1.58987641e-02  5.38808573e-03 -3.29942675e-03\n",
      "  1.10545019e-02 -2.77958736e-02  2.07445137e-02  3.38186845e-02\n",
      "  4.27490100e-02  1.69092044e-02 -1.84638635e-03 -5.68746068e-02\n",
      "  4.23734710e-02  5.53436577e-04  1.10279117e-02 -3.09287533e-02\n",
      " -4.21668366e-02  2.02641301e-02 -6.63858280e-03  2.74072122e-02\n",
      " -4.17392738e-02  4.50214371e-02  2.43986491e-02 -7.15696067e-03\n",
      " -3.17588076e-02  3.71613353e-03 -2.91007329e-02  5.44265397e-02\n",
      "  6.20188005e-03 -4.33613136e-02  3.35989222e-02 -3.78622040e-02\n",
      "  2.74062715e-03 -1.23569630e-02 -4.75169858e-03 -3.73184755e-02\n",
      "  8.07105843e-03 -2.21180171e-03  2.16617137e-02  1.67671517e-02\n",
      "  4.32911664e-02 -5.49675748e-02 -3.37372813e-03  3.55474725e-02\n",
      " -2.26679929e-02 -3.27170081e-03 -3.36066857e-02  9.32887569e-03\n",
      " -6.77248836e-02 -3.29699703e-02 -2.10931785e-02  1.27321389e-02\n",
      " -1.92202013e-02 -1.90758109e-02  1.72418244e-02 -4.79124710e-02]\n"
     ]
    }
   ],
   "source": [
    "from statistics import mean\n",
    "from gensim.models import Word2Vec, KeyedVectors\n",
    "\n",
    "\n",
    "mean_embedding_list_emotions = []\n",
    "for i in phrase_token_vector:\n",
    "    mean_embedding_list_emotions.append(google_model.get_mean_vector(i))\n",
    "\n",
    "mean_embedding_list_sentiments = []\n",
    "for i in emotions_and_phrases_token_vector:\n",
    "    mean_embedding_list_sentiments.append(google_model.get_mean_vector(i))\n",
    "\n",
    "\n",
    "# Test to get the average embedding for a phrase with index i\n",
    "i = 0\n",
    "print(\n",
    "    f\"The mean embedding for phrase: '{phrase_token_vector[i]}'\\n = \\n{mean_embedding_list_emotions[i]}\")\n",
    "\n",
    "# Test to get the average embedding for a pohrase and emotion with index i\n",
    "i = 0\n",
    "print(\n",
    "    f\"The mean embedding for phrase and emotion: '{emotions_and_phrases_token_vector[i]}'\\n = \\n{mean_embedding_list_sentiments[i]}\")\n"
   ]
  },
  {
   "cell_type": "markdown",
   "metadata": {},
   "source": [
    "3.4. □ (3pts) Compute and display the overall hit rates of the training and test sets (i.e. the % of words\n",
    "in the Reddit posts for which an embedding is found in Word2Vec).\n"
   ]
  },
  {
   "cell_type": "code",
   "execution_count": 45,
   "metadata": {},
   "outputs": [],
   "source": [
    "# Split the tokens (to get the hit rate)\n",
    "training_phrase_token, testing_phrase_token = train_test_split(\n",
    "    phrase_token_vector, train_size=0.8, test_size=0.2)\n",
    "\n",
    "training_emotions_and_phrases_token, testing_emotions_and_phrases_token = train_test_split(\n",
    "    emotions_and_phrases_token_vector, train_size=0.8, test_size=0.2)\n",
    "\n",
    "\n",
    "# Split the mean embedding list for both eomtions and sentiments (the X values)\n",
    "training_X_emotions_emb, testing_X_emotions_emb = train_test_split(\n",
    "    mean_embedding_list_emotions, train_size=0.8, test_size=0.2)\n",
    "\n",
    "training_X_sentiments_emb, testing_X_sentiments_emb = train_test_split(\n",
    "    mean_embedding_list_sentiments, train_size=0.8, test_size=0.2)\n"
   ]
  },
  {
   "cell_type": "code",
   "execution_count": 46,
   "metadata": {},
   "outputs": [
    {
     "name": "stdout",
     "output_type": "stream",
     "text": [
      "Hit Rate in training set (phrases) = 77.43442202640338%\n",
      "Hit Rate in testing set (phrases) = 77.51554464968683%\n",
      "Hit Rate in training set (phrases and emotions) = 78.84483545093939%\n",
      "Hit Rate in testing set (phrases and emotions) = 78.82294529656885%\n"
     ]
    }
   ],
   "source": [
    "# Hit Rate for phrases training set\n",
    "num_of_hits = 0\n",
    "total = 0\n",
    "\n",
    "for i in training_phrase_token:\n",
    "    for word in i:\n",
    "        try:\n",
    "            # pdb.set_trace()\n",
    "            google_model.key_to_index[word]\n",
    "            num_of_hits += 1\n",
    "        except Exception:\n",
    "            pass\n",
    "        total += 1\n",
    "\n",
    "print(f\"Hit Rate in training set (phrases) = {num_of_hits/total*100}%\")\n",
    "\n",
    "\n",
    "# Hit Rate for phrases testing set\n",
    "num_of_hits = 0\n",
    "total = 0\n",
    "\n",
    "for i in testing_phrase_token:\n",
    "    for word in i:\n",
    "        try:\n",
    "            # pdb.set_trace()\n",
    "            google_model.key_to_index[word]\n",
    "            num_of_hits += 1\n",
    "        except Exception:\n",
    "            pass\n",
    "        total += 1\n",
    "\n",
    "print(f\"Hit Rate in testing set (phrases) = {num_of_hits/total*100}%\")\n",
    "\n",
    "# Hit Rate for phrases and emotions training set\n",
    "num_of_hits = 0\n",
    "total = 0\n",
    "\n",
    "for i in training_emotions_and_phrases_token:\n",
    "    for word in i:\n",
    "        try:\n",
    "            # pdb.set_trace()\n",
    "            google_model.key_to_index[word]\n",
    "            num_of_hits += 1\n",
    "        except Exception:\n",
    "            pass\n",
    "        total += 1\n",
    "\n",
    "print(f\"Hit Rate in training set (phrases and emotions) = {num_of_hits/total*100}%\")\n",
    "\n",
    "\n",
    "# Hit Rate for phrases and emotions testing set\n",
    "num_of_hits = 0\n",
    "total = 0\n",
    "\n",
    "for i in testing_emotions_and_phrases_token:\n",
    "    for word in i:\n",
    "        try:\n",
    "            # pdb.set_trace()\n",
    "            google_model.key_to_index[word]\n",
    "            num_of_hits += 1\n",
    "        except Exception:\n",
    "            pass\n",
    "        total += 1\n",
    "\n",
    "print(f\"Hit Rate in testing set (phrases and emotions) = {num_of_hits/total*100}%\")\n"
   ]
  },
  {
   "cell_type": "markdown",
   "metadata": {},
   "source": [
    "3.5. □ (3pts) **Train a Base-MLP:** a Multi-Layered Perceptron (`neural_network.MLPClassifier`) with\n",
    "the default parameters."
   ]
  },
  {
   "cell_type": "code",
   "execution_count": null,
   "metadata": {},
   "outputs": [],
   "source": [
    "from sklearn.neural_network import MLPClassifier\n",
    "\n",
    "\n",
    "# For emotions classification\n",
    "emotions_classifier_mlp_embedding = MLPClassifier()\n",
    "\n",
    "# Fit the model with training_X as X and columns of training_dataset as y\n",
    "emotions_classifier_mlp_embedding.fit(X=training_X_emotions_emb,\n",
    "                                      y=training_dataset[:, 1])\n",
    "\n",
    "# Make predictions with testing_X as X\n",
    "emotion_prediction_mlp_embedding = emotions_classifier_mlp_embedding.predict(\n",
    "    X=testing_X_emotions_emb)\n",
    "print(emotion_prediction_mlp_embedding)"
   ]
  },
  {
   "cell_type": "code",
   "execution_count": 47,
   "metadata": {},
   "outputs": [],
   "source": [
    "# Append Emotions results\n",
    "performance_file = open(\"performance\", \"a\")\n",
    "performance_file.write(\n",
    "    \"-----Emotions classification (google model) (Multi Layered Perception with word Embeddings)-----\\n\")\n",
    "\n",
    "performance_file.write(\n",
    "    f\"Emotions hyperparameters = {emotions_classifier_mlp_embedding.n_features_in_}\\n\")\n",
    "\n",
    "confusion_matrix_output = confusion_matrix(\n",
    "    y_true=testing_dataset[:, 1], y_pred=emotion_prediction_mlp_embedding)\n",
    "performance_file.write(f\"Confusion Matrix = \\n{confusion_matrix_output}\\n\\n\")\n",
    "\n",
    "class_report = classification_report(\n",
    "    y_true=testing_dataset[:, 1], y_pred=emotion_prediction_mlp_embedding, zero_division=0)\n",
    "performance_file.write(f\"Classification Report = \\n{class_report}\\n\")\n",
    "performance_file.write(\n",
    "    f\"----------------------------------------------------------\\n\\n\")\n",
    "\n",
    "performance_file.close()"
   ]
  },
  {
   "cell_type": "code",
   "execution_count": 48,
   "metadata": {},
   "outputs": [],
   "source": [
    "# For sentiments classification\n",
    "sentiments_classifier_mlp_embedding = MLPClassifier()\n",
    "\n",
    "# Fit the model with training_X as X and columns of training_dataset as y\n",
    "sentiments_classifier_mlp_embedding.fit(X=training_X_sentiments_emb,\n",
    "                                      y=training_dataset[:, 2])\n",
    "\n",
    "# Make predictions with testing_X as X\n",
    "sentiments_prediction_mlp_embedding = sentiments_classifier_mlp_embedding.predict(\n",
    "    X=testing_X_sentiments_emb)\n",
    "print(sentiments_prediction_mlp_embedding)"
   ]
  },
  {
   "cell_type": "code",
   "execution_count": null,
   "metadata": {},
   "outputs": [],
   "source": [
    "# Append Sentiments results\n",
    "performance_file = open(\"performance\", \"a\")\n",
    "performance_file.write(\n",
    "    \"-----Sentiments classification (google model) (Multi Layered Perception with word Embeddings)-----\\n\")\n",
    "\n",
    "performance_file.write(\n",
    "    f\"Sentiments hyperparameters = {sentiments_classifier_mlp_embedding.n_features_in_}\\n\")\n",
    "\n",
    "confusion_matrix_output = confusion_matrix(\n",
    "    y_true=testing_dataset[:, 2], y_pred=sentiments_prediction_mlp_embedding)\n",
    "performance_file.write(f\"Confusion Matrix = \\n{confusion_matrix_output}\\n\\n\")\n",
    "\n",
    "class_report = classification_report(\n",
    "    y_true=testing_dataset[:, 2], y_pred=sentiments_prediction_mlp_embedding, zero_division=0)\n",
    "performance_file.write(f\"Classification Report = \\n{class_report}\\n\")\n",
    "performance_file.write(\n",
    "    f\"----------------------------------------------------------\\n\\n\")\n",
    "\n",
    "performance_file.close()\n"
   ]
  },
  {
   "cell_type": "markdown",
   "metadata": {},
   "source": [
    "3.6. □ (3pts) **Train a Top-MLP:** a better performing Multi-Layered Perceptron found with whatever\n",
    "hyperparameters you want."
   ]
  },
  {
   "cell_type": "code",
   "execution_count": null,
   "metadata": {},
   "outputs": [
    {
     "ename": "NameError",
     "evalue": "name 'emotions_classifier_mlp_embedding' is not defined",
     "output_type": "error",
     "traceback": [
      "\u001b[1;31m---------------------------------------------------------------------------\u001b[0m",
      "\u001b[1;31mNameError\u001b[0m                                 Traceback (most recent call last)",
      "\u001b[1;32md:\\banan\\Documents\\UNIVERSITY\\FALL2022\\COMP472_AI\\Assignments\\COMP472_Repository\\MP1.ipynb Cell 59\u001b[0m in \u001b[0;36m<cell line: 10>\u001b[1;34m()\u001b[0m\n\u001b[0;32m      <a href='vscode-notebook-cell:/d%3A/banan/Documents/UNIVERSITY/FALL2022/COMP472_AI/Assignments/COMP472_Repository/MP1.ipynb#Y632sZmlsZQ%3D%3D?line=4'>5</a>\u001b[0m hyperparam \u001b[39m=\u001b[39m {\u001b[39m'\u001b[39m\u001b[39mactivation\u001b[39m\u001b[39m'\u001b[39m: [\u001b[39m'\u001b[39m\u001b[39mtanh\u001b[39m\u001b[39m'\u001b[39m, \u001b[39m'\u001b[39m\u001b[39mrelu\u001b[39m\u001b[39m'\u001b[39m, \u001b[39m'\u001b[39m\u001b[39midentity\u001b[39m\u001b[39m'\u001b[39m],\n\u001b[0;32m      <a href='vscode-notebook-cell:/d%3A/banan/Documents/UNIVERSITY/FALL2022/COMP472_AI/Assignments/COMP472_Repository/MP1.ipynb#Y632sZmlsZQ%3D%3D?line=5'>6</a>\u001b[0m                 \u001b[39m'\u001b[39m\u001b[39mhidden_layer_sizes\u001b[39m\u001b[39m'\u001b[39m: [\u001b[39m2\u001b[39m, \u001b[39m3\u001b[39m],\n\u001b[0;32m      <a href='vscode-notebook-cell:/d%3A/banan/Documents/UNIVERSITY/FALL2022/COMP472_AI/Assignments/COMP472_Repository/MP1.ipynb#Y632sZmlsZQ%3D%3D?line=6'>7</a>\u001b[0m                 \u001b[39m'\u001b[39m\u001b[39msolver\u001b[39m\u001b[39m'\u001b[39m: [\u001b[39m'\u001b[39m\u001b[39mAdam\u001b[39m\u001b[39m'\u001b[39m, \u001b[39m'\u001b[39m\u001b[39msgd\u001b[39m\u001b[39m'\u001b[39m]}\n\u001b[0;32m      <a href='vscode-notebook-cell:/d%3A/banan/Documents/UNIVERSITY/FALL2022/COMP472_AI/Assignments/COMP472_Repository/MP1.ipynb#Y632sZmlsZQ%3D%3D?line=8'>9</a>\u001b[0m \u001b[39m# For emotions classification\u001b[39;00m\n\u001b[1;32m---> <a href='vscode-notebook-cell:/d%3A/banan/Documents/UNIVERSITY/FALL2022/COMP472_AI/Assignments/COMP472_Repository/MP1.ipynb#Y632sZmlsZQ%3D%3D?line=9'>10</a>\u001b[0m emotions_classifier_top_mlp_gridsearch_emb \u001b[39m=\u001b[39m GridSearchCV(emotions_classifier_mlp_embedding, param_grid\u001b[39m=\u001b[39mhyperparam)\n\u001b[0;32m     <a href='vscode-notebook-cell:/d%3A/banan/Documents/UNIVERSITY/FALL2022/COMP472_AI/Assignments/COMP472_Repository/MP1.ipynb#Y632sZmlsZQ%3D%3D?line=10'>11</a>\u001b[0m emotions_classifier_top_mlp_gridsearch_emb\u001b[39m.\u001b[39mfit(X\u001b[39m=\u001b[39mtraining_X_emotions_emb, y\u001b[39m=\u001b[39mtraining_dataset[:, \u001b[39m1\u001b[39m])\n\u001b[0;32m     <a href='vscode-notebook-cell:/d%3A/banan/Documents/UNIVERSITY/FALL2022/COMP472_AI/Assignments/COMP472_Repository/MP1.ipynb#Y632sZmlsZQ%3D%3D?line=11'>12</a>\u001b[0m emotions_classifier_prediction_tmlp_emb \u001b[39m=\u001b[39m emotions_classifier_top_mlp_gridsearch_emb\u001b[39m.\u001b[39mpredict(X\u001b[39m=\u001b[39mtesting_X_emotions_emb)\n",
      "\u001b[1;31mNameError\u001b[0m: name 'emotions_classifier_mlp_embedding' is not defined"
     ]
    }
   ],
   "source": [
    "from sklearn.model_selection import GridSearchCV\n",
    "from sklearn.neural_network import MLPClassifier\n",
    "\n",
    "# hyperparameter used in gridsearch\n",
    "hyperparam = {'activation': ['tanh', 'relu', 'identity'],\n",
    "                'hidden_layer_sizes': [2, 3],\n",
    "                'solver': ['Adam', 'sgd']}\n",
    "\n",
    "# For emotions classification\n",
    "emotions_classifier_top_mlp_gridsearch_emb = GridSearchCV(emotions_classifier_mlp_embedding, param_grid=hyperparam)\n",
    "emotions_classifier_top_mlp_gridsearch_emb.fit(X=training_X_emotions_emb, y=training_dataset[:, 1])\n",
    "emotions_classifier_prediction_tmlp_emb = emotions_classifier_top_mlp_gridsearch_emb.predict(X=testing_X_emotions_emb)\n",
    "print(emotions_classifier_prediction_tmlp_emb)\n"
   ]
  },
  {
   "cell_type": "code",
   "execution_count": null,
   "metadata": {},
   "outputs": [],
   "source": [
    "# Append Emotions results\n",
    "performance_file = open(\"performance\", \"a\")\n",
    "performance_file.write(\n",
    "    \"-----Emotions classification (google model) (TOP Multi Layered Perception with word Embeddings)-----\\n\")\n",
    "\n",
    "performance_file.write(\n",
    "    f\"Emotions hyperparameters = {emotions_classifier_top_mlp_gridsearch_emb.n_features_in_}\\n\")\n",
    "\n",
    "confusion_matrix_output = confusion_matrix(\n",
    "    y_true=testing_dataset[:, 1], y_pred=emotions_classifier_prediction_tmlp_emb)\n",
    "performance_file.write(f\"Confusion Matrix = \\n{confusion_matrix_output}\\n\\n\")\n",
    "\n",
    "class_report = classification_report(\n",
    "    y_true=testing_dataset[:, 1], y_pred=emotions_classifier_prediction_tmlp_emb, zero_division=0)\n",
    "performance_file.write(f\"Classification Report = \\n{class_report}\\n\")\n",
    "performance_file.write(\n",
    "    f\"----------------------------------------------------------\\n\\n\")\n",
    "\n",
    "performance_file.close()"
   ]
  },
  {
   "cell_type": "code",
   "execution_count": null,
   "metadata": {},
   "outputs": [],
   "source": [
    "# For sentiments classifications\n",
    "sentiments_classifier_top_mlp_gridsearch_emb = GridSearchCV(sentiments_classifier_mlp_embedding, param_grid=hyperparam)\n",
    "sentiments_classifier_top_mlp_gridsearch_emb.fit(X=training_X_sentiments_emb, y=training_dataset[:, 2])\n",
    "sentiments_classifier_prediction_tmlp_emb = sentiments_classifier_top_mlp_gridsearch_emb.predict(X=testing_X_emotions_emb)\n",
    "print(sentiments_classifier_prediction_tmlp_emb)"
   ]
  },
  {
   "cell_type": "code",
   "execution_count": null,
   "metadata": {},
   "outputs": [],
   "source": [
    "# Append Sentiments results\n",
    "performance_file = open(\"performance\", \"a\")\n",
    "performance_file.write(\n",
    "    \"-----Sentiments classification (google model) (TOP Multi Layered Perception with word Embeddings)-----\\n\")\n",
    "\n",
    "performance_file.write(\n",
    "    f\"Sentiments hyperparameters = {sentiments_classifier_top_mlp_gridsearch_emb.n_features_in_}\\n\")\n",
    "\n",
    "confusion_matrix_output = confusion_matrix(\n",
    "    y_true=testing_dataset[:, 2], y_pred=sentiments_classifier_prediction_tmlp_emb)\n",
    "performance_file.write(f\"Confusion Matrix = \\n{confusion_matrix_output}\\n\\n\")\n",
    "\n",
    "class_report = classification_report(\n",
    "    y_true=testing_dataset[:, 2], y_pred=sentiments_classifier_prediction_tmlp_emb, zero_division=0)\n",
    "performance_file.write(f\"Classification Report = \\n{class_report}\\n\")\n",
    "performance_file.write(\n",
    "    f\"----------------------------------------------------------\\n\\n\")\n",
    "\n",
    "performance_file.close()"
   ]
  },
  {
   "cell_type": "markdown",
   "metadata": {},
   "source": [
    "3.7. □ (2pts) Display the performance of your classifiers using `metrics.classification_report` and add\n",
    "these to your `performance` file."
   ]
  },
  {
   "cell_type": "code",
   "execution_count": null,
   "metadata": {},
   "outputs": [],
   "source": [
    "# See code after generating the classifications for both 3.5 and 3.6"
   ]
  },
  {
   "cell_type": "markdown",
   "metadata": {},
   "source": [
    "3.8. □ (7.5pts) **Do your own exploration:** Rerun your best performing model but with 2 other English\n",
    "pretrained embedding models and compare the results. Many pre-trained embeddings are available\n",
    "on line (including in Gensim or at http://vectors.nlpl.eu/repository)."
   ]
  },
  {
   "cell_type": "code",
   "execution_count": null,
   "metadata": {},
   "outputs": [],
   "source": [
    "fast_model = gensim.downloader.load(\"fasttext-wiki-news-subwords-300\") \n",
    "twitter_model = gensim.downloader.load(\"glove-twitter-100\")"
   ]
  },
  {
   "cell_type": "markdown",
   "metadata": {},
   "source": [
    "Using the `fasttext-wiki-news-subwords-300` model from the gensim repo https://github.com/RaRe-Technologies/gensim-data"
   ]
  },
  {
   "cell_type": "code",
   "execution_count": null,
   "metadata": {},
   "outputs": [],
   "source": [
    "# Repetition of 3.3 to 3.7 using the fast model\n",
    "# Tokenization has been done in 3.2 so will reuse that code \n",
    "# phrase_token_vector = [nltk.tokenize.word_tokenize(i) for i in phrases]\n",
    "# emotions_and_phrases_token_vector = [nltk.tokenize.word_tokenize(i) for i in emotions_and_phrases]\n"
   ]
  },
  {
   "cell_type": "code",
   "execution_count": null,
   "metadata": {},
   "outputs": [],
   "source": [
    "mean_embedding_list_emotions = []\n",
    "for i in phrase_token_vector:\n",
    "    mean_embedding_list_emotions.append(fast_model.get_mean_vector(i))\n",
    "\n",
    "mean_embedding_list_sentiments = []\n",
    "for i in emotions_and_phrases_token_vector:\n",
    "    mean_embedding_list_sentiments.append(fast_model.get_mean_vector(i))\n"
   ]
  },
  {
   "cell_type": "code",
   "execution_count": null,
   "metadata": {},
   "outputs": [],
   "source": [
    "# Split the tokens (to get the hit rate)\n",
    "training_phrase_token, testing_phrase_token = train_test_split(\n",
    "    phrase_token_vector, train_size=0.8, test_size=0.2)\n",
    "\n",
    "training_emotions_and_phrases_token, testing_emotions_and_phrases_token = train_test_split(\n",
    "    emotions_and_phrases_token_vector, train_size=0.8, test_size=0.2)\n",
    "\n",
    "\n",
    "# Split the mean embedding list for both eomtions and sentiments (the X values)\n",
    "training_X_emotions_emb, testing_X_emotions_emb = train_test_split(\n",
    "    mean_embedding_list_emotions, train_size=0.8, test_size=0.2)\n",
    "\n",
    "training_X_sentiments_emb, testing_X_sentiments_emb = train_test_split(\n",
    "    mean_embedding_list_sentiments, train_size=0.8, test_size=0.2)\n"
   ]
  },
  {
   "cell_type": "code",
   "execution_count": null,
   "metadata": {},
   "outputs": [],
   "source": [
    "# Hit Rate for phrases training set\n",
    "num_of_hits = 0\n",
    "total = 0\n",
    "\n",
    "for i in training_phrase_token:\n",
    "    for word in i:\n",
    "        try:\n",
    "            # pdb.set_trace()\n",
    "            fast_model.key_to_index[word]\n",
    "            num_of_hits += 1\n",
    "        except Exception:\n",
    "            pass\n",
    "        total += 1\n",
    "\n",
    "print(f\"Hit Rate in training set (phrases) = {num_of_hits/total*100}%\")\n",
    "\n",
    "\n",
    "# Hit Rate for phrases testing set\n",
    "num_of_hits = 0\n",
    "total = 0\n",
    "\n",
    "for i in testing_phrase_token:\n",
    "    for word in i:\n",
    "        try:\n",
    "            # pdb.set_trace()\n",
    "            fast_model.key_to_index[word]\n",
    "            num_of_hits += 1\n",
    "        except Exception:\n",
    "            pass\n",
    "        total += 1\n",
    "\n",
    "print(f\"Hit Rate in testing set (phrases) = {num_of_hits/total*100}%\")\n",
    "\n",
    "# Hit Rate for phrases and emotions training set\n",
    "num_of_hits = 0\n",
    "total = 0\n",
    "\n",
    "for i in training_emotions_and_phrases_token:\n",
    "    for word in i:\n",
    "        try:\n",
    "            # pdb.set_trace()\n",
    "            fast_model.key_to_index[word]\n",
    "            num_of_hits += 1\n",
    "        except Exception:\n",
    "            pass\n",
    "        total += 1\n",
    "\n",
    "print(f\"Hit Rate in training set (phrases and emotions) = {num_of_hits/total*100}%\")\n",
    "\n",
    "\n",
    "# Hit Rate for phrases and emotions testing set\n",
    "num_of_hits = 0\n",
    "total = 0\n",
    "\n",
    "for i in testing_emotions_and_phrases_token:\n",
    "    for word in i:\n",
    "        try:\n",
    "            # pdb.set_trace()\n",
    "            fast_model.key_to_index[word]\n",
    "            num_of_hits += 1\n",
    "        except Exception:\n",
    "            pass\n",
    "        total += 1\n",
    "\n",
    "print(f\"Hit Rate in testing set (phrases and emotions) = {num_of_hits/total*100}%\")\n"
   ]
  },
  {
   "cell_type": "code",
   "execution_count": null,
   "metadata": {},
   "outputs": [],
   "source": [
    "# For emotions classification\n",
    "emotions_classifier_mlp_embedding = MLPClassifier()\n",
    "\n",
    "# Fit the model with training_X as X and columns of training_dataset as y\n",
    "emotions_classifier_mlp_embedding.fit(X=training_X_emotions_emb,\n",
    "                                      y=training_dataset[:, 1])\n",
    "\n",
    "# Make predictions with testing_X as X\n",
    "emotion_prediction_mlp_embedding = emotions_classifier_mlp_embedding.predict(\n",
    "    X=testing_X_emotions_emb)\n",
    "print(emotion_prediction_mlp_embedding)"
   ]
  },
  {
   "cell_type": "code",
   "execution_count": null,
   "metadata": {},
   "outputs": [],
   "source": [
    "# Append Emotions results\n",
    "performance_file = open(\"performance\", \"a\")\n",
    "performance_file.write(\n",
    "    \"-----Emotions classification (fast model) (Multi Layered Perception with word Embeddings)-----\\n\")\n",
    "\n",
    "performance_file.write(\n",
    "    f\"Emotions hyperparameters = {emotions_classifier_mlp_embedding.n_features_in_}\\n\")\n",
    "\n",
    "confusion_matrix_output = confusion_matrix(\n",
    "    y_true=testing_dataset[:, 1], y_pred=emotion_prediction_mlp_embedding)\n",
    "performance_file.write(f\"Confusion Matrix = \\n{confusion_matrix_output}\\n\\n\")\n",
    "\n",
    "class_report = classification_report(\n",
    "    y_true=testing_dataset[:, 1], y_pred=emotion_prediction_mlp_embedding, zero_division=0)\n",
    "performance_file.write(f\"Classification Report = \\n{class_report}\\n\")\n",
    "performance_file.write(\n",
    "    f\"----------------------------------------------------------\\n\\n\")\n",
    "\n",
    "performance_file.close()"
   ]
  },
  {
   "cell_type": "code",
   "execution_count": null,
   "metadata": {},
   "outputs": [],
   "source": [
    "# For sentiments classification\n",
    "sentiments_classifier_mlp_embedding = MLPClassifier()\n",
    "\n",
    "# Fit the model with training_X as X and columns of training_dataset as y\n",
    "sentiments_classifier_mlp_embedding.fit(X=training_X_sentiments_emb,\n",
    "                                      y=training_dataset[:, 2])\n",
    "\n",
    "# Make predictions with testing_X as X\n",
    "sentiments_prediction_mlp_embedding = sentiments_classifier_mlp_embedding.predict(\n",
    "    X=testing_X_sentiments_emb)\n",
    "print(sentiments_prediction_mlp_embedding)"
   ]
  },
  {
   "cell_type": "code",
   "execution_count": null,
   "metadata": {},
   "outputs": [],
   "source": [
    "# Append Sentiments results\n",
    "performance_file = open(\"performance\", \"a\")\n",
    "performance_file.write(\n",
    "    \"-----Sentiments classification (concept model) (Multi Layered Perception with word Embeddings)-----\\n\")\n",
    "\n",
    "performance_file.write(\n",
    "    f\"Sentiments hyperparameters = {sentiments_classifier_mlp_embedding.n_features_in_}\\n\")\n",
    "\n",
    "confusion_matrix_output = confusion_matrix(\n",
    "    y_true=testing_dataset[:, 2], y_pred=sentiments_prediction_mlp_embedding)\n",
    "performance_file.write(f\"Confusion Matrix = \\n{confusion_matrix_output}\\n\\n\")\n",
    "\n",
    "class_report = classification_report(\n",
    "    y_true=testing_dataset[:, 2], y_pred=sentiments_prediction_mlp_embedding, zero_division=0)\n",
    "performance_file.write(f\"Classification Report = \\n{class_report}\\n\")\n",
    "performance_file.write(\n",
    "    f\"----------------------------------------------------------\\n\\n\")\n",
    "\n",
    "performance_file.close()\n"
   ]
  },
  {
   "cell_type": "markdown",
   "metadata": {},
   "source": [
    "Using the Twitter (`glove-twitter-100`) Model from the gensim repo https://github.com/RaRe-Technologies/gensim-data"
   ]
  },
  {
   "cell_type": "code",
   "execution_count": null,
   "metadata": {},
   "outputs": [],
   "source": [
    "# Repetition of 3.3 to 3.7 using the twitter model\n",
    "# Tokenization has been done in 3.2 so will reuse that code \n",
    "# phrase_token_vector = [nltk.tokenize.word_tokenize(i) for i in phrases]\n",
    "# emotions_and_phrases_token_vector = [nltk.tokenize.word_tokenize(i) for i in emotions_and_phrases]\n"
   ]
  },
  {
   "cell_type": "code",
   "execution_count": null,
   "metadata": {},
   "outputs": [],
   "source": [
    "mean_embedding_list_emotions = []\n",
    "for i in phrase_token_vector:\n",
    "    mean_embedding_list_emotions.append(twitter_model.get_mean_vector(i))\n",
    "\n",
    "mean_embedding_list_sentiments = []\n",
    "for i in emotions_and_phrases_token_vector:\n",
    "    mean_embedding_list_sentiments.append(twitter_model.get_mean_vector(i))\n"
   ]
  },
  {
   "cell_type": "code",
   "execution_count": null,
   "metadata": {},
   "outputs": [],
   "source": [
    "# Split the tokens (to get the hit rate)\n",
    "training_phrase_token, testing_phrase_token = train_test_split(\n",
    "    phrase_token_vector, train_size=0.8, test_size=0.2)\n",
    "\n",
    "training_emotions_and_phrases_token, testing_emotions_and_phrases_token = train_test_split(\n",
    "    emotions_and_phrases_token_vector, train_size=0.8, test_size=0.2)\n",
    "\n",
    "\n",
    "# Split the mean embedding list for both eomtions and sentiments (the X values)\n",
    "training_X_emotions_emb, testing_X_emotions_emb = train_test_split(\n",
    "    mean_embedding_list_emotions, train_size=0.8, test_size=0.2)\n",
    "\n",
    "training_X_sentiments_emb, testing_X_sentiments_emb = train_test_split(\n",
    "    mean_embedding_list_sentiments, train_size=0.8, test_size=0.2)\n"
   ]
  },
  {
   "cell_type": "code",
   "execution_count": null,
   "metadata": {},
   "outputs": [],
   "source": [
    "# Hit Rate for phrases training set\n",
    "num_of_hits = 0\n",
    "total = 0\n",
    "\n",
    "for i in training_phrase_token:\n",
    "    for word in i:\n",
    "        try:\n",
    "            # pdb.set_trace()\n",
    "            twitter_model.key_to_index[word]\n",
    "            num_of_hits += 1\n",
    "        except Exception:\n",
    "            pass\n",
    "        total += 1\n",
    "\n",
    "print(f\"Hit Rate in training set (phrases) = {num_of_hits/total*100}%\")\n",
    "\n",
    "\n",
    "# Hit Rate for phrases testing set\n",
    "num_of_hits = 0\n",
    "total = 0\n",
    "\n",
    "for i in testing_phrase_token:\n",
    "    for word in i:\n",
    "        try:\n",
    "            # pdb.set_trace()\n",
    "            twitter_model.key_to_index[word]\n",
    "            num_of_hits += 1\n",
    "        except Exception:\n",
    "            pass\n",
    "        total += 1\n",
    "\n",
    "print(f\"Hit Rate in testing set (phrases) = {num_of_hits/total*100}%\")\n",
    "\n",
    "# Hit Rate for phrases and emotions training set\n",
    "num_of_hits = 0\n",
    "total = 0\n",
    "\n",
    "for i in training_emotions_and_phrases_token:\n",
    "    for word in i:\n",
    "        try:\n",
    "            # pdb.set_trace()\n",
    "            twitter_model.key_to_index[word]\n",
    "            num_of_hits += 1\n",
    "        except Exception:\n",
    "            pass\n",
    "        total += 1\n",
    "\n",
    "print(f\"Hit Rate in training set (phrases and emotions) = {num_of_hits/total*100}%\")\n",
    "\n",
    "\n",
    "# Hit Rate for phrases and emotions testing set\n",
    "num_of_hits = 0\n",
    "total = 0\n",
    "\n",
    "for i in testing_emotions_and_phrases_token:\n",
    "    for word in i:\n",
    "        try:\n",
    "            # pdb.set_trace()\n",
    "            twitter_model.key_to_index[word]\n",
    "            num_of_hits += 1\n",
    "        except Exception:\n",
    "            pass\n",
    "        total += 1\n",
    "\n",
    "print(f\"Hit Rate in testing set (phrases and emotions) = {num_of_hits/total*100}%\")\n"
   ]
  },
  {
   "cell_type": "code",
   "execution_count": null,
   "metadata": {},
   "outputs": [],
   "source": [
    "# For emotions classification\n",
    "emotions_classifier_mlp_embedding = MLPClassifier()\n",
    "\n",
    "# Fit the model with training_X as X and columns of training_dataset as y\n",
    "emotions_classifier_mlp_embedding.fit(X=training_X_emotions_emb,\n",
    "                                      y=training_dataset[:, 1])\n",
    "\n",
    "# Make predictions with testing_X as X\n",
    "emotion_prediction_mlp_embedding = emotions_classifier_mlp_embedding.predict(\n",
    "    X=testing_X_emotions_emb)\n",
    "print(emotion_prediction_mlp_embedding)"
   ]
  },
  {
   "cell_type": "code",
   "execution_count": null,
   "metadata": {},
   "outputs": [],
   "source": [
    "# Append Emotions results\n",
    "performance_file = open(\"performance\", \"a\")\n",
    "performance_file.write(\n",
    "    \"-----Emotions classification (twitter model) (Multi Layered Perception with word Embeddings)-----\\n\")\n",
    "\n",
    "performance_file.write(\n",
    "    f\"Emotions hyperparameters = {emotions_classifier_mlp_embedding.n_features_in_}\\n\")\n",
    "\n",
    "confusion_matrix_output = confusion_matrix(\n",
    "    y_true=testing_dataset[:, 1], y_pred=emotion_prediction_mlp_embedding)\n",
    "performance_file.write(f\"Confusion Matrix = \\n{confusion_matrix_output}\\n\\n\")\n",
    "\n",
    "class_report = classification_report(\n",
    "    y_true=testing_dataset[:, 1], y_pred=emotion_prediction_mlp_embedding, zero_division=0)\n",
    "performance_file.write(f\"Classification Report = \\n{class_report}\\n\")\n",
    "performance_file.write(\n",
    "    f\"----------------------------------------------------------\\n\\n\")\n",
    "\n",
    "performance_file.close()"
   ]
  },
  {
   "cell_type": "code",
   "execution_count": null,
   "metadata": {},
   "outputs": [],
   "source": [
    "# For sentiments classification\n",
    "sentiments_classifier_mlp_embedding = MLPClassifier()\n",
    "\n",
    "# Fit the model with training_X as X and columns of training_dataset as y\n",
    "sentiments_classifier_mlp_embedding.fit(X=training_X_sentiments_emb,\n",
    "                                      y=training_dataset[:, 2])\n",
    "\n",
    "# Make predictions with testing_X as X\n",
    "sentiments_prediction_mlp_embedding = sentiments_classifier_mlp_embedding.predict(\n",
    "    X=testing_X_sentiments_emb)\n",
    "print(sentiments_prediction_mlp_embedding)"
   ]
  },
  {
   "cell_type": "code",
   "execution_count": null,
   "metadata": {},
   "outputs": [],
   "source": [
    "# Append Sentiments results\n",
    "performance_file = open(\"performance\", \"a\")\n",
    "performance_file.write(\n",
    "    \"-----Sentiments classification (twitter model) (Multi Layered Perception with word Embeddings)-----\\n\")\n",
    "\n",
    "performance_file.write(\n",
    "    f\"Sentiments hyperparameters = {sentiments_classifier_mlp_embedding.n_features_in_}\\n\")\n",
    "\n",
    "confusion_matrix_output = confusion_matrix(\n",
    "    y_true=testing_dataset[:, 2], y_pred=sentiments_prediction_mlp_embedding)\n",
    "performance_file.write(f\"Confusion Matrix = \\n{confusion_matrix_output}\\n\\n\")\n",
    "\n",
    "class_report = classification_report(\n",
    "    y_true=testing_dataset[:, 2], y_pred=sentiments_prediction_mlp_embedding, zero_division=0)\n",
    "performance_file.write(f\"Classification Report = \\n{class_report}\\n\")\n",
    "performance_file.write(\n",
    "    f\"----------------------------------------------------------\\n\\n\")\n",
    "\n",
    "performance_file.close()\n"
   ]
  }
 ],
 "metadata": {
  "kernelspec": {
   "display_name": "Python 3.9.12 ('base')",
   "language": "python",
   "name": "python3"
  },
  "language_info": {
   "codemirror_mode": {
    "name": "ipython",
    "version": 3
   },
   "file_extension": ".py",
   "mimetype": "text/x-python",
   "name": "python",
   "nbconvert_exporter": "python",
   "pygments_lexer": "ipython3",
   "version": "3.9.12"
  },
  "orig_nbformat": 4,
  "vscode": {
   "interpreter": {
    "hash": "cba032392a64356f8a966ab10381b4d5769feeef7791e19de1420d493f752a7b"
   }
  }
 },
 "nbformat": 4,
 "nbformat_minor": 2
}
